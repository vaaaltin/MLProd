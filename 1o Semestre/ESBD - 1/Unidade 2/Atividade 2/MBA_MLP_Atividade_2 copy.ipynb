{
  "nbformat": 4,
  "nbformat_minor": 0,
  "metadata": {
    "colab": {
      "provenance": []
    },
    "kernelspec": {
      "name": "python3",
      "display_name": "Python 3"
    },
    "language_info": {
      "name": "python"
    }
  },
  "cells": [
    {
      "cell_type": "markdown",
      "metadata": {
        "id": "PbbRKwGjhPwB"
      },
      "source": [
        "# **Atividade 2**\n",
        "\n",
        "O código abaixo é responsável por gerar a rede de amigos descrita no enunciado da atividade 2. As únicas partes que devem ser alteradas neste código são: (i) a função `_search` e (ii) os parâmetros (números de vértices e arestas) da função que gera a rede. O entendimento do código é bem importante e pode facilitar na implementação."
      ]
    },
    {
      "cell_type": "code",
      "metadata": {
        "id": "Sy4Z7P9mdhxs",
        "colab": {
          "base_uri": "https://localhost:8080/"
        },
        "outputId": "2822b844-bc0f-4bef-f3d2-de51fe892314"
      },
      "source": [
        "import random\n",
        "import uuid\n",
        "\n",
        "\n",
        "class Person(object):\n",
        "\n",
        "    def __init__(self, uid, s_type):\n",
        "        self._uid = uid\n",
        "        self._s_type = s_type\n",
        "\n",
        "    def get_uid(self):\n",
        "        return self._uid\n",
        "    \n",
        "    def get_s_type(self):\n",
        "        return self._s_type\n",
        "\n",
        "\n",
        "class FriendNetwork(object):\n",
        "\n",
        "    def __init__(self, people_num, connections_num):\n",
        "        self._people_num = people_num\n",
        "        self._connections_num = connections_num\n",
        "        self._graph = self._generate_graph()\n",
        "\n",
        "    def _generate_graph(self):\n",
        "\n",
        "        people = []\n",
        "        for person_index in range(self._people_num):\n",
        "            uid = str(uuid.uuid4())\n",
        "            s_type = 'female' if person_index < (self._people_num // 2)  else 'male'\n",
        "            people.append(Person(uid, s_type))\n",
        "\n",
        "        conn_num = 0\n",
        "        graph = {}\n",
        "        graph_aux = {} # criando um grafo auxiliar para agilizar algumas buscas\n",
        "        while conn_num < self._connections_num:\n",
        "            person, friend = random.sample(people, 2)\n",
        "            person_uid = person.get_uid()\n",
        "            friend_uid = friend.get_uid()\n",
        "\n",
        "            if person_uid not in graph:\n",
        "                graph[person_uid] = {\n",
        "                    'this': person,\n",
        "                    'friends': []\n",
        "                }\n",
        "                # criando um índice auxiliar para os vizinhos de cada vértice inserido no grafo\n",
        "                graph_aux[person_uid] = {}\n",
        "\n",
        "            if friend_uid not in graph:\n",
        "                graph[friend_uid] = {\n",
        "                    'this': friend,\n",
        "                    'friends': []\n",
        "                }\n",
        "                # criando um índice auxiliar para os vizinhos de cada vértice inserido no grafo\n",
        "                graph_aux[friend_uid] = {} \n",
        "\n",
        "            # if person_uid == friend_uid or \\\n",
        "            #     friend in graph[person_uid]['friends']: # fazer essa verificação em um índice auxiliar\n",
        "            #     continue\n",
        "            if person_uid == friend_uid or \\\n",
        "                friend_uid in graph_aux[person_uid]: # fazer essa verificação em um índice auxiliar\n",
        "                continue\n",
        "\n",
        "            graph[person_uid]['friends'].append(friend)\n",
        "            graph[friend_uid]['friends'].append(person)\n",
        "            # adicionar vizinho também nos índices do grafo auxiliar\n",
        "            graph_aux[person_uid][friend_uid] = True\n",
        "            graph_aux[friend_uid][person_uid] = True\n",
        "            conn_num += 1\n",
        "\n",
        "        people_to_remove = []\n",
        "        for person_uid in graph:\n",
        "            friends_types = [*map(lambda p: p.get_s_type(), graph[person_uid]['friends'])]\n",
        "            person_type = graph[person_uid]['this'].get_s_type()\n",
        "            if ('male' not in friends_types or 'female' not in friends_types) and person_type in friends_types:\n",
        "                people_to_remove.append({'person_uid': person_uid, 'remove_from': graph[person_uid]['friends']})\n",
        "\n",
        "        for person_props in people_to_remove:\n",
        "            for friend in person_props['remove_from']:\n",
        "                person_index = [*map(lambda friend: friend.get_uid(),\n",
        "                    graph[friend.get_uid()]['friends'])].index(person_props['person_uid'])\n",
        "                del graph[friend.get_uid()]['friends'][person_index]\n",
        "            del graph[person_props['person_uid']]\n",
        "\n",
        "        return graph\n",
        "    \n",
        "    def get_person_by_uid(self, uid):\n",
        "        return self._graph[uid]['this']\n",
        "\n",
        "    def _search(self, person_uid, friend_uid):\n",
        "        '''\n",
        "        TODO\n",
        "        \n",
        "        Esta função DEVE retornar uma lista com o caminho (incluindo origem e destino)\n",
        "        percorrido para encontrar o friend_uid partindo do person_uid\n",
        "        '''\n",
        "\n",
        "    def get_separation_degree(self):\n",
        "       \n",
        "        total_paths_len = 0\n",
        "        for _ in range(100):\n",
        "            person_uid, friend_uid = random.sample([*self._graph.keys()], 2)\n",
        "            path = self._search(person_uid, friend_uid)\n",
        "            total_paths_len += len(path) - 1\n",
        "\n",
        "        return total_paths_len / 100\n",
        "\n",
        "\n",
        "if __name__ == '__main__':\n",
        "\n",
        "    friend_network = FriendNetwork(10000, 20000000)\n",
        "    separation_degree = friend_network.get_separation_degree()\n",
        "    print(separation_degree)\n"
      ],
      "execution_count": null,
      "outputs": [
        {
          "output_type": "stream",
          "text": [
            "1.58\n"
          ],
          "name": "stdout"
        }
      ]
    }
  ]
}