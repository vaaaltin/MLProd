{
  "nbformat": 4,
  "nbformat_minor": 0,
  "metadata": {
    "colab": {
      "provenance": []
    },
    "kernelspec": {
      "name": "python3",
      "display_name": "Python 3"
    },
    "language_info": {
      "name": "python"
    }
  },
  "cells": [
    {
      "cell_type": "markdown",
      "metadata": {
        "id": "tl9b9CLWXG6q"
      },
      "source": [
        "# **Árvores**\n",
        "\n",
        "O uso de árvores em computação pode ser muito apropriado quando precisa-se manter constantes baixas para operações de inserção, busca, entre outras.\n",
        "\n",
        "**Importante:** para as constantes permanecerem baixas as arvores devem estar balanceadas.\n",
        "\n",
        "Para a manipulação de árvores será utilizada a biblioteca bintrees. O comando abaixo é responsável pela instalação desta biblioteca."
      ]
    },
    {
      "cell_type": "code",
      "metadata": {
        "colab": {
          "base_uri": "https://localhost:8080/"
        },
        "id": "KomFgt31XvLY",
        "outputId": "18406706-bcfa-4bf3-eabf-9fc80cbbc877"
      },
      "source": [
        "!pip install bintrees"
      ],
      "execution_count": null,
      "outputs": [
        {
          "output_type": "stream",
          "text": [
            "Collecting bintrees\n",
            "\u001b[?25l  Downloading https://files.pythonhosted.org/packages/a1/1f/e76488f335e532dc0bbc90336fe35f9a99a030964b05a9f2106ae03006db/bintrees-2.2.0.zip (108kB)\n",
            "\r\u001b[K     |███                             | 10kB 11.8MB/s eta 0:00:01\r\u001b[K     |██████                          | 20kB 14.9MB/s eta 0:00:01\r\u001b[K     |█████████                       | 30kB 16.8MB/s eta 0:00:01\r\u001b[K     |████████████                    | 40kB 18.5MB/s eta 0:00:01\r\u001b[K     |███████████████▏                | 51kB 18.8MB/s eta 0:00:01\r\u001b[K     |██████████████████▏             | 61kB 19.9MB/s eta 0:00:01\r\u001b[K     |█████████████████████▏          | 71kB 18.0MB/s eta 0:00:01\r\u001b[K     |████████████████████████▏       | 81kB 16.6MB/s eta 0:00:01\r\u001b[K     |███████████████████████████▎    | 92kB 16.5MB/s eta 0:00:01\r\u001b[K     |██████████████████████████████▎ | 102kB 16.0MB/s eta 0:00:01\r\u001b[K     |████████████████████████████████| 112kB 16.0MB/s \n",
            "\u001b[?25hBuilding wheels for collected packages: bintrees\n",
            "  Building wheel for bintrees (setup.py) ... \u001b[?25l\u001b[?25hdone\n",
            "  Created wheel for bintrees: filename=bintrees-2.2.0-cp37-cp37m-linux_x86_64.whl size=183773 sha256=195b975ffb9c3114d652f8dc1d68c0202ae75303a6b84ed85469afea91d6d31e\n",
            "  Stored in directory: /root/.cache/pip/wheels/b1/4c/7e/8f98694a18ab570d41b10d87f860fb7205771e45230252bbe3\n",
            "Successfully built bintrees\n",
            "Installing collected packages: bintrees\n",
            "Successfully installed bintrees-2.2.0\n"
          ],
          "name": "stdout"
        }
      ]
    },
    {
      "cell_type": "markdown",
      "metadata": {
        "id": "Dc0HsYvmbWtc"
      },
      "source": [
        "## **Operações Básicas**\n",
        "\n",
        "chave, conteúdo "
      ]
    },
    {
      "cell_type": "code",
      "metadata": {
        "colab": {
          "base_uri": "https://localhost:8080/"
        },
        "id": "pXhvabH5aiAU",
        "outputId": "4a4270d3-94e2-4eca-f421-5fb43ab2bc7d"
      },
      "source": [
        "from bintrees import AVLTree\n",
        "\n",
        "\n",
        "# declarando Árvore Binária Balanceada\n",
        "tree = AVLTree()\n",
        "\n",
        "# inserindo dados na árvore\n",
        "tree.insert(0, 50)\n",
        "tree.insert(1, 55)\n",
        "tree.insert(2, 60)\n",
        "tree.insert(3, 65)\n",
        "tree.insert(4, 70)\n",
        "\n",
        "# removendo dados da árvores\n",
        "tree.remove(3)\n",
        "tree.remove(4)\n",
        "\n",
        "# retornando valores na árvore\n",
        "value = tree.get(2)\n",
        "print(\"valor do elemento com chave 2 =\", value)\n",
        "\n",
        "# valor mínimo na árvore\n",
        "min_item = tree.min_item()\n",
        "print(\"menor elemento =\", min_item)\n",
        "\n",
        "# valor máximo na árvore\n",
        "max_item = tree.max_item()\n",
        "print(\"maior elemento =\", max_item)\n",
        "\n",
        "# sucessor na árvore\n",
        "succ_item = tree.succ_item(1)\n",
        "print(\"sucessor do elemento 1 =\", succ_item)\n",
        "\n",
        "# antecessor na árvore\n",
        "prev_item = tree.prev_item(1)\n",
        "print(\"predecessor do elemento 1 =\", prev_item)"
      ],
      "execution_count": null,
      "outputs": [
        {
          "output_type": "stream",
          "text": [
            "valor do elemento com chave 2 = 60\n",
            "menor elemento = (0, 50)\n",
            "maior elemento = (2, 60)\n",
            "sucessor do elemento 1 = (2, 60)\n",
            "predecessor do elemento 1 = (0, 50)\n"
          ],
          "name": "stdout"
        }
      ]
    },
    {
      "cell_type": "markdown",
      "metadata": {
        "id": "szqxvHi2Isap"
      },
      "source": [
        "# **Dicionários**\n",
        "\n",
        "Em Python, a utilização de dicionários para indexação de dados é muito comum. Com ela é possível aumentar a performance de algumas tarefas como buscas e inserções (no melhor caso, O(1)), além de manter dados relacionados melhor organizados dentro da aplicação.\n",
        "\n",
        "**Importante**: dicionários em Python são estruturas não ordenadas.\n",
        "\n",
        "Abaixo encontram-se alguns exemplos de uso dessa estrutura."
      ]
    },
    {
      "cell_type": "markdown",
      "metadata": {
        "id": "SkR2A1SjKOXy"
      },
      "source": [
        "## **Operações Básicas**\n",
        "\n",
        "### Declararando dicionários\n",
        "\n",
        "chave : conteúdo"
      ]
    },
    {
      "cell_type": "code",
      "metadata": {
        "colab": {
          "base_uri": "https://localhost:8080/"
        },
        "id": "MLg6JdTGHhOm",
        "outputId": "646490af-ed7e-4805-cacc-8f0aa4e6fe43"
      },
      "source": [
        "# declarando dict vazio\n",
        "empty_dict = {}\n",
        "other_empty_dict = dict()\n",
        "\n",
        "print(\"empty_dict =\", empty_dict)\n",
        "print(\"other_empty_dict =\", other_empty_dict)\n",
        "\n",
        "# declarando dict de vogais em ordem alfabética\n",
        "people = {\n",
        "    'a': 1,\n",
        "    'e': 2,\n",
        "    'i': 3,\n",
        "    'o': 4,\n",
        "    'u': 5\n",
        "}\n",
        "\n",
        "print(\"people =\", people)\n",
        "\n",
        "# declarando dict com dados de filmes\n",
        "movies = {\n",
        "    '1234': {'name': 'Filme 1', 'year': '2000'},\n",
        "    '5678': {'name': 'Filme 2', 'year': '2002'}\n",
        "}\n",
        "\n",
        "print(\"movies =\", movies)"
      ],
      "execution_count": null,
      "outputs": [
        {
          "output_type": "stream",
          "text": [
            "empty_dict = {}\n",
            "other_empty_dict = {}\n",
            "people = {'a': 1, 'e': 2, 'i': 3, 'o': 4, 'u': 5}\n",
            "movies = {'1234': {'name': 'Filme 1', 'year': '2000'}, '5678': {'name': 'Filme 2', 'year': '2002'}}\n"
          ],
          "name": "stdout"
        }
      ]
    },
    {
      "cell_type": "markdown",
      "metadata": {
        "id": "ZhSLMpZUOqZe"
      },
      "source": [
        "### Inserindo dados em dicionários"
      ]
    },
    {
      "cell_type": "code",
      "metadata": {
        "colab": {
          "base_uri": "https://localhost:8080/"
        },
        "id": "RHlkkWDrOz97",
        "outputId": "f9c54d68-86f0-4ea3-81b8-d9061b4f4d6d"
      },
      "source": [
        "# inserindo dados de filmes em dict\n",
        "movies['9101'] = {'name': 'Filme 3', 'year': '2004'}\n",
        "\n",
        "print(\"movies =\", movies)\n",
        "\n",
        "# também é possível inserir ou fazer merge de dados utilizando o método .update\n",
        "movies.update({\n",
        "    '1121': {'name': 'Filme 4', 'year': '2005'}\n",
        "})\n",
        "\n",
        "print(\"movies =\", movies)"
      ],
      "execution_count": null,
      "outputs": [
        {
          "output_type": "stream",
          "text": [
            "movies = {'1234': {'name': 'Filme 1', 'year': '2000'}, '5678': {'name': 'Filme 2', 'year': '2002'}, '9101': {'name': 'Filme 3', 'year': '2004'}}\n",
            "movies = {'1234': {'name': 'Filme 1', 'year': '2000'}, '5678': {'name': 'Filme 2', 'year': '2002'}, '9101': {'name': 'Filme 3', 'year': '2004'}, '1121': {'name': 'Filme 4', 'year': '2005'}}\n"
          ],
          "name": "stdout"
        }
      ]
    },
    {
      "cell_type": "markdown",
      "metadata": {
        "id": "fkspFsxGQEpN"
      },
      "source": [
        "### Removendo dados em dicionários\n"
      ]
    },
    {
      "cell_type": "code",
      "metadata": {
        "colab": {
          "base_uri": "https://localhost:8080/"
        },
        "id": "ptEWln9IQHQ4",
        "outputId": "2d4421d4-a718-4e6b-c0dc-0c15ed682fad"
      },
      "source": [
        "# removendo dados de filmes em dict através de chave\n",
        "movies.pop('1121')\n",
        "\n",
        "print(\"movies =\", movies)\n",
        "\n",
        "# removendo último dado inserido\n",
        "movies.popitem()\n",
        "\n",
        "print(\"movies =\", movies)\n",
        "\n",
        "# deletando chave através da keyword del\n",
        "del movies['5678']\n",
        "\n",
        "print(\"movies =\", movies)\n"
      ],
      "execution_count": null,
      "outputs": [
        {
          "output_type": "stream",
          "text": [
            "movies = {'1234': {'name': 'Filme 1', 'year': '2000'}, '5678': {'name': 'Filme 2', 'year': '2002'}, '9101': {'name': 'Filme 3', 'year': '2004'}}\n",
            "movies = {'1234': {'name': 'Filme 1', 'year': '2000'}, '5678': {'name': 'Filme 2', 'year': '2002'}}\n",
            "movies = {'1234': {'name': 'Filme 1', 'year': '2000'}}\n"
          ],
          "name": "stdout"
        }
      ]
    },
    {
      "cell_type": "markdown",
      "metadata": {
        "id": "3-1hiRGlR92r"
      },
      "source": [
        "### Buscando dados em dicionários"
      ]
    },
    {
      "cell_type": "code",
      "metadata": {
        "colab": {
          "base_uri": "https://localhost:8080/"
        },
        "id": "I-t2XFHJSCS4",
        "outputId": "e276000a-d699-4fa0-ef90-53802765b1a8"
      },
      "source": [
        "# causa exceção se a chave não for encontrada\n",
        "movie_info = movies['1234']\n",
        "\n",
        "print(\"infomações do filme 1234 =\", movie_info)\n",
        "\n",
        "# retorna o segundo parametro se a chave não for encontrada\n",
        "movie_info = movies.get('123', {})\n",
        "\n",
        "print(\"infomações do filme 1234 =\", movie_info)"
      ],
      "execution_count": null,
      "outputs": [
        {
          "output_type": "stream",
          "text": [
            "infomações do filme 1234 = {'name': 'Filme 1', 'year': '2000'}\n",
            "infomações do filme 1234 = {}\n"
          ],
          "name": "stdout"
        }
      ]
    },
    {
      "cell_type": "markdown",
      "metadata": {
        "id": "1c497pGcSouq"
      },
      "source": [
        "### Dict Comprehension"
      ]
    },
    {
      "cell_type": "code",
      "metadata": {
        "colab": {
          "base_uri": "https://localhost:8080/"
        },
        "id": "doIKPrGWS3sb",
        "outputId": "e674083c-ad2d-4d40-be5e-8e60cf9b362f"
      },
      "source": [
        "# função auxiliar - retorna hexadecimal de cor a partir do nome\n",
        "def get_color_hex(color_name):\n",
        "\n",
        "    if color_name == 'red':\n",
        "        return '#FF0000'\n",
        "    elif color_name == 'green':\n",
        "        return '#00FF00'\n",
        "    elif color_name == 'blue':\n",
        "        return '#0000FF'\n",
        "    return 'color not found'\n",
        "\n",
        "\n",
        "color_names = ['red', 'green', 'blue']\n",
        "\n",
        "\n",
        "# declarando dicionários usando forma reduzida (dict comprehension)\n",
        "color_info = {color_name: get_color_hex(color_name) for color_name in color_names}\n",
        "\n",
        "print(color_info)"
      ],
      "execution_count": null,
      "outputs": [
        {
          "output_type": "stream",
          "text": [
            "{'red': '#FF0000', 'green': '#00FF00', 'blue': '#0000FF'}\n"
          ],
          "name": "stdout"
        }
      ]
    },
    {
      "cell_type": "markdown",
      "metadata": {
        "id": "TlZuIOt-Uas_"
      },
      "source": [
        "### Valores mínimos e máximos"
      ]
    },
    {
      "cell_type": "code",
      "metadata": {
        "colab": {
          "base_uri": "https://localhost:8080/"
        },
        "id": "lmTBtn4yUicy",
        "outputId": "31e67e64-6e06-47a4-c92d-81df4f463fbd"
      },
      "source": [
        "# menor chave do dicionário\n",
        "def dict_min_key(d):\n",
        "    return min(d.keys())\n",
        "\n",
        "\n",
        "# maior chave do dicionário\n",
        "def dict_max_key(d):\n",
        "    return max(d.keys())\n",
        "\n",
        "\n",
        "# menor valor do dicionário\n",
        "def dict_min_value(d):\n",
        "    return min(d.values())\n",
        "\n",
        "\n",
        "# maior valor do dicionário\n",
        "def dict_max_value(d):\n",
        "    return max(d.values())\n",
        "\n",
        "\n",
        "# ordem de algumas letras do alfabeto\n",
        "alphabet_order = {\n",
        "    1: 'a',\n",
        "    2: 'b',\n",
        "    3: 'c',\n",
        "    4: 'd',\n",
        "    5: 'e',\n",
        "    6: 'f',\n",
        "    7: 'g'\n",
        "}\n",
        "\n",
        "min_key = dict_min_key(alphabet_order)\n",
        "max_key = dict_max_key(alphabet_order)\n",
        "min_value = dict_min_value(alphabet_order)\n",
        "max_value = dict_max_value(alphabet_order)\n",
        "\n",
        "print(\"min_key =\", min_key, \"; max_key =\", max_key, \"; min_value =\", min_value, \"; max_value =\", max_value)\n"
      ],
      "execution_count": null,
      "outputs": [
        {
          "output_type": "stream",
          "text": [
            "min_key = 1 ; max_key = 7 ; min_value = a ; max_value = g\n"
          ],
          "name": "stdout"
        }
      ]
    },
    {
      "cell_type": "markdown",
      "metadata": {
        "id": "5fD9QsH8fR8z"
      },
      "source": [
        "# **Benchmark**\n",
        "\n",
        "Comparando desempenho de Árvores Balanceadas e Dicionários"
      ]
    },
    {
      "cell_type": "code",
      "metadata": {
        "colab": {
          "base_uri": "https://localhost:8080/"
        },
        "id": "CiKpgKcFfwnB",
        "outputId": "c8e70331-d952-4c94-a21a-8cea0b504973"
      },
      "source": [
        "import time\n",
        "\n",
        "\n",
        "tree = AVLTree()\n",
        "d = {}\n",
        "\n",
        "\n",
        "# inserções\n",
        "start = time.time()\n",
        "for i in range(200_000):\n",
        "    tree.insert(i, i)\n",
        "diff_time = time.time() - start\n",
        "\n",
        "print(f'Tree Insertion: {diff_time}s')\n",
        "\n",
        "start = time.time()\n",
        "for i in range(200_000):\n",
        "    d[i] = i\n",
        "diff_time = time.time() - start\n",
        "\n",
        "print(f'Dict Insertion: {diff_time}s')\n",
        "\n",
        "\n",
        "# buscas\n",
        "value = -1\n",
        "key = 199_999\n",
        "start = time.time()\n",
        "for _ in range(10_000):\n",
        "    value = tree.get(key)\n",
        "diff_time = time.time() - start\n",
        "\n",
        "print(f'Tree Lookup {diff_time}s')\n",
        "\n",
        "value = -1\n",
        "key = 199_999\n",
        "start = time.time()\n",
        "for _ in range(10_000):\n",
        "    value = d.get(key)\n",
        "diff_time = time.time() - start\n",
        "\n",
        "print(f'Dict Lookup {diff_time}s')\n",
        "\n",
        "\n",
        "# valor mínimo\n",
        "start = time.time()\n",
        "for _ in range(10_000):\n",
        "    value = tree.min_item()\n",
        "diff_time = time.time() - start\n",
        "\n",
        "print(f'Tree Min Value {diff_time}s')\n",
        "\n",
        "start = time.time()\n",
        "for _ in range(10_000):\n",
        "    value = dict_min_value(d)\n",
        "diff_time = time.time() - start\n",
        "\n",
        "print(f'Dict Min Value {diff_time}s')\n",
        "\n",
        "\n",
        "# valor máximo\n",
        "start = time.time()\n",
        "for _ in range(10_000):\n",
        "    value = tree.max_item()\n",
        "diff_time = time.time() - start\n",
        "\n",
        "print(f'Tree Max Value {diff_time}s')\n",
        "\n",
        "start = time.time()\n",
        "for _ in range(10_000):\n",
        "    value = dict_max_value(d)\n",
        "diff_time = time.time() - start\n",
        "\n",
        "print(f'Dict Max Value {diff_time}s')"
      ],
      "execution_count": null,
      "outputs": [
        {
          "output_type": "stream",
          "text": [
            "Tree Insertion: 4.280831336975098s\n",
            "Dict Insertion: 0.0398256778717041s\n",
            "Tree Lookup 0.03173995018005371s\n",
            "Dict Lookup 0.0019643306732177734s\n",
            "Tree Min Value 0.017202377319335938s\n",
            "Dict Min Value 42.921048641204834s\n",
            "Tree Max Value 0.016977787017822266s\n"
          ],
          "name": "stdout"
        }
      ]
    }
  ]
}