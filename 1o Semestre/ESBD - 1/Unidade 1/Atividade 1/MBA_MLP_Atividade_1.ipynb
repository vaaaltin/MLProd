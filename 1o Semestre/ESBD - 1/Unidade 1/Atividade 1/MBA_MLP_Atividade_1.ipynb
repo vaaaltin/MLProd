{
  "cells": [
    {
      "cell_type": "markdown",
      "metadata": {
        "id": "dYXRA26pnJ1V"
      },
      "source": [
        "# **Atividade 1**\n",
        "\n",
        "Abaixo encontra-se a classe Dataset e os datasets gerados que serão usados na Atividade 1. As buscas pedidas na Atividade 1 serão feitas utilizando o método `search` da classe Dataset.\n",
        "\n",
        "Importante lembrar que o código da classe Dataset não precisa ser alterado. Recomenda-se leitura e entendimento do mesmo."
      ]
    },
    {
      "cell_type": "code",
      "execution_count": 4,
      "metadata": {
        "id": "TnVf2MycnFl6"
      },
      "outputs": [],
      "source": [
        "import time\n",
        "import random\n",
        "\n",
        "\n",
        "class Dataset(object):\n",
        "\n",
        "    def __init__(self, struct_type, size):\n",
        "        self.struct_type = struct_type\n",
        "        self.size = size\n",
        "        self.items = self._generate_dataset()\n",
        "\n",
        "    @staticmethod\n",
        "    def generate_cpf():\n",
        "    \n",
        "        cpf = [random.randint(0, 9) for x in range(11)]                              \n",
        "                                      \n",
        "        # for _ in range(2):                                                          \n",
        "        #     val = sum([(len(cpf) + 1 - i) * v for i, v in enumerate(cpf)]) % 11      \n",
        "                                                                                \n",
        "        #     cpf.append(11 - val if val > 1 else 0)                                  \n",
        "                                                                                \n",
        "        return '%s%s%s.%s%s%s.%s%s%s-%s%s' % tuple(cpf)\n",
        "\n",
        "    def _generate_dataset(self):\n",
        "\n",
        "        if self.struct_type == 'structure_1':\n",
        "            return sorted([Dataset.generate_cpf() for n in range(self.size)])\n",
        "\n",
        "        elif self.struct_type == 'structure_2':\n",
        "            return {Dataset.generate_cpf(): i for i, _ in enumerate(range(self.size))}\n",
        "        else:\n",
        "            raise Exception('struct_type must be \"structure_1\" or \"structure_2\"')\n",
        "\n",
        "    def _function_1(self, value):\n",
        "        \n",
        "        found = False\n",
        "        for item in self.items:\n",
        "\n",
        "            if item == value:\n",
        "                found = True\n",
        "                break\n",
        "\n",
        "        return found\n",
        "\n",
        "    def _function_2(self, value):\n",
        "        \n",
        "        start, end = 0, len(self.items) - 1\n",
        "\n",
        "        while start <= end:\n",
        "\n",
        "            mid = start + (end - start) // 2\n",
        "            if value > self.items[mid]:\n",
        "                start = mid + 1\n",
        "            elif value < self.items[mid]:\n",
        "                end = mid - 1\n",
        "            else:\n",
        "                return mid\n",
        "\n",
        "        return -1\n",
        "\n",
        "    def _function_3(self, value):\n",
        "        return self.items.get(value)\n",
        "\n",
        "    def search(self, value, search_type):\n",
        "\n",
        "        if self.struct_type == 'structure_1':\n",
        "\n",
        "            if search_type == 'function_1':\n",
        "                self._function_1(value)\n",
        "            elif search_type == 'function_2':\n",
        "                self._function_2(value)\n",
        "            else:\n",
        "                raise Exception('search_type of Structure1Dataset must be \"function_1\" or \"function_2\"')\n",
        "\n",
        "        elif self.struct_type == 'structure_2':\n",
        "\n",
        "            if search_type == 'function_3':\n",
        "                self._function_3(value)\n",
        "            else:\n",
        "                raise Exception('search_type of Structure2Dataset must be \"function_3\"')\n",
        "\n",
        "                "
      ]
    },
    {
      "cell_type": "markdown",
      "metadata": {
        "id": "MdH5uSMAfcnX"
      },
      "source": [
        "## *Exemplo de Criação dos Datasets*\n",
        "\n",
        "O exemplo abaixo será usado para executar **2 tipos de busca**: function_1 e function_2.\n",
        "\n"
      ]
    },
    {
      "cell_type": "code",
      "execution_count": 5,
      "metadata": {
        "id": "0HqP72aUoYRt"
      },
      "outputs": [],
      "source": [
        "structure_1_dataset_10 = Dataset('structure_1', 10)\n",
        "structure_1_dataset_100 = Dataset('structure_1', 100)\n",
        "structure_1_dataset_1000 = Dataset('structure_1', 1000)\n",
        "structure_1_dataset_10000 = Dataset('structure_1', 10000)\n",
        "structure_1_dataset_100000 = Dataset('structure_1', 100000)\n",
        "structure_1_dataset_1000000 = Dataset('structure_1', 1000000)"
      ]
    },
    {
      "cell_type": "markdown",
      "metadata": {
        "id": "q6hjS-swodTq"
      },
      "source": [
        "O exemplo abaixo será usado para executar **1 tipo de busca**: function_3\n"
      ]
    },
    {
      "cell_type": "code",
      "execution_count": 6,
      "metadata": {
        "id": "5v5R_dy5oh3T"
      },
      "outputs": [],
      "source": [
        "structure_2_dataset_10 = Dataset('structure_2', 10)\n",
        "structure_2_dataset_100 = Dataset('structure_2', 100)\n",
        "structure_2_dataset_1000 = Dataset('structure_2', 1000)\n",
        "structure_2_dataset_10000 = Dataset('structure_2', 10000)\n",
        "structure_2_dataset_100000 = Dataset('structure_2', 100000)\n",
        "structure_2_dataset_1000000 = Dataset('structure_2', 1000000)"
      ]
    },
    {
      "cell_type": "markdown",
      "metadata": {
        "id": "7uYEjXi5okvi"
      },
      "source": [
        "Cada teste envolverá um tamanho de conjunto de dados e uma função de busca. No mesmo serão realizadas **10000 buscas** por chaves geradas aleatoriamente e o **tempo total do teste** será colocado na tabela da Atividade 1.\n",
        "\n",
        "As função citadas no enunciado da Atividade 1 são, respectivamente: `function_1`, `function_2` e `function_3`. As buscas `function_1` e `function_2` devem ser executadas em datasets do tipo `structure_1` e buscas do tipo `function_3` devem ser executadas em datasets do tipo `structure_2`.\n",
        "\n",
        "Abaixo está o código para preenchimento da primeira linha da tabela:"
      ]
    },
    {
      "cell_type": "code",
      "execution_count": 7,
      "metadata": {
        "colab": {
          "base_uri": "https://localhost:8080/"
        },
        "id": "MjeZpWAMfa2i",
        "outputId": "0dde3ad2-5bcb-453c-811e-8f06ef621006"
      },
      "outputs": [],
      "source": [
        "def search(dataset, search_type):\n",
        "\n",
        "    # número de buscas, não mexer neste parâmetro\n",
        "    search_batch = 10_000\n",
        "\n",
        "    # gerando CPFs aleatórios para busca\n",
        "    cpf_to_search = [Dataset.generate_cpf() for _ in range(search_batch)]\n",
        "\n",
        "    start = time.time()\n",
        "    for i in range(search_batch): # buscando\n",
        "        dataset.search(cpf_to_search[i], search_type)\n",
        "    \n",
        "    return time.time() - start"
      ]
    },
    {
      "cell_type": "markdown",
      "metadata": {
        "id": "1sgdPoYw9T60"
      },
      "source": [
        "Tentem preencher o maior número de campos da tabela usando o exemplo visto neste documento. As dúvidas podem ser tiradas com os professores durante os horários de antendimento."
      ]
    },
    {
      "cell_type": "code",
      "execution_count": 10,
      "metadata": {},
      "outputs": [
        {
          "name": "stdout",
          "output_type": "stream",
          "text": [
            "structure_1_dataset_10  |  function_1  |  0.0029430389404296875\n",
            "structure_1_dataset_10  |  function_2  |  0.00391077995300293\n",
            "structure_2_dataset_10  |  function_3  |  0.001554727554321289\n",
            "structure_1_dataset_100  |  function_1  |  0.015403032302856445\n",
            "structure_1_dataset_100  |  function_2  |  0.006153583526611328\n",
            "structure_2_dataset_100  |  function_3  |  0.0016050338745117188\n",
            "structure_1_dataset_1000  |  function_1  |  0.1464245319366455\n",
            "structure_1_dataset_1000  |  function_2  |  0.011075496673583984\n",
            "structure_2_dataset_1000  |  function_3  |  0.0015227794647216797\n",
            "structure_1_dataset_10000  |  function_1  |  1.4999892711639404\n",
            "structure_1_dataset_10000  |  function_2  |  0.01330113410949707\n",
            "structure_2_dataset_10000  |  function_3  |  0.0016906261444091797\n",
            "structure_1_dataset_100000  |  function_1  |  21.836167335510254\n",
            "structure_1_dataset_100000  |  function_2  |  0.02030467987060547\n",
            "structure_2_dataset_100000  |  function_3  |  0.0026979446411132812\n",
            "structure_1_dataset_1000000  |  function_1  |  765.9714148044586\n",
            "structure_1_dataset_1000000  |  function_2  |  0.032370567321777344\n",
            "structure_2_dataset_1000000  |  function_3  |  0.004811525344848633\n"
          ]
        }
      ],
      "source": [
        "dir = {}\n",
        "exponencial = [10**(x+1) for x in range(6)]\n",
        "funcao_1 = []\n",
        "funcao_2 = []\n",
        "funcao_3 = []\n",
        "\n",
        "for expo in exponencial:\n",
        "    for funcao in ['function_1', 'function_2']:\n",
        "        var_pattern = 'structure_1_dataset_'+str(expo)\n",
        "        resultado = search(globals()[var_pattern], funcao)\n",
        "        if funcao == 'function_1':\n",
        "            funcao_1 += [resultado]\n",
        "        else:\n",
        "            funcao_2 += [resultado]\n",
        "        print(var_pattern, ' | ', funcao, ' | ', resultado)\n",
        "\n",
        "    \n",
        "    var_pattern = 'structure_2_dataset_'+str(expo)\n",
        "    resultado = search(globals()[var_pattern], 'function_3')\n",
        "    funcao_3 += [resultado]\n",
        "    print(var_pattern, ' | ', 'function_3', ' | ', resultado)\n",
        "    \n"
      ]
    },
    {
      "cell_type": "code",
      "execution_count": 37,
      "metadata": {},
      "outputs": [],
      "source": [
        "import pandas as pd\n",
        "\n",
        "df = pd.DataFrame(\n",
        "    {\n",
        "    'Conjunto': exponencial,\n",
        "    'Funcao_1': funcao_1,\n",
        "    'Funcao_2': funcao_2,\n",
        "    'Funcao_3': funcao_3\n",
        "    }\n",
        ")\n",
        "\n",
        "df.to_csv('table.csv')"
      ]
    },
    {
      "cell_type": "code",
      "execution_count": 36,
      "metadata": {},
      "outputs": [
        {
          "data": {
            "text/html": [
              "<div>\n",
              "<style scoped>\n",
              "    .dataframe tbody tr th:only-of-type {\n",
              "        vertical-align: middle;\n",
              "    }\n",
              "\n",
              "    .dataframe tbody tr th {\n",
              "        vertical-align: top;\n",
              "    }\n",
              "\n",
              "    .dataframe thead th {\n",
              "        text-align: right;\n",
              "    }\n",
              "</style>\n",
              "<table border=\"1\" class=\"dataframe\">\n",
              "  <thead>\n",
              "    <tr style=\"text-align: right;\">\n",
              "      <th></th>\n",
              "      <th>Conjunto</th>\n",
              "      <th>Funcao_1</th>\n",
              "      <th>Funcao_2</th>\n",
              "      <th>Funcao_3</th>\n",
              "    </tr>\n",
              "  </thead>\n",
              "  <tbody>\n",
              "    <tr>\n",
              "      <th>0</th>\n",
              "      <td>10</td>\n",
              "      <td>0.002943</td>\n",
              "      <td>0.003911</td>\n",
              "      <td>0.001555</td>\n",
              "    </tr>\n",
              "    <tr>\n",
              "      <th>1</th>\n",
              "      <td>100</td>\n",
              "      <td>0.015403</td>\n",
              "      <td>0.006154</td>\n",
              "      <td>0.001605</td>\n",
              "    </tr>\n",
              "    <tr>\n",
              "      <th>2</th>\n",
              "      <td>1000</td>\n",
              "      <td>0.146425</td>\n",
              "      <td>0.011075</td>\n",
              "      <td>0.001523</td>\n",
              "    </tr>\n",
              "    <tr>\n",
              "      <th>3</th>\n",
              "      <td>10000</td>\n",
              "      <td>1.499989</td>\n",
              "      <td>0.013301</td>\n",
              "      <td>0.001691</td>\n",
              "    </tr>\n",
              "    <tr>\n",
              "      <th>4</th>\n",
              "      <td>100000</td>\n",
              "      <td>21.836167</td>\n",
              "      <td>0.020305</td>\n",
              "      <td>0.002698</td>\n",
              "    </tr>\n",
              "    <tr>\n",
              "      <th>5</th>\n",
              "      <td>1000000</td>\n",
              "      <td>765.971415</td>\n",
              "      <td>0.032371</td>\n",
              "      <td>0.004812</td>\n",
              "    </tr>\n",
              "  </tbody>\n",
              "</table>\n",
              "</div>"
            ],
            "text/plain": [
              "   Conjunto    Funcao_1  Funcao_2  Funcao_3\n",
              "0        10    0.002943  0.003911  0.001555\n",
              "1       100    0.015403  0.006154  0.001605\n",
              "2      1000    0.146425  0.011075  0.001523\n",
              "3     10000    1.499989  0.013301  0.001691\n",
              "4    100000   21.836167  0.020305  0.002698\n",
              "5   1000000  765.971415  0.032371  0.004812"
            ]
          },
          "execution_count": 36,
          "metadata": {},
          "output_type": "execute_result"
        }
      ],
      "source": [
        "df"
      ]
    },
    {
      "cell_type": "code",
      "execution_count": 32,
      "metadata": {},
      "outputs": [
        {
          "data": {
            "application/vnd.plotly.v1+json": {
              "config": {
                "plotlyServerURL": "https://plot.ly"
              },
              "data": [
                {
                  "mode": "lines",
                  "name": "Funcao 1",
                  "type": "scatter",
                  "x": [
                    10,
                    100,
                    1000,
                    10000,
                    100000,
                    1000000
                  ],
                  "y": [
                    0.0029430389404296875,
                    0.015403032302856445,
                    0.1464245319366455,
                    1.4999892711639404,
                    21.836167335510254,
                    765.9714148044586
                  ]
                },
                {
                  "mode": "lines",
                  "name": "Funcao 2",
                  "type": "scatter",
                  "x": [
                    10,
                    100,
                    1000,
                    10000,
                    100000,
                    1000000
                  ],
                  "y": [
                    0.00391077995300293,
                    0.006153583526611328,
                    0.011075496673583984,
                    0.01330113410949707,
                    0.02030467987060547,
                    0.032370567321777344
                  ]
                },
                {
                  "mode": "lines",
                  "name": "Funcao 3",
                  "type": "scatter",
                  "x": [
                    10,
                    100,
                    1000,
                    10000,
                    100000,
                    1000000
                  ],
                  "y": [
                    0.001554727554321289,
                    0.0016050338745117188,
                    0.0015227794647216797,
                    0.0016906261444091797,
                    0.0026979446411132812,
                    0.004811525344848633
                  ]
                },
                {
                  "line": {
                    "color": "black",
                    "dash": "dash",
                    "width": 1
                  },
                  "mode": "lines",
                  "showlegend": false,
                  "type": "scatter",
                  "x": [
                    10,
                    10
                  ],
                  "y": [
                    0,
                    765.9714148044586
                  ]
                },
                {
                  "line": {
                    "color": "black",
                    "dash": "dash",
                    "width": 1
                  },
                  "mode": "lines",
                  "showlegend": false,
                  "type": "scatter",
                  "x": [
                    100,
                    100
                  ],
                  "y": [
                    0,
                    765.9714148044586
                  ]
                },
                {
                  "line": {
                    "color": "black",
                    "dash": "dash",
                    "width": 1
                  },
                  "mode": "lines",
                  "showlegend": false,
                  "type": "scatter",
                  "x": [
                    1000,
                    1000
                  ],
                  "y": [
                    0,
                    765.9714148044586
                  ]
                },
                {
                  "line": {
                    "color": "black",
                    "dash": "dash",
                    "width": 1
                  },
                  "mode": "lines",
                  "showlegend": false,
                  "type": "scatter",
                  "x": [
                    10000,
                    10000
                  ],
                  "y": [
                    0,
                    765.9714148044586
                  ]
                },
                {
                  "line": {
                    "color": "black",
                    "dash": "dash",
                    "width": 1
                  },
                  "mode": "lines",
                  "showlegend": false,
                  "type": "scatter",
                  "x": [
                    100000,
                    100000
                  ],
                  "y": [
                    0,
                    765.9714148044586
                  ]
                },
                {
                  "line": {
                    "color": "black",
                    "dash": "dash",
                    "width": 1
                  },
                  "mode": "lines",
                  "showlegend": false,
                  "type": "scatter",
                  "x": [
                    1000000,
                    1000000
                  ],
                  "y": [
                    0,
                    765.9714148044586
                  ]
                }
              ],
              "layout": {
                "template": {
                  "data": {
                    "bar": [
                      {
                        "error_x": {
                          "color": "#2a3f5f"
                        },
                        "error_y": {
                          "color": "#2a3f5f"
                        },
                        "marker": {
                          "line": {
                            "color": "#E5ECF6",
                            "width": 0.5
                          },
                          "pattern": {
                            "fillmode": "overlay",
                            "size": 10,
                            "solidity": 0.2
                          }
                        },
                        "type": "bar"
                      }
                    ],
                    "barpolar": [
                      {
                        "marker": {
                          "line": {
                            "color": "#E5ECF6",
                            "width": 0.5
                          },
                          "pattern": {
                            "fillmode": "overlay",
                            "size": 10,
                            "solidity": 0.2
                          }
                        },
                        "type": "barpolar"
                      }
                    ],
                    "carpet": [
                      {
                        "aaxis": {
                          "endlinecolor": "#2a3f5f",
                          "gridcolor": "white",
                          "linecolor": "white",
                          "minorgridcolor": "white",
                          "startlinecolor": "#2a3f5f"
                        },
                        "baxis": {
                          "endlinecolor": "#2a3f5f",
                          "gridcolor": "white",
                          "linecolor": "white",
                          "minorgridcolor": "white",
                          "startlinecolor": "#2a3f5f"
                        },
                        "type": "carpet"
                      }
                    ],
                    "choropleth": [
                      {
                        "colorbar": {
                          "outlinewidth": 0,
                          "ticks": ""
                        },
                        "type": "choropleth"
                      }
                    ],
                    "contour": [
                      {
                        "colorbar": {
                          "outlinewidth": 0,
                          "ticks": ""
                        },
                        "colorscale": [
                          [
                            0,
                            "#0d0887"
                          ],
                          [
                            0.1111111111111111,
                            "#46039f"
                          ],
                          [
                            0.2222222222222222,
                            "#7201a8"
                          ],
                          [
                            0.3333333333333333,
                            "#9c179e"
                          ],
                          [
                            0.4444444444444444,
                            "#bd3786"
                          ],
                          [
                            0.5555555555555556,
                            "#d8576b"
                          ],
                          [
                            0.6666666666666666,
                            "#ed7953"
                          ],
                          [
                            0.7777777777777778,
                            "#fb9f3a"
                          ],
                          [
                            0.8888888888888888,
                            "#fdca26"
                          ],
                          [
                            1,
                            "#f0f921"
                          ]
                        ],
                        "type": "contour"
                      }
                    ],
                    "contourcarpet": [
                      {
                        "colorbar": {
                          "outlinewidth": 0,
                          "ticks": ""
                        },
                        "type": "contourcarpet"
                      }
                    ],
                    "heatmap": [
                      {
                        "colorbar": {
                          "outlinewidth": 0,
                          "ticks": ""
                        },
                        "colorscale": [
                          [
                            0,
                            "#0d0887"
                          ],
                          [
                            0.1111111111111111,
                            "#46039f"
                          ],
                          [
                            0.2222222222222222,
                            "#7201a8"
                          ],
                          [
                            0.3333333333333333,
                            "#9c179e"
                          ],
                          [
                            0.4444444444444444,
                            "#bd3786"
                          ],
                          [
                            0.5555555555555556,
                            "#d8576b"
                          ],
                          [
                            0.6666666666666666,
                            "#ed7953"
                          ],
                          [
                            0.7777777777777778,
                            "#fb9f3a"
                          ],
                          [
                            0.8888888888888888,
                            "#fdca26"
                          ],
                          [
                            1,
                            "#f0f921"
                          ]
                        ],
                        "type": "heatmap"
                      }
                    ],
                    "heatmapgl": [
                      {
                        "colorbar": {
                          "outlinewidth": 0,
                          "ticks": ""
                        },
                        "colorscale": [
                          [
                            0,
                            "#0d0887"
                          ],
                          [
                            0.1111111111111111,
                            "#46039f"
                          ],
                          [
                            0.2222222222222222,
                            "#7201a8"
                          ],
                          [
                            0.3333333333333333,
                            "#9c179e"
                          ],
                          [
                            0.4444444444444444,
                            "#bd3786"
                          ],
                          [
                            0.5555555555555556,
                            "#d8576b"
                          ],
                          [
                            0.6666666666666666,
                            "#ed7953"
                          ],
                          [
                            0.7777777777777778,
                            "#fb9f3a"
                          ],
                          [
                            0.8888888888888888,
                            "#fdca26"
                          ],
                          [
                            1,
                            "#f0f921"
                          ]
                        ],
                        "type": "heatmapgl"
                      }
                    ],
                    "histogram": [
                      {
                        "marker": {
                          "pattern": {
                            "fillmode": "overlay",
                            "size": 10,
                            "solidity": 0.2
                          }
                        },
                        "type": "histogram"
                      }
                    ],
                    "histogram2d": [
                      {
                        "colorbar": {
                          "outlinewidth": 0,
                          "ticks": ""
                        },
                        "colorscale": [
                          [
                            0,
                            "#0d0887"
                          ],
                          [
                            0.1111111111111111,
                            "#46039f"
                          ],
                          [
                            0.2222222222222222,
                            "#7201a8"
                          ],
                          [
                            0.3333333333333333,
                            "#9c179e"
                          ],
                          [
                            0.4444444444444444,
                            "#bd3786"
                          ],
                          [
                            0.5555555555555556,
                            "#d8576b"
                          ],
                          [
                            0.6666666666666666,
                            "#ed7953"
                          ],
                          [
                            0.7777777777777778,
                            "#fb9f3a"
                          ],
                          [
                            0.8888888888888888,
                            "#fdca26"
                          ],
                          [
                            1,
                            "#f0f921"
                          ]
                        ],
                        "type": "histogram2d"
                      }
                    ],
                    "histogram2dcontour": [
                      {
                        "colorbar": {
                          "outlinewidth": 0,
                          "ticks": ""
                        },
                        "colorscale": [
                          [
                            0,
                            "#0d0887"
                          ],
                          [
                            0.1111111111111111,
                            "#46039f"
                          ],
                          [
                            0.2222222222222222,
                            "#7201a8"
                          ],
                          [
                            0.3333333333333333,
                            "#9c179e"
                          ],
                          [
                            0.4444444444444444,
                            "#bd3786"
                          ],
                          [
                            0.5555555555555556,
                            "#d8576b"
                          ],
                          [
                            0.6666666666666666,
                            "#ed7953"
                          ],
                          [
                            0.7777777777777778,
                            "#fb9f3a"
                          ],
                          [
                            0.8888888888888888,
                            "#fdca26"
                          ],
                          [
                            1,
                            "#f0f921"
                          ]
                        ],
                        "type": "histogram2dcontour"
                      }
                    ],
                    "mesh3d": [
                      {
                        "colorbar": {
                          "outlinewidth": 0,
                          "ticks": ""
                        },
                        "type": "mesh3d"
                      }
                    ],
                    "parcoords": [
                      {
                        "line": {
                          "colorbar": {
                            "outlinewidth": 0,
                            "ticks": ""
                          }
                        },
                        "type": "parcoords"
                      }
                    ],
                    "pie": [
                      {
                        "automargin": true,
                        "type": "pie"
                      }
                    ],
                    "scatter": [
                      {
                        "fillpattern": {
                          "fillmode": "overlay",
                          "size": 10,
                          "solidity": 0.2
                        },
                        "type": "scatter"
                      }
                    ],
                    "scatter3d": [
                      {
                        "line": {
                          "colorbar": {
                            "outlinewidth": 0,
                            "ticks": ""
                          }
                        },
                        "marker": {
                          "colorbar": {
                            "outlinewidth": 0,
                            "ticks": ""
                          }
                        },
                        "type": "scatter3d"
                      }
                    ],
                    "scattercarpet": [
                      {
                        "marker": {
                          "colorbar": {
                            "outlinewidth": 0,
                            "ticks": ""
                          }
                        },
                        "type": "scattercarpet"
                      }
                    ],
                    "scattergeo": [
                      {
                        "marker": {
                          "colorbar": {
                            "outlinewidth": 0,
                            "ticks": ""
                          }
                        },
                        "type": "scattergeo"
                      }
                    ],
                    "scattergl": [
                      {
                        "marker": {
                          "colorbar": {
                            "outlinewidth": 0,
                            "ticks": ""
                          }
                        },
                        "type": "scattergl"
                      }
                    ],
                    "scattermapbox": [
                      {
                        "marker": {
                          "colorbar": {
                            "outlinewidth": 0,
                            "ticks": ""
                          }
                        },
                        "type": "scattermapbox"
                      }
                    ],
                    "scatterpolar": [
                      {
                        "marker": {
                          "colorbar": {
                            "outlinewidth": 0,
                            "ticks": ""
                          }
                        },
                        "type": "scatterpolar"
                      }
                    ],
                    "scatterpolargl": [
                      {
                        "marker": {
                          "colorbar": {
                            "outlinewidth": 0,
                            "ticks": ""
                          }
                        },
                        "type": "scatterpolargl"
                      }
                    ],
                    "scatterternary": [
                      {
                        "marker": {
                          "colorbar": {
                            "outlinewidth": 0,
                            "ticks": ""
                          }
                        },
                        "type": "scatterternary"
                      }
                    ],
                    "surface": [
                      {
                        "colorbar": {
                          "outlinewidth": 0,
                          "ticks": ""
                        },
                        "colorscale": [
                          [
                            0,
                            "#0d0887"
                          ],
                          [
                            0.1111111111111111,
                            "#46039f"
                          ],
                          [
                            0.2222222222222222,
                            "#7201a8"
                          ],
                          [
                            0.3333333333333333,
                            "#9c179e"
                          ],
                          [
                            0.4444444444444444,
                            "#bd3786"
                          ],
                          [
                            0.5555555555555556,
                            "#d8576b"
                          ],
                          [
                            0.6666666666666666,
                            "#ed7953"
                          ],
                          [
                            0.7777777777777778,
                            "#fb9f3a"
                          ],
                          [
                            0.8888888888888888,
                            "#fdca26"
                          ],
                          [
                            1,
                            "#f0f921"
                          ]
                        ],
                        "type": "surface"
                      }
                    ],
                    "table": [
                      {
                        "cells": {
                          "fill": {
                            "color": "#EBF0F8"
                          },
                          "line": {
                            "color": "white"
                          }
                        },
                        "header": {
                          "fill": {
                            "color": "#C8D4E3"
                          },
                          "line": {
                            "color": "white"
                          }
                        },
                        "type": "table"
                      }
                    ]
                  },
                  "layout": {
                    "annotationdefaults": {
                      "arrowcolor": "#2a3f5f",
                      "arrowhead": 0,
                      "arrowwidth": 1
                    },
                    "autotypenumbers": "strict",
                    "coloraxis": {
                      "colorbar": {
                        "outlinewidth": 0,
                        "ticks": ""
                      }
                    },
                    "colorscale": {
                      "diverging": [
                        [
                          0,
                          "#8e0152"
                        ],
                        [
                          0.1,
                          "#c51b7d"
                        ],
                        [
                          0.2,
                          "#de77ae"
                        ],
                        [
                          0.3,
                          "#f1b6da"
                        ],
                        [
                          0.4,
                          "#fde0ef"
                        ],
                        [
                          0.5,
                          "#f7f7f7"
                        ],
                        [
                          0.6,
                          "#e6f5d0"
                        ],
                        [
                          0.7,
                          "#b8e186"
                        ],
                        [
                          0.8,
                          "#7fbc41"
                        ],
                        [
                          0.9,
                          "#4d9221"
                        ],
                        [
                          1,
                          "#276419"
                        ]
                      ],
                      "sequential": [
                        [
                          0,
                          "#0d0887"
                        ],
                        [
                          0.1111111111111111,
                          "#46039f"
                        ],
                        [
                          0.2222222222222222,
                          "#7201a8"
                        ],
                        [
                          0.3333333333333333,
                          "#9c179e"
                        ],
                        [
                          0.4444444444444444,
                          "#bd3786"
                        ],
                        [
                          0.5555555555555556,
                          "#d8576b"
                        ],
                        [
                          0.6666666666666666,
                          "#ed7953"
                        ],
                        [
                          0.7777777777777778,
                          "#fb9f3a"
                        ],
                        [
                          0.8888888888888888,
                          "#fdca26"
                        ],
                        [
                          1,
                          "#f0f921"
                        ]
                      ],
                      "sequentialminus": [
                        [
                          0,
                          "#0d0887"
                        ],
                        [
                          0.1111111111111111,
                          "#46039f"
                        ],
                        [
                          0.2222222222222222,
                          "#7201a8"
                        ],
                        [
                          0.3333333333333333,
                          "#9c179e"
                        ],
                        [
                          0.4444444444444444,
                          "#bd3786"
                        ],
                        [
                          0.5555555555555556,
                          "#d8576b"
                        ],
                        [
                          0.6666666666666666,
                          "#ed7953"
                        ],
                        [
                          0.7777777777777778,
                          "#fb9f3a"
                        ],
                        [
                          0.8888888888888888,
                          "#fdca26"
                        ],
                        [
                          1,
                          "#f0f921"
                        ]
                      ]
                    },
                    "colorway": [
                      "#636efa",
                      "#EF553B",
                      "#00cc96",
                      "#ab63fa",
                      "#FFA15A",
                      "#19d3f3",
                      "#FF6692",
                      "#B6E880",
                      "#FF97FF",
                      "#FECB52"
                    ],
                    "font": {
                      "color": "#2a3f5f"
                    },
                    "geo": {
                      "bgcolor": "white",
                      "lakecolor": "white",
                      "landcolor": "#E5ECF6",
                      "showlakes": true,
                      "showland": true,
                      "subunitcolor": "white"
                    },
                    "hoverlabel": {
                      "align": "left"
                    },
                    "hovermode": "closest",
                    "mapbox": {
                      "style": "light"
                    },
                    "paper_bgcolor": "white",
                    "plot_bgcolor": "#E5ECF6",
                    "polar": {
                      "angularaxis": {
                        "gridcolor": "white",
                        "linecolor": "white",
                        "ticks": ""
                      },
                      "bgcolor": "#E5ECF6",
                      "radialaxis": {
                        "gridcolor": "white",
                        "linecolor": "white",
                        "ticks": ""
                      }
                    },
                    "scene": {
                      "xaxis": {
                        "backgroundcolor": "#E5ECF6",
                        "gridcolor": "white",
                        "gridwidth": 2,
                        "linecolor": "white",
                        "showbackground": true,
                        "ticks": "",
                        "zerolinecolor": "white"
                      },
                      "yaxis": {
                        "backgroundcolor": "#E5ECF6",
                        "gridcolor": "white",
                        "gridwidth": 2,
                        "linecolor": "white",
                        "showbackground": true,
                        "ticks": "",
                        "zerolinecolor": "white"
                      },
                      "zaxis": {
                        "backgroundcolor": "#E5ECF6",
                        "gridcolor": "white",
                        "gridwidth": 2,
                        "linecolor": "white",
                        "showbackground": true,
                        "ticks": "",
                        "zerolinecolor": "white"
                      }
                    },
                    "shapedefaults": {
                      "line": {
                        "color": "#2a3f5f"
                      }
                    },
                    "ternary": {
                      "aaxis": {
                        "gridcolor": "white",
                        "linecolor": "white",
                        "ticks": ""
                      },
                      "baxis": {
                        "gridcolor": "white",
                        "linecolor": "white",
                        "ticks": ""
                      },
                      "bgcolor": "#E5ECF6",
                      "caxis": {
                        "gridcolor": "white",
                        "linecolor": "white",
                        "ticks": ""
                      }
                    },
                    "title": {
                      "x": 0.05
                    },
                    "xaxis": {
                      "automargin": true,
                      "gridcolor": "white",
                      "linecolor": "white",
                      "ticks": "",
                      "title": {
                        "standoff": 15
                      },
                      "zerolinecolor": "white",
                      "zerolinewidth": 2
                    },
                    "yaxis": {
                      "automargin": true,
                      "gridcolor": "white",
                      "linecolor": "white",
                      "ticks": "",
                      "title": {
                        "standoff": 15
                      },
                      "zerolinecolor": "white",
                      "zerolinewidth": 2
                    }
                  }
                },
                "title": {
                  "text": "Busca e dimensionamento"
                },
                "xaxis": {
                  "tickmode": "array",
                  "tickvals": [
                    10,
                    100,
                    1000,
                    10000,
                    100000,
                    1000000
                  ],
                  "title": {
                    "text": ""
                  }
                }
              }
            },
            "text/html": [
              "<div>                            <div id=\"2cceba23-cf42-400b-8eb6-b9faadebe259\" class=\"plotly-graph-div\" style=\"height:525px; width:100%;\"></div>            <script type=\"text/javascript\">                require([\"plotly\"], function(Plotly) {                    window.PLOTLYENV=window.PLOTLYENV || {};                                    if (document.getElementById(\"2cceba23-cf42-400b-8eb6-b9faadebe259\")) {                    Plotly.newPlot(                        \"2cceba23-cf42-400b-8eb6-b9faadebe259\",                        [{\"mode\":\"lines\",\"name\":\"Funcao 1\",\"x\":[10,100,1000,10000,100000,1000000],\"y\":[0.0029430389404296875,0.015403032302856445,0.1464245319366455,1.4999892711639404,21.836167335510254,765.9714148044586],\"type\":\"scatter\"},{\"mode\":\"lines\",\"name\":\"Funcao 2\",\"x\":[10,100,1000,10000,100000,1000000],\"y\":[0.00391077995300293,0.006153583526611328,0.011075496673583984,0.01330113410949707,0.02030467987060547,0.032370567321777344],\"type\":\"scatter\"},{\"mode\":\"lines\",\"name\":\"Funcao 3\",\"x\":[10,100,1000,10000,100000,1000000],\"y\":[0.001554727554321289,0.0016050338745117188,0.0015227794647216797,0.0016906261444091797,0.0026979446411132812,0.004811525344848633],\"type\":\"scatter\"},{\"line\":{\"color\":\"black\",\"dash\":\"dash\",\"width\":1},\"mode\":\"lines\",\"showlegend\":false,\"x\":[10,10],\"y\":[0,765.9714148044586],\"type\":\"scatter\"},{\"line\":{\"color\":\"black\",\"dash\":\"dash\",\"width\":1},\"mode\":\"lines\",\"showlegend\":false,\"x\":[100,100],\"y\":[0,765.9714148044586],\"type\":\"scatter\"},{\"line\":{\"color\":\"black\",\"dash\":\"dash\",\"width\":1},\"mode\":\"lines\",\"showlegend\":false,\"x\":[1000,1000],\"y\":[0,765.9714148044586],\"type\":\"scatter\"},{\"line\":{\"color\":\"black\",\"dash\":\"dash\",\"width\":1},\"mode\":\"lines\",\"showlegend\":false,\"x\":[10000,10000],\"y\":[0,765.9714148044586],\"type\":\"scatter\"},{\"line\":{\"color\":\"black\",\"dash\":\"dash\",\"width\":1},\"mode\":\"lines\",\"showlegend\":false,\"x\":[100000,100000],\"y\":[0,765.9714148044586],\"type\":\"scatter\"},{\"line\":{\"color\":\"black\",\"dash\":\"dash\",\"width\":1},\"mode\":\"lines\",\"showlegend\":false,\"x\":[1000000,1000000],\"y\":[0,765.9714148044586],\"type\":\"scatter\"}],                        {\"title\":{\"text\":\"Busca e dimensionamento\"},\"xaxis\":{\"tickmode\":\"array\",\"tickvals\":[10,100,1000,10000,100000,1000000],\"title\":{\"text\":\"\"}},\"template\":{\"data\":{\"histogram2dcontour\":[{\"type\":\"histogram2dcontour\",\"colorbar\":{\"outlinewidth\":0,\"ticks\":\"\"},\"colorscale\":[[0.0,\"#0d0887\"],[0.1111111111111111,\"#46039f\"],[0.2222222222222222,\"#7201a8\"],[0.3333333333333333,\"#9c179e\"],[0.4444444444444444,\"#bd3786\"],[0.5555555555555556,\"#d8576b\"],[0.6666666666666666,\"#ed7953\"],[0.7777777777777778,\"#fb9f3a\"],[0.8888888888888888,\"#fdca26\"],[1.0,\"#f0f921\"]]}],\"choropleth\":[{\"type\":\"choropleth\",\"colorbar\":{\"outlinewidth\":0,\"ticks\":\"\"}}],\"histogram2d\":[{\"type\":\"histogram2d\",\"colorbar\":{\"outlinewidth\":0,\"ticks\":\"\"},\"colorscale\":[[0.0,\"#0d0887\"],[0.1111111111111111,\"#46039f\"],[0.2222222222222222,\"#7201a8\"],[0.3333333333333333,\"#9c179e\"],[0.4444444444444444,\"#bd3786\"],[0.5555555555555556,\"#d8576b\"],[0.6666666666666666,\"#ed7953\"],[0.7777777777777778,\"#fb9f3a\"],[0.8888888888888888,\"#fdca26\"],[1.0,\"#f0f921\"]]}],\"heatmap\":[{\"type\":\"heatmap\",\"colorbar\":{\"outlinewidth\":0,\"ticks\":\"\"},\"colorscale\":[[0.0,\"#0d0887\"],[0.1111111111111111,\"#46039f\"],[0.2222222222222222,\"#7201a8\"],[0.3333333333333333,\"#9c179e\"],[0.4444444444444444,\"#bd3786\"],[0.5555555555555556,\"#d8576b\"],[0.6666666666666666,\"#ed7953\"],[0.7777777777777778,\"#fb9f3a\"],[0.8888888888888888,\"#fdca26\"],[1.0,\"#f0f921\"]]}],\"heatmapgl\":[{\"type\":\"heatmapgl\",\"colorbar\":{\"outlinewidth\":0,\"ticks\":\"\"},\"colorscale\":[[0.0,\"#0d0887\"],[0.1111111111111111,\"#46039f\"],[0.2222222222222222,\"#7201a8\"],[0.3333333333333333,\"#9c179e\"],[0.4444444444444444,\"#bd3786\"],[0.5555555555555556,\"#d8576b\"],[0.6666666666666666,\"#ed7953\"],[0.7777777777777778,\"#fb9f3a\"],[0.8888888888888888,\"#fdca26\"],[1.0,\"#f0f921\"]]}],\"contourcarpet\":[{\"type\":\"contourcarpet\",\"colorbar\":{\"outlinewidth\":0,\"ticks\":\"\"}}],\"contour\":[{\"type\":\"contour\",\"colorbar\":{\"outlinewidth\":0,\"ticks\":\"\"},\"colorscale\":[[0.0,\"#0d0887\"],[0.1111111111111111,\"#46039f\"],[0.2222222222222222,\"#7201a8\"],[0.3333333333333333,\"#9c179e\"],[0.4444444444444444,\"#bd3786\"],[0.5555555555555556,\"#d8576b\"],[0.6666666666666666,\"#ed7953\"],[0.7777777777777778,\"#fb9f3a\"],[0.8888888888888888,\"#fdca26\"],[1.0,\"#f0f921\"]]}],\"surface\":[{\"type\":\"surface\",\"colorbar\":{\"outlinewidth\":0,\"ticks\":\"\"},\"colorscale\":[[0.0,\"#0d0887\"],[0.1111111111111111,\"#46039f\"],[0.2222222222222222,\"#7201a8\"],[0.3333333333333333,\"#9c179e\"],[0.4444444444444444,\"#bd3786\"],[0.5555555555555556,\"#d8576b\"],[0.6666666666666666,\"#ed7953\"],[0.7777777777777778,\"#fb9f3a\"],[0.8888888888888888,\"#fdca26\"],[1.0,\"#f0f921\"]]}],\"mesh3d\":[{\"type\":\"mesh3d\",\"colorbar\":{\"outlinewidth\":0,\"ticks\":\"\"}}],\"scatter\":[{\"fillpattern\":{\"fillmode\":\"overlay\",\"size\":10,\"solidity\":0.2},\"type\":\"scatter\"}],\"parcoords\":[{\"type\":\"parcoords\",\"line\":{\"colorbar\":{\"outlinewidth\":0,\"ticks\":\"\"}}}],\"scatterpolargl\":[{\"type\":\"scatterpolargl\",\"marker\":{\"colorbar\":{\"outlinewidth\":0,\"ticks\":\"\"}}}],\"bar\":[{\"error_x\":{\"color\":\"#2a3f5f\"},\"error_y\":{\"color\":\"#2a3f5f\"},\"marker\":{\"line\":{\"color\":\"#E5ECF6\",\"width\":0.5},\"pattern\":{\"fillmode\":\"overlay\",\"size\":10,\"solidity\":0.2}},\"type\":\"bar\"}],\"scattergeo\":[{\"type\":\"scattergeo\",\"marker\":{\"colorbar\":{\"outlinewidth\":0,\"ticks\":\"\"}}}],\"scatterpolar\":[{\"type\":\"scatterpolar\",\"marker\":{\"colorbar\":{\"outlinewidth\":0,\"ticks\":\"\"}}}],\"histogram\":[{\"marker\":{\"pattern\":{\"fillmode\":\"overlay\",\"size\":10,\"solidity\":0.2}},\"type\":\"histogram\"}],\"scattergl\":[{\"type\":\"scattergl\",\"marker\":{\"colorbar\":{\"outlinewidth\":0,\"ticks\":\"\"}}}],\"scatter3d\":[{\"type\":\"scatter3d\",\"line\":{\"colorbar\":{\"outlinewidth\":0,\"ticks\":\"\"}},\"marker\":{\"colorbar\":{\"outlinewidth\":0,\"ticks\":\"\"}}}],\"scattermapbox\":[{\"type\":\"scattermapbox\",\"marker\":{\"colorbar\":{\"outlinewidth\":0,\"ticks\":\"\"}}}],\"scatterternary\":[{\"type\":\"scatterternary\",\"marker\":{\"colorbar\":{\"outlinewidth\":0,\"ticks\":\"\"}}}],\"scattercarpet\":[{\"type\":\"scattercarpet\",\"marker\":{\"colorbar\":{\"outlinewidth\":0,\"ticks\":\"\"}}}],\"carpet\":[{\"aaxis\":{\"endlinecolor\":\"#2a3f5f\",\"gridcolor\":\"white\",\"linecolor\":\"white\",\"minorgridcolor\":\"white\",\"startlinecolor\":\"#2a3f5f\"},\"baxis\":{\"endlinecolor\":\"#2a3f5f\",\"gridcolor\":\"white\",\"linecolor\":\"white\",\"minorgridcolor\":\"white\",\"startlinecolor\":\"#2a3f5f\"},\"type\":\"carpet\"}],\"table\":[{\"cells\":{\"fill\":{\"color\":\"#EBF0F8\"},\"line\":{\"color\":\"white\"}},\"header\":{\"fill\":{\"color\":\"#C8D4E3\"},\"line\":{\"color\":\"white\"}},\"type\":\"table\"}],\"barpolar\":[{\"marker\":{\"line\":{\"color\":\"#E5ECF6\",\"width\":0.5},\"pattern\":{\"fillmode\":\"overlay\",\"size\":10,\"solidity\":0.2}},\"type\":\"barpolar\"}],\"pie\":[{\"automargin\":true,\"type\":\"pie\"}]},\"layout\":{\"autotypenumbers\":\"strict\",\"colorway\":[\"#636efa\",\"#EF553B\",\"#00cc96\",\"#ab63fa\",\"#FFA15A\",\"#19d3f3\",\"#FF6692\",\"#B6E880\",\"#FF97FF\",\"#FECB52\"],\"font\":{\"color\":\"#2a3f5f\"},\"hovermode\":\"closest\",\"hoverlabel\":{\"align\":\"left\"},\"paper_bgcolor\":\"white\",\"plot_bgcolor\":\"#E5ECF6\",\"polar\":{\"bgcolor\":\"#E5ECF6\",\"angularaxis\":{\"gridcolor\":\"white\",\"linecolor\":\"white\",\"ticks\":\"\"},\"radialaxis\":{\"gridcolor\":\"white\",\"linecolor\":\"white\",\"ticks\":\"\"}},\"ternary\":{\"bgcolor\":\"#E5ECF6\",\"aaxis\":{\"gridcolor\":\"white\",\"linecolor\":\"white\",\"ticks\":\"\"},\"baxis\":{\"gridcolor\":\"white\",\"linecolor\":\"white\",\"ticks\":\"\"},\"caxis\":{\"gridcolor\":\"white\",\"linecolor\":\"white\",\"ticks\":\"\"}},\"coloraxis\":{\"colorbar\":{\"outlinewidth\":0,\"ticks\":\"\"}},\"colorscale\":{\"sequential\":[[0.0,\"#0d0887\"],[0.1111111111111111,\"#46039f\"],[0.2222222222222222,\"#7201a8\"],[0.3333333333333333,\"#9c179e\"],[0.4444444444444444,\"#bd3786\"],[0.5555555555555556,\"#d8576b\"],[0.6666666666666666,\"#ed7953\"],[0.7777777777777778,\"#fb9f3a\"],[0.8888888888888888,\"#fdca26\"],[1.0,\"#f0f921\"]],\"sequentialminus\":[[0.0,\"#0d0887\"],[0.1111111111111111,\"#46039f\"],[0.2222222222222222,\"#7201a8\"],[0.3333333333333333,\"#9c179e\"],[0.4444444444444444,\"#bd3786\"],[0.5555555555555556,\"#d8576b\"],[0.6666666666666666,\"#ed7953\"],[0.7777777777777778,\"#fb9f3a\"],[0.8888888888888888,\"#fdca26\"],[1.0,\"#f0f921\"]],\"diverging\":[[0,\"#8e0152\"],[0.1,\"#c51b7d\"],[0.2,\"#de77ae\"],[0.3,\"#f1b6da\"],[0.4,\"#fde0ef\"],[0.5,\"#f7f7f7\"],[0.6,\"#e6f5d0\"],[0.7,\"#b8e186\"],[0.8,\"#7fbc41\"],[0.9,\"#4d9221\"],[1,\"#276419\"]]},\"xaxis\":{\"gridcolor\":\"white\",\"linecolor\":\"white\",\"ticks\":\"\",\"title\":{\"standoff\":15},\"zerolinecolor\":\"white\",\"automargin\":true,\"zerolinewidth\":2},\"yaxis\":{\"gridcolor\":\"white\",\"linecolor\":\"white\",\"ticks\":\"\",\"title\":{\"standoff\":15},\"zerolinecolor\":\"white\",\"automargin\":true,\"zerolinewidth\":2},\"scene\":{\"xaxis\":{\"backgroundcolor\":\"#E5ECF6\",\"gridcolor\":\"white\",\"linecolor\":\"white\",\"showbackground\":true,\"ticks\":\"\",\"zerolinecolor\":\"white\",\"gridwidth\":2},\"yaxis\":{\"backgroundcolor\":\"#E5ECF6\",\"gridcolor\":\"white\",\"linecolor\":\"white\",\"showbackground\":true,\"ticks\":\"\",\"zerolinecolor\":\"white\",\"gridwidth\":2},\"zaxis\":{\"backgroundcolor\":\"#E5ECF6\",\"gridcolor\":\"white\",\"linecolor\":\"white\",\"showbackground\":true,\"ticks\":\"\",\"zerolinecolor\":\"white\",\"gridwidth\":2}},\"shapedefaults\":{\"line\":{\"color\":\"#2a3f5f\"}},\"annotationdefaults\":{\"arrowcolor\":\"#2a3f5f\",\"arrowhead\":0,\"arrowwidth\":1},\"geo\":{\"bgcolor\":\"white\",\"landcolor\":\"#E5ECF6\",\"subunitcolor\":\"white\",\"showland\":true,\"showlakes\":true,\"lakecolor\":\"white\"},\"title\":{\"x\":0.05},\"mapbox\":{\"style\":\"light\"}}}},                        {\"responsive\": true}                    ).then(function(){\n",
              "                            \n",
              "var gd = document.getElementById('2cceba23-cf42-400b-8eb6-b9faadebe259');\n",
              "var x = new MutationObserver(function (mutations, observer) {{\n",
              "        var display = window.getComputedStyle(gd).display;\n",
              "        if (!display || display === 'none') {{\n",
              "            console.log([gd, 'removed!']);\n",
              "            Plotly.purge(gd);\n",
              "            observer.disconnect();\n",
              "        }}\n",
              "}});\n",
              "\n",
              "// Listen for the removal of the full notebook cells\n",
              "var notebookContainer = gd.closest('#notebook-container');\n",
              "if (notebookContainer) {{\n",
              "    x.observe(notebookContainer, {childList: true});\n",
              "}}\n",
              "\n",
              "// Listen for the clearing of the current output cell\n",
              "var outputEl = gd.closest('.output');\n",
              "if (outputEl) {{\n",
              "    x.observe(outputEl, {childList: true});\n",
              "}}\n",
              "\n",
              "                        })                };                });            </script>        </div>"
            ]
          },
          "metadata": {},
          "output_type": "display_data"
        }
      ],
      "source": [
        "import plotly.graph_objs as go\n",
        "import plotly.offline as pyo\n",
        "\n",
        "trace1 = go.Scatter(x=exponencial, y=funcao_1, mode='lines', name='Funcao 1')\n",
        "trace2 = go.Scatter(x=exponencial, y=funcao_2, mode='lines', name='Funcao 2')\n",
        "trace3 = go.Scatter(x=exponencial, y=funcao_3, mode='lines', name='Funcao 3')\n",
        "\n",
        "line_traces = []\n",
        "for i in range(len(exponencial)):\n",
        "    line_traces.append(go.Scatter(\n",
        "        x=[exponencial[i], exponencial[i]], \n",
        "        y=[0, max(funcao_1+funcao_2+funcao_3)],\n",
        "                                   mode='lines', line=dict(color='black', width=1, dash='dash'), showlegend=False))\n",
        "\n",
        "layout = go.Layout(title='Busca e dimensionamento', xaxis=dict(title='',tickmode='array', tickvals=exponencial))\n",
        "\n",
        "fig = go.Figure(data=[trace1, trace2, trace3]+line_traces, layout=layout)\n",
        "\n",
        "fig.show()"
      ]
    }
  ],
  "metadata": {
    "colab": {
      "provenance": []
    },
    "kernelspec": {
      "display_name": "base",
      "language": "python",
      "name": "python3"
    },
    "language_info": {
      "codemirror_mode": {
        "name": "ipython",
        "version": 3
      },
      "file_extension": ".py",
      "mimetype": "text/x-python",
      "name": "python",
      "nbconvert_exporter": "python",
      "pygments_lexer": "ipython3",
      "version": "3.10.9"
    },
    "vscode": {
      "interpreter": {
        "hash": "138e49ab9ac0e533ad87378dc8ae0c101e12392e002e1d4f13b83c0dee2b634c"
      }
    }
  },
  "nbformat": 4,
  "nbformat_minor": 0
}
