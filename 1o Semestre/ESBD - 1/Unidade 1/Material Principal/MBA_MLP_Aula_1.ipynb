{
  "nbformat": 4,
  "nbformat_minor": 0,
  "metadata": {
    "colab": {
      "provenance": []
    },
    "kernelspec": {
      "name": "python3",
      "display_name": "Python 3"
    },
    "language_info": {
      "name": "python"
    }
  },
  "cells": [
    {
      "cell_type": "markdown",
      "metadata": {
        "id": "iwlta6Xq2Xc5"
      },
      "source": [
        "# **Pensamento Algorítmico**"
      ]
    },
    {
      "cell_type": "markdown",
      "metadata": {
        "id": "Kj_35qK64yI7"
      },
      "source": [
        "## *Preparando o Ambiente*\n",
        "\n",
        "O comando abaixo aumenta nosso limite de recursões."
      ]
    },
    {
      "cell_type": "code",
      "metadata": {
        "id": "JEFuQL0h4wZp"
      },
      "source": [
        "import sys\n",
        "\n",
        "\n",
        "sys.setrecursionlimit(20000)"
      ],
      "execution_count": null,
      "outputs": []
    },
    {
      "cell_type": "markdown",
      "metadata": {
        "id": "cuBA1wopUmqJ"
      },
      "source": [
        "## *Recursão*\n",
        "\n",
        "Solução do problema através da solução de instâncias menores do mesmo.\n",
        "\n",
        "### Exemplos\n",
        "\n",
        "Utilizando Python 3 é possível exemplificar os conceitos de recursão com simples implementações de funções de soma e números de Fibonacci.\n",
        "\n",
        "Abaixo encontra-se a função responsável por somar todos os números de uma lista de forma recursiva:"
      ]
    },
    {
      "cell_type": "code",
      "metadata": {
        "colab": {
          "base_uri": "https://localhost:8080/"
        },
        "id": "cP-OZzliUkXk",
        "outputId": "0faae0b5-2535-4b3a-ee3f-6f4457970ef0"
      },
      "source": [
        "def recursive_sum(numbers):\n",
        "\n",
        "    if len(numbers) == 0:\n",
        "        return 0\n",
        "\n",
        "    return numbers[0] + recursive_sum(numbers[1:])\n",
        "\n",
        "\n",
        "numbers = [1, 2, 3]\n",
        "s = recursive_sum(numbers)\n",
        "print(s)"
      ],
      "execution_count": null,
      "outputs": [
        {
          "output_type": "stream",
          "text": [
            "6\n"
          ],
          "name": "stdout"
        }
      ]
    },
    {
      "cell_type": "markdown",
      "metadata": {
        "id": "FKJk5vbUbVgw"
      },
      "source": [
        "Também é comum exemplificar recursão utilizando números de Fibonacci. \n",
        "\n",
        "Abaixo encontra-se a função que calcula o N-ésimo número de Fibonacci de forma recursiva:"
      ]
    },
    {
      "cell_type": "code",
      "metadata": {
        "colab": {
          "base_uri": "https://localhost:8080/"
        },
        "id": "g2xy1innbSBV",
        "outputId": "38ecc0df-f494-4e37-99fb-09b7bf602974"
      },
      "source": [
        "import time\n",
        "\n",
        "\n",
        "def recursive_fibonacci(n):\n",
        "    if n <= 1:\n",
        "        return n\n",
        "\n",
        "    return recursive_fibonacci(n - 1) + recursive_fibonacci(n - 2)\n",
        "\n",
        "\n",
        "s_time = time.time()\n",
        "n = recursive_fibonacci(38)\n",
        "e_time = time.time()\n",
        "\n",
        "print(n)\n",
        "print(\"Tempo usado por recursive_fibonacci() =\", e_time - s_time)\n"
      ],
      "execution_count": null,
      "outputs": [
        {
          "output_type": "stream",
          "text": [
            "39088169\n",
            "Tempo usado por recursive_fibonacci() = 16.00115180015564\n"
          ],
          "name": "stdout"
        }
      ]
    },
    {
      "cell_type": "markdown",
      "metadata": {
        "id": "_B129uNukN69"
      },
      "source": [
        "## *Memorização de Resultados*\n",
        "\n",
        "É possível aumentar a performance do algoritmo vistos acima inserindo a memorização de computações já feitas. Como exemplo, é possível adicionar uma lista de soluções para guardar o resultado da sequencia de Fibonacci sempre que um novo número for calculado, evitando assim o retrabalho."
      ]
    },
    {
      "cell_type": "code",
      "metadata": {
        "colab": {
          "base_uri": "https://localhost:8080/"
        },
        "id": "of_fNHhErnG7",
        "outputId": "d4b60105-f3eb-453a-a274-dcea7cafbbc0"
      },
      "source": [
        "fibonacci_results = [0, 1] + [None for _ in range(79)]\n",
        "\n",
        "\n",
        "def mem_recursive_fibonacci(n):\n",
        "    \n",
        "    if fibonacci_results[n] != None:\n",
        "        return fibonacci_results[n]\n",
        "\n",
        "    fibonacci_results[n] = mem_recursive_fibonacci(n - 1) + mem_recursive_fibonacci(n - 2)\n",
        "    \n",
        "    return fibonacci_results[n]\n",
        "\n",
        "\n",
        "print(fibonacci_results)\n",
        "\n",
        "s_time = time.time()\n",
        "n = mem_recursive_fibonacci(80)\n",
        "e_time = time.time()\n",
        "\n",
        "print(n)\n",
        "print(fibonacci_results)\n",
        "print(\"Tempo usado por mem_recursive_fibonacci() =\", e_time - s_time)\n"
      ],
      "execution_count": null,
      "outputs": [
        {
          "output_type": "stream",
          "text": [
            "[0, 1, None, None, None, None, None, None, None, None, None, None, None, None, None, None, None, None, None, None, None, None, None, None, None, None, None, None, None, None, None, None, None, None, None, None, None, None, None, None, None, None, None, None, None, None, None, None, None, None, None, None, None, None, None, None, None, None, None, None, None, None, None, None, None, None, None, None, None, None, None, None, None, None, None, None, None, None, None, None, None]\n",
            "23416728348467685\n",
            "[0, 1, 1, 2, 3, 5, 8, 13, 21, 34, 55, 89, 144, 233, 377, 610, 987, 1597, 2584, 4181, 6765, 10946, 17711, 28657, 46368, 75025, 121393, 196418, 317811, 514229, 832040, 1346269, 2178309, 3524578, 5702887, 9227465, 14930352, 24157817, 39088169, 63245986, 102334155, 165580141, 267914296, 433494437, 701408733, 1134903170, 1836311903, 2971215073, 4807526976, 7778742049, 12586269025, 20365011074, 32951280099, 53316291173, 86267571272, 139583862445, 225851433717, 365435296162, 591286729879, 956722026041, 1548008755920, 2504730781961, 4052739537881, 6557470319842, 10610209857723, 17167680177565, 27777890035288, 44945570212853, 72723460248141, 117669030460994, 190392490709135, 308061521170129, 498454011879264, 806515533049393, 1304969544928657, 2111485077978050, 3416454622906707, 5527939700884757, 8944394323791464, 14472334024676221, 23416728348467685]\n",
            "Tempo usado por mem_recursive_fibonacci() = 0.0007290840148925781\n"
          ],
          "name": "stdout"
        }
      ]
    },
    {
      "cell_type": "markdown",
      "metadata": {
        "id": "ONIxA_n9XZXT"
      },
      "source": [
        "## *Programação Dinâmica*\n",
        "\n",
        "Explorar a subestrutura ótima de um problema para, iterativamente solucionar etapas de um problema necessárias para a solução final.\n",
        "\n",
        "### Exemplos\n",
        "\n",
        "Abaixo temos um exemplo de função que resolve o problema de calcular a Sequência de Fibonacci utilizando programação dinâmica:"
      ]
    },
    {
      "cell_type": "code",
      "metadata": {
        "colab": {
          "base_uri": "https://localhost:8080/"
        },
        "id": "IPl1lyDIe88U",
        "outputId": "8358e181-d4f9-4e9f-d1db-eee27420a492"
      },
      "source": [
        "def PD_fibonacci(n):\n",
        "    \n",
        "    fibonacci_results = [0, 1] + [None for _ in range(39)]\n",
        "\n",
        "    for i in range(2, n + 1):\n",
        "        fibonacci_results[i] = fibonacci_results[i - 1] + \\\n",
        "            fibonacci_results[i - 2]\n",
        "\n",
        "    return fibonacci_results[n]\n",
        "\n",
        "\n",
        "s_time = time.time()\n",
        "n = PD_fibonacci(30)\n",
        "e_time = time.time()\n",
        "\n",
        "print(n)\n",
        "print(\"Tempo usado por PD_fibonacci() =\", e_time - s_time)\n",
        "\n",
        "\n",
        "def iterative_fibonacci(n):\n",
        "\n",
        "    s = 0\n",
        "    a = 0\n",
        "    b = 1\n",
        "\n",
        "    for _ in range(n - 1):\n",
        "        s = a + b\n",
        "        a = b\n",
        "        b = s\n",
        "\n",
        "    return s\n",
        "\n",
        "\n",
        "n = iterative_fibonacci(30)\n",
        "print(n)\n"
      ],
      "execution_count": null,
      "outputs": [
        {
          "output_type": "stream",
          "text": [
            "832040\n",
            "Tempo usado por PD_fibonacci() = 8.916854858398438e-05\n",
            "832040\n"
          ],
          "name": "stdout"
        }
      ]
    },
    {
      "cell_type": "markdown",
      "metadata": {
        "id": "GuiCxiBkhmM5"
      },
      "source": [
        "Outro exemplo bem prático de programação dinâmica e que é muito utilizado hoje é a Distância de Levenshtein. Com ela é possível saber o número de modificações que uma determinada palavra deve ter para que chegue em outra. Buscas em ferramentas de recuperação de informação utilizam técnicas semelhantes."
      ]
    },
    {
      "cell_type": "markdown",
      "metadata": {
        "id": "ova2HYFPuv8z"
      },
      "source": [
        "## *Desempenho*\n",
        "\n",
        "Abaixo pode-se observar o comparativo entre a utilização e não-utilização de memorização de resultados na obtenção de números da sequência de Fibonacci.\n",
        "\n",
        "A complexidade de tempo do algoritmo responsável por obter a sequência de Fibonacci é O(2^n). \n",
        "\n",
        "Com a utilização da memorização, o preenchimento da tabela passa a levar tempo O(n) e a obtenção dos números já calculados se torna instantânea.\n"
      ]
    },
    {
      "cell_type": "code",
      "metadata": {
        "id": "dTfBJBCxuuEu",
        "colab": {
          "base_uri": "https://localhost:8080/"
        },
        "outputId": "c41455c7-3ca6-4578-85c1-87e02bcd8eb5"
      },
      "source": [
        "import time\n",
        "\n",
        "num = 35\n",
        "\n",
        "fibonacci_results = [0, 1] + [None for _ in range(num - 1)]\n",
        "\n",
        "start_time = time.time()\n",
        "n = mem_recursive_fibonacci(num)\n",
        "diff_time = time.time() - start_time\n",
        "\n",
        "print(f'Lista de resultados populada em {diff_time}s')\n",
        "\n",
        "start_time = time.time()\n",
        "n = recursive_fibonacci(num)\n",
        "diff_time = time.time() - start_time\n",
        "\n",
        "print(f'Resultado obtido por Fibonacci Sem Memorização em {diff_time}s')\n",
        "\n",
        "start_time = time.time()\n",
        "n = mem_recursive_fibonacci(num)\n",
        "diff_time = time.time() - start_time\n",
        "\n",
        "print(f'Resultado obtido por Fibonacci Com Memorização em {diff_time}s')\n"
      ],
      "execution_count": null,
      "outputs": [
        {
          "output_type": "stream",
          "text": [
            "Lista de resultados populada em 6.270408630371094e-05s\n",
            "Resultado obtido por Fibonacci Sem Memorização em 3.7780098915100098s\n",
            "Resultado obtido por Fibonacci Com Memorização em 4.744529724121094e-05s\n"
          ],
          "name": "stdout"
        }
      ]
    },
    {
      "cell_type": "markdown",
      "metadata": {
        "id": "8hHkX7I2Aecw"
      },
      "source": [
        "# **Algoritmos de busca**\n",
        "\n",
        "Abaixo faremos um comparativo entre o algoritmo de busca linear e o de busca binária. A diferença de performance entre eles é evidente quando trabalhamos com grandes quantidades de dados.\n",
        "\n"
      ]
    },
    {
      "cell_type": "code",
      "metadata": {
        "id": "7FJ_ghtBD9eA"
      },
      "source": [
        "numbers = [n for n in range(100_000_000)]"
      ],
      "execution_count": null,
      "outputs": []
    },
    {
      "cell_type": "markdown",
      "metadata": {
        "id": "0MCvZp3rD_AA"
      },
      "source": [
        "## *Busca Linear*"
      ]
    },
    {
      "cell_type": "code",
      "metadata": {
        "colab": {
          "base_uri": "https://localhost:8080/"
        },
        "id": "tZdsxH7WBsdy",
        "outputId": "7ab078d2-e8de-4f73-df50-58d9451ea036"
      },
      "source": [
        "def linear_search(numbers, alvo):\n",
        "    found = False\n",
        "    for number in numbers:\n",
        "        if number == alvo:\n",
        "            found = True\n",
        "            break\n",
        "    \n",
        "    return found\n",
        "\n",
        "\n",
        "start_time = time.time()\n",
        "found = linear_search(numbers, 90_000_000)\n",
        "diff_time = time.time() - start_time\n",
        "\n",
        "print(f'Duração da linear_search(): {diff_time}s - {found}')"
      ],
      "execution_count": null,
      "outputs": [
        {
          "output_type": "stream",
          "text": [
            "Duração da linear_search(): 3.5272045135498047s - True\n"
          ],
          "name": "stdout"
        }
      ]
    },
    {
      "cell_type": "markdown",
      "metadata": {
        "id": "SUT_0dSe9fLw"
      },
      "source": [
        "## *Busca Binária Recursiva*"
      ]
    },
    {
      "cell_type": "code",
      "metadata": {
        "colab": {
          "base_uri": "https://localhost:8080/"
        },
        "id": "E7kIqR849iQW",
        "outputId": "9c930bcc-267a-43f4-f8ce-3dd39af90fe1"
      },
      "source": [
        "def recursive_binary_search(numbers, start, end, alvo):\n",
        "    if (start > end): return -1\n",
        "\n",
        "    mid = start + (end - start) // 2\n",
        "    if alvo > numbers[mid]:\n",
        "        return recursive_binary_search(numbers, mid + 1, end, alvo)\n",
        "    elif alvo < numbers[mid]:\n",
        "        return recursive_binary_search(numbers, start, mid - 1, alvo)\n",
        "    else:\n",
        "        return mid\n",
        "\n",
        "\n",
        "def binary_search(numbers, alvo):\n",
        "    return recursive_binary_search(numbers, 0, len(numbers) - 1, alvo)\n",
        "\n",
        "\n",
        "start_time = time.time()\n",
        "found = binary_search(numbers, 90_000_000)\n",
        "diff_time = time.time() - start_time\n",
        "\n",
        "print(f'Duração da recursive_binary_search(): {diff_time}s - {found}')"
      ],
      "execution_count": null,
      "outputs": [
        {
          "output_type": "stream",
          "text": [
            "Duração da recursive_binary_search(): 0.0001285076141357422s - 90000000\n"
          ],
          "name": "stdout"
        }
      ]
    },
    {
      "cell_type": "markdown",
      "metadata": {
        "id": "829Yqjr-CkgQ"
      },
      "source": [
        "## *Busca Binária Iterativa*"
      ]
    },
    {
      "cell_type": "code",
      "metadata": {
        "colab": {
          "base_uri": "https://localhost:8080/"
        },
        "id": "7dLuWFfbCidp",
        "outputId": "ad2055f1-a0d1-40eb-a866-4f3fd73ce622"
      },
      "source": [
        "def iterative_binary_search(numbers, alvo):\n",
        "    start, end = 0, len(numbers) - 1\n",
        "    \n",
        "    while start <= end:\n",
        "        mid = start + (end - start) // 2\n",
        "        if alvo > numbers[mid]:\n",
        "            start = mid + 1\n",
        "        elif alvo < numbers[mid]:\n",
        "            end = mid - 1\n",
        "        else:\n",
        "            return mid\n",
        "\n",
        "    return -1\n",
        "\n",
        "\n",
        "start_time = time.time()\n",
        "found = iterative_binary_search(numbers, 90_000_000)\n",
        "diff_time = time.time() - start_time\n",
        "\n",
        "print(f'Duração da iterative_binary_search(): {diff_time}s - {found}')"
      ],
      "execution_count": null,
      "outputs": [
        {
          "output_type": "stream",
          "text": [
            "Duração da iterative_binary_search(): 7.271766662597656e-05s - 90000000\n"
          ],
          "name": "stdout"
        }
      ]
    },
    {
      "cell_type": "markdown",
      "metadata": {
        "id": "bDi2s0Mn7Df8"
      },
      "source": [
        "# **Algoritmos de Ordenação**\n",
        "\n",
        "Ordenação (crescente ou decrescente) é o tipo de organização de dados mais básico (e um dos mais importantes). Assim, a performance de um algoritmo de ordenação é muito importante para que várias soluções se tornem possíveis quando tamanho do problema possui muitas ordens de grandeza.\n",
        "\n",
        "Abaixo vamos comparar os tempos de execução de alguns algoritmos:\n"
      ]
    },
    {
      "cell_type": "code",
      "metadata": {
        "colab": {
          "base_uri": "https://localhost:8080/"
        },
        "id": "aoptv4Pc-KJY",
        "outputId": "487ca1f1-e817-4f86-ae4a-c9d3519a441e"
      },
      "source": [
        "!pip install pysort"
      ],
      "execution_count": null,
      "outputs": [
        {
          "output_type": "stream",
          "text": [
            "Requirement already satisfied: pysort in /usr/local/lib/python3.7/dist-packages (1.0.0)\n"
          ],
          "name": "stdout"
        }
      ]
    },
    {
      "cell_type": "code",
      "metadata": {
        "colab": {
          "base_uri": "https://localhost:8080/"
        },
        "id": "Tq76NFKh8wU8",
        "outputId": "3f94e98f-a9db-4763-e892-02e1d24680e5"
      },
      "source": [
        "from random import randint\n",
        "\n",
        "from sorting_techniques import pysort\n",
        "\n",
        "\n",
        "sortObj = pysort.Sorting()\n",
        "\n",
        "numbers = [randint(0, 10_000_000) for _ in range(20_000)]\n",
        "\n",
        "start_time = time.time()\n",
        "result = sortObj.mergeSort(numbers)\n",
        "diff_time = time.time() - start_time\n",
        "\n",
        "print(f'mergeSort: {diff_time}s')\n",
        "\n",
        "numbers = [randint(0, 10_000_000) for _ in range(20_000)]\n",
        "\n",
        "start_time = time.time()\n",
        "result = sortObj.insertionSort(numbers)\n",
        "diff_time = time.time() - start_time\n",
        "\n",
        "print(f'insertionSort: {diff_time}s')"
      ],
      "execution_count": null,
      "outputs": [
        {
          "output_type": "stream",
          "text": [
            "mergeSort: 0.1300814151763916s\n",
            "insertionSort: 20.556164979934692s\n"
          ],
          "name": "stdout"
        }
      ]
    }
  ]
}