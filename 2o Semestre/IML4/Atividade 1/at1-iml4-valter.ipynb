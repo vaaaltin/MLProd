{
 "cells": [
  {
   "cell_type": "code",
   "execution_count": 229,
   "metadata": {},
   "outputs": [],
   "source": [
    "from requests import get\n",
    "from bs4 import BeautifulSoup\n",
    "import re"
   ]
  },
  {
   "cell_type": "markdown",
   "metadata": {},
   "source": [
    "# Página inicial do IMBd"
   ]
  },
  {
   "cell_type": "code",
   "execution_count": 230,
   "metadata": {},
   "outputs": [],
   "source": [
    "url = \"https://www.imdb.com/?ref_=nv_home\"\n",
    "hdr = {'User-Agent': 'Mozilla/5.0'}\n",
    "response = get(url,headers=hdr)\n",
    "response.encoding = \"UTF-8\"\n",
    "\n",
    "soup = BeautifulSoup(response.text, 'html.parser')"
   ]
  },
  {
   "cell_type": "code",
   "execution_count": 231,
   "metadata": {},
   "outputs": [
    {
     "data": {
      "text/plain": [
       "[]"
      ]
     },
     "execution_count": 231,
     "metadata": {},
     "output_type": "execute_result"
    }
   ],
   "source": [
    "soup.find_all('div', class_='fan-picks')"
   ]
  },
  {
   "cell_type": "markdown",
   "metadata": {},
   "source": [
    "1. Eu estava com a ideia de fazer uma espécie de \"seletor\" utilizando os Fan Picks do site, mas como o IMDb utiliza JS para gerar conteúdo de forma dinâmica isso não é possível com o Beautiful Soup. \n",
    "2. Seria possível acessar utilizando Selenium, mas como não é o escopo"
   ]
  },
  {
   "cell_type": "markdown",
   "metadata": {},
   "source": [
    "### Irei seguir apenas fazendo o webscrapping do link direto do Instertellar"
   ]
  },
  {
   "cell_type": "code",
   "execution_count": 232,
   "metadata": {},
   "outputs": [],
   "source": [
    "url = \"https://www.imdb.com/title/tt0816692/\"\n",
    "hdr = {'User-Agent': 'Mozilla/5.0'}\n",
    "response = get(url,headers=hdr)\n",
    "response.encoding = \"UTF-8\"\n",
    "\n",
    "soup = BeautifulSoup(response.text, 'html.parser')"
   ]
  },
  {
   "cell_type": "code",
   "execution_count": 233,
   "metadata": {},
   "outputs": [
    {
     "data": {
      "text/plain": [
       "<title>Interestelar (2014) - IMDb</title>"
      ]
     },
     "execution_count": 233,
     "metadata": {},
     "output_type": "execute_result"
    }
   ],
   "source": [
    "soup.title"
   ]
  },
  {
   "cell_type": "markdown",
   "metadata": {},
   "source": [
    "### Class with informations about the movie"
   ]
  },
  {
   "cell_type": "code",
   "execution_count": 234,
   "metadata": {},
   "outputs": [],
   "source": [
    "movie_info_class = 'sc-e226b0e3-6 CUzkx'\n",
    "div_movie_info = soup.find_all('div', class_=movie_info_class)[0]"
   ]
  },
  {
   "cell_type": "markdown",
   "metadata": {},
   "source": [
    "Movie Classifications"
   ]
  },
  {
   "cell_type": "code",
   "execution_count": 235,
   "metadata": {},
   "outputs": [
    {
     "name": "stdout",
     "output_type": "stream",
     "text": [
      "Movie Classifications\n",
      "-  Christopher Nolan\n"
     ]
    }
   ],
   "source": [
    "div_movie_classification = soup.find_all('div', class_='ipc-chip-list__scroller')[0]\n",
    "print('Movie Classifications')\n",
    "for x in temp:\n",
    "\tprint('- ', x.text)"
   ]
  },
  {
   "cell_type": "markdown",
   "metadata": {},
   "source": [
    "Sinopse"
   ]
  },
  {
   "cell_type": "code",
   "execution_count": 236,
   "metadata": {},
   "outputs": [
    {
     "data": {
      "text/plain": [
       "'When Earth becomes uninhabitable in the future, a farmer and ex-NASA pilot, Joseph Cooper, is tasked to pilot a spacecraft, along with a team of researchers, to find a new planet for humans.'"
      ]
     },
     "execution_count": 236,
     "metadata": {},
     "output_type": "execute_result"
    }
   ],
   "source": [
    "sinopse_class = 'sc-466bb6c-0'\n",
    "sinopse = div_movie_info.find_all('span', class_=sinopse_class)[0].get_text(strip=True)\n",
    "sinopse"
   ]
  },
  {
   "cell_type": "markdown",
   "metadata": {},
   "source": [
    "User Reviews + Critic Reviews + Metascore"
   ]
  },
  {
   "cell_type": "code",
   "execution_count": 237,
   "metadata": {},
   "outputs": [
    {
     "name": "stdout",
     "output_type": "stream",
     "text": [
      "User Reviews: 5.5K\n",
      "Critic Reviews: 486\n",
      "Metascore: 74\n"
     ]
    }
   ],
   "source": [
    "elements = div_movie_info.find_all('span', class_='three-Elements')\n",
    "user_reviews = elements[0].find(class_='score').get_text(strip=True)\n",
    "critic_reviews = elements[1].find(class_='score').get_text(strip=True)\n",
    "metascore = elements[2].find(class_='metacritic-score-box').get_text(strip=True)\n",
    "print(f'User Reviews: {user_reviews}')\n",
    "print(f'Critic Reviews: {critic_reviews}')\n",
    "print(f'Metascore: {metascore}')"
   ]
  },
  {
   "cell_type": "markdown",
   "metadata": {},
   "source": [
    "Crew"
   ]
  },
  {
   "cell_type": "code",
   "execution_count": 238,
   "metadata": {},
   "outputs": [
    {
     "name": "stdout",
     "output_type": "stream",
     "text": [
      "Director\n",
      "-  Christopher Nolan\n",
      "Writers\n",
      "-  Jonathan Nolan\n",
      "-  Christopher Nolan\n",
      "Stars - Link for the full list: https://www.imdb.com/title/tt0816692/fullcredits/cast?ref_=tt_ov_st_sm\n",
      "- Matthew McConaughey\n",
      "- Anne Hathaway\n",
      "- Jessica Chastain\n"
     ]
    }
   ],
   "source": [
    "director_elements_class = 'sc-69e49b85-3 dIOekc'\n",
    "director_elements = div_movie_info.find_all('div', class_=director_elements_class)[0]\n",
    "list_items = director_elements.find_all('li')\n",
    "captions = ['Director', 'Writers', 'Stars']\n",
    "\n",
    "\n",
    "for x in list_items:\n",
    "\tif x.find('span'):\n",
    "\t\tprint(x.find('span').text)\n",
    "\t\ttemp = x.find('div')\n",
    "\t\tfor x in temp.find_all('li'):\n",
    "\t\t\tprint('- ', x.text)\n",
    "\telif x.find('a', class_='ipc-metadata-list-item__label ipc-metadata-list-item__label--link'):\n",
    "\t\tprint(x.find('a', class_='ipc-metadata-list-item__label ipc-metadata-list-item__label--link').text, '- Link for the full list: https://www.imdb.com'+ x.find('a', class_='ipc-metadata-list-item__label ipc-metadata-list-item__label--link')['href'])\n",
    "\t\tstars_list = x.find_all('li', class_='ipc-inline-list__item')\n",
    "\t\tfor star_li in stars_list:\n",
    "\t\t\tstar_name = star_li.find('a', class_='ipc-metadata-list-item__list-content-item--link').text\n",
    "\t\t\tprint(f\"- {star_name}\")"
   ]
  },
  {
   "cell_type": "markdown",
   "metadata": {},
   "source": [
    "Videos"
   ]
  },
  {
   "cell_type": "code",
   "execution_count": 239,
   "metadata": {},
   "outputs": [
    {
     "name": "stdout",
     "output_type": "stream",
     "text": [
      "Trailer #1: https://www.imdb.com/video/vi2585177369/?ref_=tt_vi_i_3\n",
      "All Videos: https://www.imdb.com/title/tt0816692/videogallery/?ref_=tt_vi_sm\n"
     ]
    }
   ],
   "source": [
    "videos_select = soup.find('section', {'data-testid':'videos-section'}).find('div', class_='ipc-title ipc-title--base ipc-title--section-title ipc-title--on-textPrimary')\n",
    "\n",
    "anchor_element = videos_select.select_one('.ipc-title-link-wrapper')\n",
    "\n",
    "print('Trailer #1: https://www.imdb.com'+soup.find('a', {'aria-label': 'TrailerTrailer #1'}).get('href'))\n",
    "\n",
    "if anchor_element:\n",
    "    href_value = anchor_element.get('href')\n",
    "    print('All Videos: https://www.imdb.com'+href_value)"
   ]
  },
  {
   "cell_type": "code",
   "execution_count": null,
   "metadata": {},
   "outputs": [],
   "source": []
  }
 ],
 "metadata": {
  "kernelspec": {
   "display_name": "mlp",
   "language": "python",
   "name": "python3"
  },
  "language_info": {
   "codemirror_mode": {
    "name": "ipython",
    "version": 3
   },
   "file_extension": ".py",
   "mimetype": "text/x-python",
   "name": "python",
   "nbconvert_exporter": "python",
   "pygments_lexer": "ipython3",
   "version": "3.9.17"
  }
 },
 "nbformat": 4,
 "nbformat_minor": 2
}
