{
 "cells": [
  {
   "cell_type": "code",
   "execution_count": 112,
   "metadata": {},
   "outputs": [],
   "source": [
    "from requests import get\n",
    "from bs4 import BeautifulSoup\n",
    "import re"
   ]
  },
  {
   "cell_type": "markdown",
   "metadata": {},
   "source": [
    "#Página inicial do IMBd"
   ]
  },
  {
   "cell_type": "code",
   "execution_count": 37,
   "metadata": {},
   "outputs": [],
   "source": [
    "url = \"https://www.imdb.com/title/tt0816692/\"\n",
    "hdr = {'User-Agent': 'Mozilla/5.0'}"
   ]
  },
  {
   "cell_type": "code",
   "execution_count": 38,
   "metadata": {},
   "outputs": [],
   "source": [
    "response = get(url,headers=hdr)\n",
    "response.encoding = \"UTF-8\"\n",
    "\n",
    "soup = BeautifulSoup(response.text, 'html.parser')"
   ]
  },
  {
   "cell_type": "code",
   "execution_count": 39,
   "metadata": {},
   "outputs": [
    {
     "data": {
      "text/plain": [
       "<title>Interestelar (2014) - IMDb</title>"
      ]
     },
     "execution_count": 39,
     "metadata": {},
     "output_type": "execute_result"
    }
   ],
   "source": [
    "soup.title"
   ]
  },
  {
   "cell_type": "markdown",
   "metadata": {},
   "source": [
    "Sinopse"
   ]
  },
  {
   "cell_type": "code",
   "execution_count": 50,
   "metadata": {},
   "outputs": [
    {
     "data": {
      "text/plain": [
       "'When Earth becomes uninhabitable in the future, a farmer and ex-NASA pilot, Joseph Cooper, is tasked to pilot a spacecraft, along with a team of researchers, to find a new planet for humans.'"
      ]
     },
     "execution_count": 50,
     "metadata": {},
     "output_type": "execute_result"
    }
   ],
   "source": [
    "sinopse = soup.find_all('span', class_='sc-466bb6c-0')[0].get_text(strip=True)\n",
    "sinopse"
   ]
  },
  {
   "cell_type": "markdown",
   "metadata": {},
   "source": [
    "User Reviews + Critic Reviews + Metascore"
   ]
  },
  {
   "cell_type": "code",
   "execution_count": 74,
   "metadata": {},
   "outputs": [
    {
     "name": "stdout",
     "output_type": "stream",
     "text": [
      "User Reviews: 5.5K\n",
      "Critic Reviews: 486\n",
      "Metascore: 74\n"
     ]
    }
   ],
   "source": [
    "elements = soup.find_all('span', class_='three-Elements')\n",
    "user_reviews = elements[0].find(class_='score').get_text(strip=True)\n",
    "critic_reviews = elements[1].find(class_='score').get_text(strip=True)\n",
    "metascore = elements[2].find(class_='metacritic-score-box').get_text(strip=True)\n",
    "print(f'User Reviews: {user_reviews}')\n",
    "print(f'Critic Reviews: {critic_reviews}')\n",
    "print(f'Metascore: {metascore}')"
   ]
  },
  {
   "cell_type": "markdown",
   "metadata": {},
   "source": [
    "Diretor"
   ]
  },
  {
   "cell_type": "code",
   "execution_count": 171,
   "metadata": {},
   "outputs": [
    {
     "name": "stdout",
     "output_type": "stream",
     "text": [
      "Director\n",
      "- Christopher Nolan\n",
      "Writers\n",
      "- Jonathan Nolan\n",
      "- Christopher Nolan\n",
      "- All cast & crew\n",
      "- Production, box office & more at IMDbPro\n"
     ]
    }
   ],
   "source": [
    "# director_partial = re.compile(r'\\d+sc-bfec09a1-8 bHYmJY\\d+')\n",
    "director_elements = soup.select('[class*=\"sc-bfec09a1-8 bHYmJY\"]')\n",
    "director_elements = director_elements[0].find_all('li')\n",
    "\n",
    "for x in director_elements:\n",
    "\tif x.find('span'):\n",
    "\t\tprint(x.find('span').text)\n",
    "\telse:\n",
    "\t\tprint('-', x.text)"
   ]
  },
  {
   "cell_type": "code",
   "execution_count": null,
   "metadata": {},
   "outputs": [],
   "source": []
  }
 ],
 "metadata": {
  "kernelspec": {
   "display_name": "mlp",
   "language": "python",
   "name": "python3"
  },
  "language_info": {
   "codemirror_mode": {
    "name": "ipython",
    "version": 3
   },
   "file_extension": ".py",
   "mimetype": "text/x-python",
   "name": "python",
   "nbconvert_exporter": "python",
   "pygments_lexer": "ipython3",
   "version": "3.9.17"
  }
 },
 "nbformat": 4,
 "nbformat_minor": 2
}
