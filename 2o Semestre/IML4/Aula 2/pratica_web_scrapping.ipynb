{
 "cells": [
  {
   "cell_type": "markdown",
   "metadata": {},
   "source": [
    "**Prática com Web Scrapping**"
   ]
  },
  {
   "cell_type": "markdown",
   "metadata": {},
   "source": [
    "**urllib**"
   ]
  },
  {
   "cell_type": "markdown",
   "metadata": {},
   "source": [
    "REFERÊNCIA: https://docs.python.org/3/library/urllib.html"
   ]
  },
  {
   "cell_type": "code",
   "execution_count": 1,
   "metadata": {},
   "outputs": [],
   "source": [
    "import urllib.request"
   ]
  },
  {
   "cell_type": "code",
   "execution_count": 2,
   "metadata": {},
   "outputs": [],
   "source": [
    "f = urllib.request.urlopen(\"https://iti.ufscar.mba/\")"
   ]
  },
  {
   "cell_type": "code",
   "execution_count": 3,
   "metadata": {},
   "outputs": [
    {
     "name": "stdout",
     "output_type": "stream",
     "text": [
      "<!DOCTYPE html><!-- Last Published: Wed Jul 05 2023 11:19:45 GMT+0000 (Coordinated Universal Time) --><html data-wf-domain=\"iti.ufscar.mba\" data-wf-page=\"5fff6d04c79af53301f4929f\" data-wf-site=\"5f03212e310d7daf5962f991\"><head><meta charset=\"utf-8\"/><title>ITI UFSCar: Conheça os MBAs do ITI UFSCar!</title><meta content=\"Capacite-se com uma formação ampla, que une Solidez Acadêmica e Know-How de mercado, em uma das melhores universidades da América Latina.\" name=\"description\"/><meta content=\"ITI UFSCar: Conheça os MBAs do ITI UFSCar!\" property=\"og:title\"/><meta content=\"Uma formação ampla, com respaldo acadêmico e alinhada com o mercado!\" property=\"og:description\"/><meta content=\"https://uploads-ssl.webflow.com/5f03212e310d7daf5962f991/5f175e51e488911d2b5e4eff_ITI%20MBA%20UFSCar%20Curso%20MBA%20Informa%C3%A7%C3%A3o%2C%20Tecnologia%20e%20Inova%C3%A7%C3%A3o%20Imagem%20de%20Divulga%C3%A7%C3%A3o%20do%20Curso.png\" property=\"og:image\"/><meta content=\"ITI UFSCar: Conheça os MBAs do IT\n"
     ]
    }
   ],
   "source": [
    "print(f.read(1000).decode(\"utf-8\"))"
   ]
  },
  {
   "cell_type": "markdown",
   "metadata": {},
   "source": [
    "**requests**"
   ]
  },
  {
   "cell_type": "markdown",
   "metadata": {},
   "source": [
    "REFERÊNCIA: https://pypi.org/project/requests/"
   ]
  },
  {
   "cell_type": "code",
   "execution_count": 4,
   "metadata": {},
   "outputs": [],
   "source": [
    "import requests"
   ]
  },
  {
   "cell_type": "code",
   "execution_count": 5,
   "metadata": {},
   "outputs": [],
   "source": [
    "url = \"https://iti.ufscar.mba/\""
   ]
  },
  {
   "cell_type": "code",
   "execution_count": 6,
   "metadata": {},
   "outputs": [
    {
     "data": {
      "text/plain": [
       "<Response [200]>"
      ]
     },
     "execution_count": 6,
     "metadata": {},
     "output_type": "execute_result"
    }
   ],
   "source": [
    "html = requests.get(url)\n",
    "html"
   ]
  },
  {
   "cell_type": "code",
   "execution_count": 7,
   "metadata": {},
   "outputs": [
    {
     "data": {
      "text/plain": [
       "'<!DOCTYPE html><!-- Last Published: Wed Jul 05 2023 11:19:45 GMT+0000 (Coordinated Universal Time) --><html data-wf-domain=\"iti.ufscar.mba\" data-wf-page=\"5fff6d04c79af53301f4929f\" data-wf-site=\"5f03212e310d7daf5962f991\"><head><meta charset=\"utf-8\"/><title>ITI UFSCar: ConheÃ§a os MBAs do ITI UFSCar!</title><meta content=\"Capacite-se com uma formaÃ§Ã£o ampla, que une Solidez AcadÃªmica e Know-How de mercado, em uma das melhores universidades da AmÃ©rica Latina.\" name=\"description\"/><meta content=\"ITI UFSCar: ConheÃ§a os MBAs do ITI UFSCar!\" property=\"og:title\"/><meta content=\"Uma formaÃ§Ã£o ampla, com respaldo acadÃªmico e alinhada com o mercado!\" property=\"og:description\"/><meta content=\"https://uploads-ssl.webflow.com/5f03212e310d7daf5962f991/5f175e51e488911d2b5e4eff_ITI%20MBA%20UFSCar%20Curso%20MBA%20Informa%C3%A7%C3%A3o%2C%20Tecnologia%20e%20Inova%C3%A7%C3%A3o%20Imagem%20de%20Divulga%C3%A7%C3%A3o%20do%20Curso.png\" property=\"og:image\"/><meta content=\"ITI UFSCar: ConheÃ§a os MBAs do ITI UFSCar!\" property=\"twitter:title\"/><meta content=\"Uma formaÃ§Ã£o ampla, com respaldo acadÃªmico e alinhada com o mercado!\" property=\"twitter:description\"/><meta content=\"https://uploads-ssl.webflow.com/5f03212e310d7daf5962f991/5f175e51e488911d2b5e4eff_ITI%20MBA%20UFSCar%20Curso%20MBA%20Informa%C3%A7%C3%A3o%2C%20Tecnologia%20e%20Inova%C3%A7%C3%A3o%20Imagem%20de%20Divulga%C3%A7%C3%A3o%20do%20Curso.png\" property=\"twitter:image\"/><meta property=\"og:type\" content=\"website\"/><meta content=\"summary_large_image\" name=\"twitter:card\"/><meta content=\"width=device-width, initial-scale=1\" name=\"viewport\"/><meta content=\"E7ZCZ4qLVxidaihTHSugu9EHP-fszvd0PyXjBqkdKlU\" name=\"google-site-verification\"/><link href=\"https://uploads-ssl.webflow.com/5f03212e310d7daf5962f991/css/iti-mba-ufscar.webflow.c6bfa9fac.min.css\" rel=\"stylesheet\" type=\"text/css\"/><script src=\"https://use.typekit.net/ugp8vll.js\" type=\"text/javascript\"></script><script type=\"text/javascript\">try{Typekit.load();}catch(e){}</script><script type=\"text/javascript\">!function(o,c){var n=c.documentElement,t=\" w-mod-\";n.className+=t+\"js\",(\"ontouchstart\"in o||o.DocumentTouch&&c instanceof DocumentTouch)&&(n.className+=t+\"touch\")}(window,document);</script><link href=\"https://uploads-ssl.webflow.com/5f03212e310d7daf5962f991/5f037e705534437b6898c6ac_ITI%20MBA%20UFSCar%20Curso%20Informa%C3%A7%C3%A3o%2C%20Tecnologia%20e%20Inova%C3%A7%C3%A3o%20Logotipo%20Favicon.png\" rel=\"shortcut icon\" type=\"image/x-icon\"/><link href=\"https://uploads-ssl.webflow.com/5f03212e310d7daf5962f991/5f037e73aa2ef82cd5d9976e_ITI%20MBA%20UFSCar%20Curso%20Informa%C3%A7%C3%A3o%2C%20Tecnologia%20e%20Inova%C3%A7%C3%A3o%20Logotipo%20Favicon%20Celular.png\" rel=\"apple-touch-icon\"/><!-- Google Tag Manager -->\\n<script>(function(w,d,s,l,i){w[l]=w[l]||[];w[l].push({\\'gtm.start\\':\\nnew Date().getTime(),event:\\'gtm.js\\'});var f=d.getElementsByTagName(s)[0],\\nj=d.createElement(s),dl=l!=\\'dataLayer\\'?\\'&l=\\'+l:\\'\\';j.async=true;j.src=\\n\\'https://www.googletagmanager.com/gtm.js?id=\\'+i+dl;f.parentNode.insertBefore(j,f);\\n})(window,document,\\'script\\',\\'dataLayer\\',\\'GTM-NC88FMN\\');</script>\\n<!-- End Google Tag Manager --></head><body class=\"corpo\"><div class=\"popups\"><div class=\"popup-video\"><div id=\"video1\" class=\"video-modal\"><div class=\"fechar-popup\" data-ix=\"fechar-popups\"></div><div style=\"padding-top:56.27659574468085%\" class=\"videoplayer-mobile w-video w-embed\"><iframe class=\"embedly-embed\" src=\"//cdn.embedly.com/widgets/media.html?src=https%3A%2F%2Fplayer.vimeo.com%2Fvideo%2F497408080%3Fapp_id%3D122963&dntp=1&display_name=Vimeo&url=https%3A%2F%2Fvimeo.com%2F497408080&image=https%3A%2F%2Fi.vimeocdn.com%2Fvideo%2F1029356115_1280.jpg&key=96f1f04c5f4143bcb0f2e68c87d65feb&type=text%2Fhtml&schema=vimeo\" scrolling=\"no\" title=\"Vimeo embed\" frameborder=\"0\" allow=\"autoplay; fullscreen\" allowfullscreen=\"true\"></iframe></div></div><div id=\"bg-video1\" class=\"popup-bg\"></div></div><div class=\"popup-depoimento\"><div id=\"depo\" class=\"video-modal\"><div class=\"fechar-popup\" data-ix=\"fechar-popups\"></div><div style=\"padding-top:56.17021276595745%\" class=\"videoplayer-depo w-video w-embed\"><iframe class=\"embedly-embed\" src=\"//cdn.embedly.com/widgets/media.html?src=https%3A%2F%2Fwww.youtube.com%2Fembed%2FtpuNavQLO-8%3Ffeature%3Doembed%26modestbranding%3D1&display_name=YouTube&url=https%3A%2F%2Fwww.youtube.com%2Fwatch%3Fv%3DtpuNavQLO-8&image=https%3A%2F%2Fi.ytimg.com%2Fvi%2FtpuNavQLO-8%2Fhqdefault.jpg&args=modestbranding%3D1%7Crel%3D0&key=96f1f04c5f4143bcb0f2e68c87d65feb&type=text%2Fhtml&schema=youtube\" scrolling=\"no\" title=\"YouTube embed\" frameborder=\"0\" allow=\"autoplay; fullscreen\" allowfullscreen=\"true\"></iframe></div></div><div id=\"bg-depo\" class=\"popup-bg\"></div></div><div class=\"popup-componentes\"><div class=\"div-componentes\"><div class=\"fechar-popup-componentes\" data-ix=\"fechar-popups\"></div><h1 class=\"h2-componentes-popup\">Componentes Curriculares</h1><div data-duration-in=\"400\" data-duration-out=\"200\" data-easing=\"ease-in-out\" data-current=\"InformaÃ§Ã£o Para NegÃ³cios\" class=\"abas-componentes w-tabs\"><div class=\"menu-tabs-componentes w-tab-menu\"><a data-w-tab=\"InformaÃ§Ã£o Para NegÃ³cios\" class=\"tab-link-modulos w-inline-block w-tab-link w--current\"><div class=\"icone-modulo\"></div><div class=\"modulos-titulos\">informaÃ§Ã£o para negÃ³cios</div></a><a data-w-tab=\"Tecnologia\" class=\"tab-link-modulos w-inline-block w-tab-link\"><div class=\"icone-modulo tecnologia\"></div><div class=\"modulos-titulos\">tecnologia</div></a><a data-w-tab=\"InovaÃ§Ã£o\" id=\"w-node-_75ad4b12-f774-65a0-018c-f9c27d1c2b3d-01f4929f\" class=\"tab-link-modulos w-inline-block w-tab-link\"><div class=\"icone-modulo inova-o\"></div><div class=\"modulos-titulos\">inovaÃ§Ã£o</div></a><a data-w-tab=\"Projeto de InovaÃ§Ã£o\" class=\"tab-link-modulos w-inline-block w-tab-link\"><div class=\"icone-modulo tcc\"></div><div class=\"modulos-titulos\">projeto de inovaÃ§Ã£o (TCC)</div></a></div><div class=\"conteudo-tabs-componentes w-tab-content\"><div data-w-tab=\"InformaÃ§Ã£o Para NegÃ³cios\" class=\"tab-conteudo-modulos w-tab-pane w--tab-active\"><div class=\"aba-interna-componentes\"><div class=\"modulos-titulos-mobile\"><strong>InformaÃ§Ã£o Para NegÃ³cios</strong><br/></div><div data-duration-in=\"300\" data-duration-out=\"100\" data-current=\"TransformaÃ§Ã£o Digital e Futuro dos NegÃ³cios\" data-easing=\"ease\" class=\"tabs-modulo w-tabs\"><div class=\"tabs-internas-de-cada-m-dulo w-tab-menu\"><a data-w-tab=\"TransformaÃ§Ã£o Digital e Futuro dos NegÃ³cios\" class=\"aba-do-componente topo w-inline-block w-tab-link w--current\"><div>TransformaÃ§Ã£o Digital e Futuro dos NegÃ³cios</div></a><a data-w-tab=\"Dados, InformaÃ§Ã£o e InovaÃ§Ã£o\" class=\"aba-do-componente w-inline-block w-tab-link\"><div>Dados, InformaÃ§Ã£o e InovaÃ§Ã£o</div></a><a data-w-tab=\"Planejamento EstratÃ©gico para a InovaÃ§Ã£o\" class=\"aba-do-componente w-inline-block w-tab-link\"><div><strong>Planejamento EstratÃ©gico para a InovaÃ§Ã£o</strong><br/></div></a><a data-w-tab=\"Gerenciamento Ã\\x81gil de Projetos\" class=\"aba-do-componente w-inline-block w-tab-link\"><div><strong>Gerenciamento Ã\\x81gil de Projetos</strong><br/></div></a><a data-w-tab=\"GestÃ£o Disruptiva de Pessoas\" class=\"aba-do-componente ultimo w-inline-block w-tab-link\"><div><strong>GestÃ£o Disruptiva de Pessoas</strong><br/></div></a></div><div class=\"conte-do-de-cada-componente w-tab-content\"><div data-w-tab=\"TransformaÃ§Ã£o Digital e Futuro dos NegÃ³cios\" class=\"aba-conteudo-do-componente w-tab-pane w--tab-active\"><div class=\"div-conteudo-componente\"><div class=\"texto-componente\"><h4 class=\"h4-fundo-branco\"><strong>TransformaÃ§Ã£o Digital e Futuro dos NegÃ³cios</strong><br/></h4><p class=\"p-fundo-branco\">CaracterÃ\\xadsticas de uma organizaÃ§Ã£o, mudanÃ§as e oportunidades. CenÃ¡rios e incertezas nos novos cenÃ¡rios. Modelagem e a construÃ§Ã£o de percepÃ§Ã£o de processos. NÃ\\xadveis tecnolÃ³gicos e o mercado. Impactos: econÃ´mico, cultural, social e ambiental. Paradigmas e a necessidade de mudanÃ§as. Perspectivas e preparaÃ§Ã£o para o futuro.</p></div><div class=\"img-componente\"></div></div></div><div data-w-tab=\"Dados, InformaÃ§Ã£o e InovaÃ§Ã£o\" class=\"aba-conteudo-do-componente w-tab-pane\"><div class=\"div-conteudo-componente\"><div class=\"texto-componente\"><h4 class=\"h4-fundo-branco\"><strong>Dados, InformaÃ§Ã£o e InovaÃ§Ã£o</strong><br/></h4><p class=\"p-fundo-branco\">IdentificaÃ§Ã£o de padrÃµes em dados histÃ³ricos para realizar previsÃµes de tendÃªncias. VisualizaÃ§Ã£o de informaÃ§Ãµes, visualizaÃ§Ã£o cientÃ\\xadfica e anÃ¡lise visual. Dado, informaÃ§Ã£o e conhecimento. Ciclo de vida dos dados. Modelagem e abstraÃ§Ã£o do real. Construindo cenÃ¡rios e utilizando novas ferramentas para dados. DiagnÃ³sticos e simulaÃ§Ãµes. Buscando e avaliando oportunidades e novos caminhos.<br/></p></div><div class=\"img-componente\"></div></div></div><div data-w-tab=\"Planejamento EstratÃ©gico para a InovaÃ§Ã£o\" class=\"aba-conteudo-do-componente w-tab-pane\"><div class=\"div-conteudo-componente\"><div class=\"texto-componente\"><h4 class=\"h4-fundo-branco\"><strong>Planejamento EstratÃ©gico para a InovaÃ§Ã£o</strong><br/></h4><p class=\"p-fundo-branco\">InovaÃ§Ã£o como vantagem competitiva e a importÃ¢ncia do planejamento da organizaÃ§Ã£o para a inovaÃ§Ã£o. Ferramentas para o planejamento estratÃ©gico: uso da Matriz SWOT, Business Model Canvas, Project Model Canvas, MÃ\\xadnimo Produto ViÃ¡vel (MVP). Indicadores de inovaÃ§Ã£o: a importÃ¢ncia das mÃ©tricas e da visÃ£o organizacional. Formas de cooperaÃ§Ã£o/interaÃ§Ã£o institucional (licenciamento, consÃ³rcios, parcerias estratÃ©gicas, joint venture, redes). Como elaborar um Plano de inovaÃ§Ã£o.</p></div><div class=\"img-componente\"></div></div></div><div data-w-tab=\"Gerenciamento Ã\\x81gil de Projetos\" class=\"aba-conteudo-do-componente w-tab-pane\"><div class=\"div-conteudo-componente\"><div class=\"texto-componente\"><h4 class=\"h4-fundo-branco\"><strong>Gerenciamento Ã\\x81gil de Projetos</strong><br/></h4><p class=\"p-fundo-branco\">IntroduÃ§Ã£o Ã\\xa0 gestÃ£o de projetos, processos de gerenciamento do PMBOK, gestÃ£o de riscos e tÃ©cnicas tradicionais de estimativas. Conceitos introdutÃ³rios da gestÃ£o Ã¡gil de projetos, fundamentos das abordagens Ã¡geis, introduÃ§Ã£o a APM â\\x80\\x93 Agile Project Management e visÃ£o geral das metodologias Ã¡geis Detalhamento do framework Scrum. PropÃ³sito do planejamento de projetos, abordagem Ã¡gil de como realizar estimativas, comparaÃ§Ã£o com as medidas tradicionais, planejamento de iteraÃ§Ãµes e acompanhamento das estimativas. Conceitos fundamentais do Lean e os princÃ\\xadpios que compÃµem a metodologia. VisÃ£o geral sobre o Kanban. PrÃ¡ticas de lideranÃ§a Ã¡gil. AnÃ¡lise comparativa das metodologias, abordagem de maturidade com agilidade, anÃ¡lise de divergÃªncias e concordÃ¢ncias, experiÃªncias prÃ¡ticas e liÃ§Ãµes aprendidas. PrÃ¡ticas de negociaÃ§Ã£o e atitudes gerÃªncias. Impactos da onda digital e seus desdobramentos nas organizaÃ§Ãµes.</p></div><div class=\"img-componente\"></div></div></div><div data-w-tab=\"GestÃ£o Disruptiva de Pessoas\" class=\"aba-conteudo-do-componente w-tab-pane\"><div class=\"div-conteudo-componente\"><div class=\"texto-componente\"><h4 class=\"h4-fundo-branco\">GestÃ£o Disruptiva de Pessoas<br/></h4><p class=\"p-fundo-branco\">Abordagem das competÃªncias; EstratÃ©gia competÃªncia organizacional; GestÃ£o de pessoas por competÃªncias; Modelagem de processos de trabalho; MÃ©todos e tÃ©cnicas para o mapeamento de competÃªncias; Desenvolvimento de competÃªncias; AvaliaÃ§Ã£o de desempenho; AnÃ¡lise de redes sociais; CertificaÃ§Ã£o de competÃªncias.</p></div><div class=\"img-componente\"></div></div></div></div></div></div></div><div data-w-tab=\"Tecnologia\" class=\"tab-conteudo-modulos w-tab-pane\"><div class=\"aba-interna-componentes\"><div class=\"modulos-titulos-mobile\"><strong>Tecnologia</strong></div><div data-duration-in=\"300\" data-duration-out=\"100\" data-current=\"Data Science e Big Data\" data-easing=\"ease\" class=\"tabs-modulo w-tabs\"><div class=\"tabs-internas-de-cada-m-dulo w-tab-menu\"><a data-w-tab=\"Data Science e Big Data\" class=\"aba-do-componente topo w-inline-block w-tab-link w--current\"><div>Data Science e Big Data<br/></div></a><a data-w-tab=\"Data Mining em Data Science\" class=\"aba-do-componente w-inline-block w-tab-link\"><div>Data Mining em Data Science<br/></div></a><a data-w-tab=\"Business Intelligence\" class=\"aba-do-componente w-inline-block w-tab-link\"><div>Business Intelligence<br/></div></a><a data-w-tab=\"IoT e Data Analytics\" class=\"aba-do-componente w-inline-block w-tab-link\"><div>IoT e Data Analytics<br/></div></a><a data-w-tab=\"Machine Learning e Deep Learning\" class=\"aba-do-componente ultimo w-inline-block w-tab-link\"><div>Machine Learning e Deep Learning<br/></div></a></div><div class=\"conte-do-de-cada-componente w-tab-content\"><div data-w-tab=\"Data Science e Big Data\" class=\"aba-conteudo-do-componente w-tab-pane w--tab-active\"><div class=\"div-conteudo-componente\"><div class=\"texto-componente\"><h4 class=\"h4-fundo-branco\"><strong>Data Science e Big Data</strong><br/></h4><p class=\"p-fundo-branco\">Como se integram Big Data e Data Science? O que Ã© Big Data? 3V ou 5V? O que Ã© Data Science? O processo de Data Science. Ferramentas e AplicaÃ§Ãµes de Data Science: Data Mining, BI, IoT, Data Analytics, Machine Learning e Deep Learning.</p></div><div class=\"img-componente\"></div></div></div><div data-w-tab=\"Data Mining em Data Science\" class=\"aba-conteudo-do-componente w-tab-pane\"><div class=\"div-conteudo-componente\"><div class=\"texto-componente\"><h4 class=\"h4-fundo-branco\"><strong>Data Mining em Data Science</strong><br/></h4><p class=\"p-fundo-branco\">Abordagem prÃ¡tica com o R em todos os assuntos: IntroduÃ§Ã£o: A nova onda Big Data, Data Science. Aonde estÃ¡ data mining? O que Ã©? Para que serve? Quais tipos de tarefas? PrÃ©-processamento: diagramas para a seleÃ§Ã£o dos dados e tarefas de mineraÃ§Ã£o (dispersÃ£o, caixa, histograma, nuvem), discretizaÃ§Ã£o, detecÃ§Ã£o e tratamento de anomalias, amostragem e normalizaÃ§Ã£o; ClassificaÃ§Ã£o: Ã¡rvores de decisÃ£o, naive bayes, algoritmos genÃ©ticos, redes neurais; Agrupamento: mÃ©todos particionais, hierÃ¡rquicos e baseados em densidade; CorrelaÃ§Ã£o: CovariÃ¢ncia, Person Correlation, Spearman&#x27;s Correlation; Regras de AssociaÃ§Ã£o: AssociaÃ§Ã£o booleana, associaÃ§Ã£o quantitativa, associaÃ§Ã£o temporal; DetecÃ§Ã£o de fraudes: AplicaÃ§Ã£o em conjunto das tÃ©cnicas anteriores; Perfil do usuÃ¡rio: AplicaÃ§Ã£o em conjunto das tÃ©cnicas anteriores.<br/></p></div><div class=\"img-componente\"></div></div></div><div data-w-tab=\"Business Intelligence\" class=\"aba-conteudo-do-componente w-tab-pane\"><div class=\"div-conteudo-componente\"><div class=\"texto-componente\"><h4 class=\"h4-fundo-branco\"><strong>Business Intelligence</strong><br/></h4><p class=\"p-fundo-branco\">Como utilizar Business Intelligence para antecipar problemas e agir proativamente na anÃ¡lise de negÃ³cios; Processo de inteligÃªncia competitiva; Fonte e inteligÃªncia e coleta de dados; TÃ©cnicas de processamento e anÃ¡lise; DisseminaÃ§Ã£o da IC; Tecnologias aplicadas aIC; NoÃ§Ãµes de inteligÃªncia de marketing.<br/></p></div><div class=\"img-componente\"></div></div></div><div data-w-tab=\"IoT e Data Analytics\" class=\"aba-conteudo-do-componente w-tab-pane\"><div class=\"div-conteudo-componente\"><div class=\"texto-componente\"><h4 class=\"h4-fundo-branco\"><strong>IoT e Data Analytics</strong><br/></h4><p class=\"p-fundo-branco\">IntroduÃ§Ã£o: definiÃ§Ã£o, aplicaÃ§Ãµes, arquiteturas e protocolos; Coleta, transmissÃ£o e fusÃ£o de dados de sensores; Plataformas de IoT e Data Analytics; AplicaÃ§Ãµes de IoT: IoT na indÃºstria, Smart Homes, tecnologias vestÃ\\xadveis.</p></div><div class=\"img-componente\"></div></div></div><div data-w-tab=\"Machine Learning e Deep Learning\" class=\"aba-conteudo-do-componente w-tab-pane\"><div class=\"div-conteudo-componente\"><div class=\"texto-componente\"><h4 class=\"h4-fundo-branco\"><strong>Machine Learning e Deep Learning</strong><br/></h4><p class=\"p-fundo-branco\">NoÃ§Ãµes gerais de InteligÃªncia Artificial, Tipos de Aprendizado de MÃ¡quina e abordagens supervisionada, nÃ£o supervisionada e semisupervisionada. Deep Learning: IntroduÃ§Ã£o Ã\\xa0s Redes Neurais Artificiais; Redes Neurais Profundas; Principais tipos de Redes Neurais Profundas.<br/></p></div><div class=\"img-componente\"></div></div></div></div></div></div></div><div data-w-tab=\"InovaÃ§Ã£o\" class=\"tab-conteudo-modulos w-tab-pane\"><div class=\"aba-interna-componentes\"><div class=\"modulos-titulos-mobile\"><strong>InovaÃ§Ã£o</strong></div><div data-duration-in=\"300\" data-duration-out=\"100\" data-current=\"GestÃ£o da InovaÃ§Ã£o\" data-easing=\"ease\" class=\"tabs-modulo w-tabs\"><div class=\"tabs-internas-de-cada-m-dulo w-tab-menu\"><a data-w-tab=\"GestÃ£o da InovaÃ§Ã£o\" class=\"aba-do-componente topo w-inline-block w-tab-link w--current\"><div>GestÃ£o da InovaÃ§Ã£o<br/></div></a><a data-w-tab=\"Design Thinking e User Experience\" class=\"aba-do-componente w-inline-block w-tab-link\"><div>Design Thinking e User Experience</div></a><a data-w-tab=\"Compliance e Cultura Organizacional\" class=\"aba-do-componente w-inline-block w-tab-link\"><div>Compliance e Cultura Organizacional<br/></div></a><a data-w-tab=\"Modelo de NegÃ³cios e InovaÃ§Ã£o\" class=\"aba-do-componente w-inline-block w-tab-link\"><div>Modelo de NegÃ³cios e InovaÃ§Ã£o<br/></div></a><a data-w-tab=\"InovaÃ§Ã£o em Marketing Digital\" class=\"aba-do-componente ultimo w-inline-block w-tab-link\"><div>InovaÃ§Ã£o em Marketing Digital<br/></div></a></div><div class=\"conte-do-de-cada-componente w-tab-content\"><div data-w-tab=\"GestÃ£o da InovaÃ§Ã£o\" class=\"aba-conteudo-do-componente w-tab-pane w--tab-active\"><div class=\"div-conteudo-componente\"><div class=\"texto-componente\"><h4 class=\"h4-fundo-branco\"><strong>GestÃ£o da InovaÃ§Ã£o</strong><br/></h4><p class=\"p-fundo-branco\">CiÃªncia, Tecnologia e InovaÃ§Ã£o: A importÃ¢ncia dos conceitos e os papÃ©is dos diferentes atores nas polÃ\\xadticas de desenvolvimento tecnolÃ³gico nacional; Propriedade Intelectual e a necessidade de integraÃ§Ã£o com a estratÃ©gia de mercado das organizaÃ§Ãµes; TransferÃªncia de Tecnologia/ Know-How e a relaÃ§Ã£o com o desenvolvimento do empreendedorismo e/ou aquisiÃ§Ãµes de startups; InovaÃ§Ã£o e o Desenvolvimento Organizacional SustentÃ¡vel (com enfoque Triple Bottom Line, ou tripÃ© da sustentabilidade); GestÃ£o do Conhecimento e Aprendizagem Organizacional para o aumento da competitividade das empresas.<br/></p></div><div class=\"img-componente\"></div></div></div><div data-w-tab=\"Design Thinking e User Experience\" class=\"aba-conteudo-do-componente w-tab-pane\"><div class=\"div-conteudo-componente\"><div class=\"texto-componente\"><h4 class=\"h4-fundo-branco\"><strong>Design Thinking e User Experience</strong><br/></h4><p class=\"p-fundo-branco\">PrincÃ\\xadpios, conceitos e vertentes de User Experience (UX) considerando a diversidade de clientes; TÃ©cnicas de design e avaliaÃ§Ã£o de usabilidade de sistemas: Personas, guidelines, rapid prototyping â\\x80\\x93 baixa fidelidade, AvaliaÃ§Ã£o HeurÃ\\xadstica e Testes com UsuÃ¡rio; TÃ©cnicas de design e avaliaÃ§Ã£o de acessibilidade de sistemas: guidelines, rapid prototyping â\\x80\\x93 mÃ©dia fidelidade, AvaliaÃ§Ã£o Simplificada de Acessibilidade, AvaliaÃ§Ãµes semi automÃ¡ticas.<br/></p></div><div class=\"img-componente\"></div></div></div><div data-w-tab=\"Compliance e Cultura Organizacional\" class=\"aba-conteudo-do-componente w-tab-pane\"><div class=\"div-conteudo-componente\"><div class=\"texto-componente\"><h4 class=\"h4-fundo-branco\"><strong>Compliance e Cultura Organizacional</strong><br/></h4><p class=\"p-fundo-branco\">InovaÃ§Ã£o como vantagem competitiva e a importÃ¢ncia do planejamento da organizaÃ§Ã£o para a inovaÃ§Ã£o. Ferramentas para o planejamento estratÃ©gico: uso da Matriz SWOT, Business Model Canvas, Project Model Canvas, MÃ\\xadnimo Produto ViÃ¡vel (MVP). Indicadores de inovaÃ§Ã£o: a importÃ¢ncia das mÃ©tricas e da visÃ£o organizacional. Formas de cooperaÃ§Ã£o/interaÃ§Ã£o institucional (licenciamento, consÃ³rcios, parcerias estratÃ©gicas, joint venture, redes). Como elaborar um Plano de inovaÃ§Ã£o.</p></div><div class=\"img-componente\"></div></div></div><div data-w-tab=\"Modelo de NegÃ³cios e InovaÃ§Ã£o\" class=\"aba-conteudo-do-componente w-tab-pane\"><div class=\"div-conteudo-componente\"><div class=\"texto-componente\"><h4 class=\"h4-fundo-branco\"><strong>Modelo de NegÃ³cios e InovaÃ§Ã£o</strong><br/></h4><p class=\"p-fundo-branco\">IdentificaÃ§Ã£o de oportunidades; InovaÃ§Ã£o e seus conceitos; Abordagens para inovaÃ§Ã£o; InovaÃ§Ã£o incremental e de ruptura; Planos de negÃ³cio e modelos de negÃ³cio; Modelos Canvas e BMG (Business Model Generation); Planos de aÃ§Ã£o; Pitch; Fontes de financiamento pÃºblicas e privadas para startups; Propriedade intelectual e sua proteÃ§Ã£o; Patentes; Contratos e licenciamento de tecnologias; Estudos de caso; Ferramentas de prototipagem rÃ¡pida para construir protÃ³tipos de produtos: Arduino, ImpressÃ£o 3D e App Inventor.<br/></p></div><div class=\"img-componente\"></div></div></div><div data-w-tab=\"InovaÃ§Ã£o em Marketing Digital\" class=\"aba-conteudo-do-componente w-tab-pane\"><div class=\"div-conteudo-componente\"><div class=\"texto-componente\"><h4 class=\"h4-fundo-branco\"><strong>InovaÃ§Ã£o em Marketing Digital</strong><br/></h4><p class=\"p-fundo-branco\">TransformaÃ§Ã£o Digital e a IndÃºstria 4.0; Conceitos de InovaÃ§Ã£o: Produto, ServiÃ§os, Processos e Marketing; InformaÃ§Ã£o para Tomada de DecisÃ£o - InteligÃªncia EstratÃ©gica; IntroduÃ§Ã£o ao marketing: marketing estratÃ©gico e operacional; AnÃ¡lise do ambiente de marketing; Pesquisa de mercado em marketing; Comportamento do consumidor; SegmentaÃ§Ã£o e posicionamento; O mix de marketing: preÃ§o, estratÃ©gia de produto e marca, comunicaÃ§Ã£o e promoÃ§Ã£o comercial, distribuiÃ§Ã£o gerenciamento de canais; Marketing na era digital: integrando estratÃ©gias offline e online; Ferramentas de marketing digital: SEM / SEO; Marketing de ConteÃºdo e Redes Sociais; Plano de marketing.</p></div><div class=\"img-componente\"></div></div></div></div></div></div></div><div data-w-tab=\"Projeto de InovaÃ§Ã£o\" class=\"tab-conteudo-modulos w-tab-pane\"><div class=\"aba-interna-componentes\"><div class=\"modulos-titulos-mobile\">projeto de inovaÃ§Ã£o (TCC)</div><div class=\"conteudo-tcc\"><h4 class=\"h4-fundo-branco\"><strong>Projeto de InovaÃ§Ã£o (TCC)</strong><br/></h4><p class=\"p-fundo-branco\"><strong>Principais caracterÃ\\xadsticas e estruturas de um Projeto de InovaÃ§Ã£o:<br/></strong>- Fontes de Fomento para projetos de inovaÃ§Ã£o tecnolÃ³gica nas empresas.<br/><br/><strong>AvaliaÃ§Ã£o dos Projetos de InovaÃ§Ã£o:<br/></strong>- A importÃ¢ncia das parcerias estratÃ©gicas.<br/>- FormaÃ§Ã£o de equipe multidisciplinar e a gestÃ£o de projetos inovadores.<br/>- Tempo e sua relaÃ§Ã£o com o sucesso dos projetos de inovaÃ§Ã£o.</p></div><div class=\"img-tcc\"></div></div></div></div></div></div><div class=\"popup-bg\"></div></div><div class=\"popup-pr--whatsapp\"><div class=\"div-pr--whatsapp\"><div class=\"fechar-popup-whatsapp\" data-ix=\"fechar-popups\"></div><div class=\"div-form-pr--whatsapp\"><h4 class=\"h4 form-whatsapp\">Preencha com seus dados para iniciar uma conversa conosco no WhatsApp:</h4><div class=\"form-pr--whatsapp w-form\"><form id=\"wf-form-Pr--WhatsApp\" name=\"wf-form-Pr--WhatsApp\" data-name=\"PrÃ©-WhatsApp\" redirect=\"https://api.whatsapp.com/send?phone=5516997789400&amp;text=Ol%C3%A1%2C%20gostaria%20de%20mais%20informa%C3%A7%C3%B5es%20sobre%20o%20curso%20de%20voc%C3%AAs\" data-redirect=\"https://api.whatsapp.com/send?phone=5516997789400&amp;text=Ol%C3%A1%2C%20gostaria%20de%20mais%20informa%C3%A7%C3%B5es%20sobre%20o%20curso%20de%20voc%C3%AAs\" method=\"get\" Redirect=\"target=&quot;_blank&quot;\" data-wf-page-id=\"5fff6d04c79af53301f4929f\" data-wf-element-id=\"75ad4b12-f774-65a0-018c-f9c27d1c2c58\"><input type=\"text\" class=\"campo-de-form w-input\" maxlength=\"256\" name=\"Nome\" data-name=\"Nome\" placeholder=\"Qual seu nome completo?\" id=\"Nome-Completo\" required=\"\"/><input type=\"email\" class=\"campo-de-form w-input\" maxlength=\"256\" name=\"E-mail-2\" data-name=\"E Mail 2\" placeholder=\"Qual seu e-mail?\" id=\"E-mail-2\" required=\"\"/><input type=\"tel\" class=\"campo-de-form w-input\" maxlength=\"256\" name=\"WhatsApp-Popup\" data-name=\"WhatsApp Popup\" placeholder=\"Qual seu nÃºmero de WhatsApp?\" id=\"WhatsApp-Popup\" required=\"\"/><input type=\"submit\" value=\"enviar\" data-wait=\"Por favor, aguarde...\" class=\"cta-form-whatsapp w-button\"/></form><div class=\"msg-sucesso-whatsapp w-form-done\"><div class=\"sucesso-whatsapp\">Pronto! VocÃª estÃ¡ sendo redirecionado(a)...</div></div><div class=\"div-erro-whatsapp w-form-fail\"><div class=\"msg-erro\">Algo deu errado, tente novamente.</div></div></div></div></div><div class=\"popup-bg whatsapp\"></div><a href=\"#\" class=\"bot-o-whatsapp-fechar w-inline-block\" data-ix=\"fechar-popups\"><img src=\"https://uploads-ssl.webflow.com/5f03212e310d7daf5962f991/5f04d69b783f0d0ac1ad175c_ITI%20MBA%20UFSCar%20Curso%20Informa%C3%A7%C3%A3o%2C%20Tecnologia%20e%20Inova%C3%A7%C3%A3o%20%C3%8Dcone%20de%20WhatsApp%20Para%20Bot%C3%A3o.svg\" alt=\"ITI MBA UFSCar Curso InformaÃ§Ã£o, Tecnologia e InovaÃ§Ã£o Ã\\x8dcone de WhatsApp\" class=\"icone-wpp\"/></a></div><div class=\"popup-bolsas\"><div class=\"div-bolsas\"><div class=\"fechar-popup-bolsas\" data-ix=\"fechar-popups\"></div><div class=\"div-form-bolsas\"><h4 class=\"h4 form-whatsapp\">Preencha os dados que nossa equipe entrarÃ¡ em contato com vocÃª com orientaÃ§Ãµes:</h4><div class=\"form-bolsas w-form\"><form id=\"Bolsas-Parciais\" name=\"wf-form-Bolsas-Parciais\" data-name=\"Bolsas Parciais\" method=\"get\" class=\"form-bolsas-parciais\" data-wf-page-id=\"5fff6d04c79af53301f4929f\" data-wf-element-id=\"abbe5654-076e-bd71-fd91-d6f284d3396d\"><input type=\"text\" class=\"campo-de-form w-input\" maxlength=\"256\" name=\"Nome\" data-name=\"Nome\" placeholder=\"Qual seu nome completo?\" id=\"Nome-Completo\" required=\"\"/><input type=\"email\" class=\"campo-de-form w-input\" maxlength=\"256\" name=\"E-mail\" data-name=\"E-mail\" placeholder=\"Qual seu e-mail?\" id=\"E-mail-5\" required=\"\"/><input type=\"text\" class=\"campo-de-form w-input\" maxlength=\"256\" name=\"LinkedIn\" data-name=\"LinkedIn\" placeholder=\"Qual seu link de perfil no LinkedIn?\" id=\"LinkedIn-5\" required=\"\"/><input type=\"tel\" class=\"campo-de-form w-input\" maxlength=\"256\" name=\"WhatsApp\" data-name=\"WhatsApp\" placeholder=\"Qual seu nÃºmero de WhatsApp?\" id=\"WhatsApp-Bolsas\" required=\"\"/><div class=\"select-wrapper\"><select required=\"\" name=\"Curso-Desejado\" data-name=\"Curso Desejado\" id=\"Curso-Desejado-7\" class=\"campo-select w-select\"><option value=\"Pergunta\">Qual o MBA desejado?</option><option value=\"ITI\">InformaÃ§Ã£o, Tecnologia e InovaÃ§Ã£o Para NegÃ³cios</option><option value=\"MLP\">Machine Learning in Production</option><option value=\"ILS\">Innovation &amp; Lean Startup</option><option value=\"IUI\">InovaÃ§Ã£o em Unidades de InformaÃ§Ã£o </option><option value=\"ISC\">InovaÃ§Ã£o em Smart Cities</option></select></div><input type=\"submit\" value=\"enviar\" data-wait=\"Por favor, aguarde...\" class=\"cta-form-bolsas w-button\"/><p class=\"p-aviso-form\">Lembre-se: Ã© necessÃ¡rio enviar os Documentos ComprobatÃ³rios para o e-mail <a href=\"mailto:atendimento@iti.mba\" class=\"p-link-popup\">atendimento@iti.mba</a>.</p></form><div class=\"msg-sucesso-bolsas w-form-done\"><div class=\"sucesso-whatsapp\">Muito obrigado! Vamos analisar sua solicitaÃ§Ã£o e entraremos em contato com vocÃª. NÃ£o se esqueÃ§a de enviar os Documentos ComprobatÃ³rios para o e-mail <a href=\"mailto:atendimento@iti.mba\" class=\"link-sucesso-bolsa\">atendimento@iti.mba</a>.</div></div><div class=\"div-erro-bolsas w-form-fail\"><div class=\"msg-erro\">Algo deu errado, tente novamente.</div></div></div></div></div><div class=\"popup-bg-bolsas\"></div></div><div class=\"header-para-fechar-popups\" data-ix=\"fechar-popups\"></div></div><div id=\"topo\" class=\"hero-home\"><header id=\"nav\" class=\"header sem-padding\"><nav class=\"container-header w-container\"><ul role=\"list\" class=\"nav-grid home w-list-unstyled\"><li id=\"w-node-_9fa72392-5aad-05e0-1b2d-b6ed8b681f91-01f4929f\"><a href=\"#topo\" class=\"nav-logo-link w-inline-block\"><div class=\"logo-iti\"></div><div class=\"logo-ufscar\"></div></a></li><li class=\"menu-home\"><div class=\"div-nav-links\"><div data-hover=\"true\" data-delay=\"0\" class=\"header-link w-dropdown\"><div class=\"dropdown-toggle w-dropdown-toggle\"><div class=\"icon w-icon-dropdown-toggle\"></div><div>nossos cursos</div></div><nav class=\"dropdown-list w-dropdown-list\"><a href=\"/iti\" class=\"header-link drop w-dropdown-link\">MBA em InformaÃ§Ã£o,<br/>Tecnologia e InovaÃ§Ã£o<br/>para NegÃ³cios</a><a href=\"/mlp\" class=\"header-link drop w-dropdown-link\">MBA em Machine<br/>Learning in<br/>Production</a><a href=\"/iui\" class=\"header-link drop w-dropdown-link\">MBA de InovaÃ§Ã£o em<br/>Unidades de<br/>InformaÃ§Ã£o</a><a href=\"/isc\" class=\"header-link drop ocultar w-dropdown-link\">MBA de InovaÃ§Ã£o<br/>em Smart Cities</a><a href=\"#Infos\" class=\"header-link drop inativo w-dropdown-link\">MBA em Innovation<br/>&amp; Lean Startup</a><a href=\"#Infos\" class=\"header-link drop inativo w-dropdown-link\">MBA de InovaÃ§Ã£o em<br/>Unidades de<br/>InformaÃ§Ã£o</a><a href=\"#Processo-Seletivo\" class=\"header-link drop inativo w-dropdown-link\">MBA de InovaÃ§Ã£o em<br/>Smart Cities</a></nav></div><a href=\"#nosso-time\" class=\"header-link\">nosso time</a><a href=\"#sobre-o-iti\" class=\"header-link\">sobre o iti UFSCAR</a><a href=\"#diploma\" class=\"header-link hide\">diploma ufscar</a><a href=\"#Processo-Seletivo\" class=\"header-link hide\">processo seletivo e matrÃ\\xadcula</a><a href=\"https://iti.review/\" target=\"_blank\" class=\"header-link\">iti review</a><a href=\"https://inova.iti.ufscar.br/\" target=\"_blank\" class=\"header-link\">Ã¡rea do aluno</a></div></li><li id=\"w-node-_9fa72392-5aad-05e0-1b2d-b6ed8b681fb3-01f4929f\"><div data-collapse=\"all\" data-animation=\"over-right\" data-duration=\"400\" data-easing=\"ease-in-out\" data-easing2=\"ease-in-out\" data-doc-height=\"1\" role=\"banner\" class=\"menu-hamburger w-nav\"><div class=\"w-container\"><a href=\"#\" class=\"brand w-nav-brand\"></a><nav role=\"navigation\" class=\"nav-menu w-nav-menu\"><h4 class=\"h4-nav-menu\">nossos cursos</h4><a href=\"/iti\" class=\"header-link-home-recuo w-nav-link\">MBA em InformaÃ§Ã£o, Tecnologia e InovaÃ§Ã£o para NegÃ³cios</a><a href=\"/mlp\" class=\"header-link-home-recuo w-nav-link\">MBA em Machine Learning in Production</a><a href=\"/isc\" class=\"header-link-home-recuo em-breve w-nav-link\">MBA de InovaÃ§Ã£o em Smart Cities</a><a href=\"#\" class=\"header-link-home-recuo em-breve w-nav-link\">MBA em Innovation &amp; Lean Startup (em breve)</a><a href=\"#\" class=\"header-link-home-recuo em-breve w-nav-link\">MBA de InovaÃ§Ã£o em Unidades de InformaÃ§Ã£o (em breve)</a><a href=\"#\" class=\"header-link-home-recuo em-breve w-nav-link\">MBA de InovaÃ§Ã£o em Smart Cities (em breve)</a><a href=\"#nosso-time\" class=\"header-link-home w-nav-link\">nosso time</a><a href=\"#sobre-o-iti\" class=\"header-link-home w-nav-link\">sobre o iti ufscar</a><a href=\"#diploma\" class=\"header-link-home w-nav-link\">diploma ufscar</a><a href=\"#Processo-Seletivo\" class=\"header-link-home w-nav-link\">processo seletivo e matrÃ\\xadcula</a><a href=\"#\" class=\"header-link-home w-nav-link\">bolsas de estudo</a><a href=\"/iti-review\" class=\"header-link-home w-nav-link\">iti review</a><a href=\"https://inova.iti.ufscar.br/\" target=\"_blank\" class=\"header-link-home w-nav-link\">Ã¡rea do aluno</a><a href=\"#formulario\" class=\"cta-header-home-menu w-button\">faÃ§a sua prÃ©-inscriÃ§Ã£o</a></nav><div class=\"menu-icon w-nav-button\"><div class=\"icon-3 w-icon-nav-menu\"></div></div></div></div><a href=\"#formulario\" class=\"cta-header-home w-button\">faÃ§a sua inscriÃ§Ã£o</a></li></ul></nav></header><div class=\"container-home\"><div class=\"div-rotulos\"><div class=\"rotulo\"><h5 class=\"h5-rotulo\">MBA ITI UFSCar - InscriÃ§Ãµes abertas!</h5></div><a href=\"#nossos-cursos\" class=\"rotulo-maior hide w-inline-block\"><h5 class=\"h5-rotulo bold\">Ã\\x9aLTIMAS VAGAS para 1Âº Semestre de 2022!</h5></a></div><h1 class=\"h1-home\">InformaÃ§Ã£o, Tecnologia e InovaÃ§Ã£o</h1><div class=\"div-subtitulo\"><h3 class=\"h3-capitals\">A UniÃ£o entre a Solidez AcadÃªmica e o Know-How que o Mercado Exige!</h3><h3 class=\"h3\">Capacite-se com uma formaÃ§Ã£o ampla, com respaldo acadÃªmico e alinhada com as perspectivas de mercado, em uma das melhores universidades da AmÃ©rica Latina.</h3></div><div class=\"div-botoes-hero\"><a href=\"#formulario\" class=\"cta-hero w-button\">FaÃ§a sua inscriÃ§Ã£o</a><a href=\"#sobre-o-iti\" class=\"cta-hero-outline-home w-button\">CONHEÃ\\x87A o iti ufscar</a></div><a href=\"#assista-ao-video\" data-w-id=\"9fa72392-5aad-05e0-1b2d-b6ed8b681fc4\" class=\"bot-o-fixo-de-video w-inline-block\"><img src=\"https://uploads-ssl.webflow.com/5f03212e310d7daf5962f991/5f04d69bdbb1a0d17d01e421_ITI%20MBA%20UFSCar%20Curso%20Informa%C3%A7%C3%A3o%2C%20Tecnologia%20e%20Inova%C3%A7%C3%A3o%20%C3%8Dcone%20de%20Reproduzir%20V%C3%ADdeo.svg\" alt=\"ITI MBA UFSCar Curso InformaÃ§Ã£o, Tecnologia e InovaÃ§Ã£o Ã\\x8dcone de Reproduzir VÃ\\xaddeo\" class=\"icone-play\"/><h4 class=\"h5-bot-o\">Assista Ao VÃ\\xaddeo</h4></a><a href=\"#\" data-w-id=\"9fa72392-5aad-05e0-1b2d-b6ed8b681fc8\" class=\"bot-o-whatsapp w-inline-block\" data-ix=\"shrink-whatsapp\"><img src=\"https://uploads-ssl.webflow.com/5f03212e310d7daf5962f991/5f04d69b783f0d0ac1ad175c_ITI%20MBA%20UFSCar%20Curso%20Informa%C3%A7%C3%A3o%2C%20Tecnologia%20e%20Inova%C3%A7%C3%A3o%20%C3%8Dcone%20de%20WhatsApp%20Para%20Bot%C3%A3o.svg\" alt=\"ITI MBA UFSCar Curso InformaÃ§Ã£o, Tecnologia e InovaÃ§Ã£o Ã\\x8dcone de WhatsApp\" class=\"icone-wpp\"/></a></div><div class=\"div-video-bg\"><div class=\"overlay-video\"></div><div data-poster-url=\"https://uploads-ssl.webflow.com/5f03212e310d7daf5962f991/600985a1ecc25ad03c96ca3a_Video ITI UFSCar Home Comprimido Cortado-poster-00001.jpg\" data-video-urls=\"https://uploads-ssl.webflow.com/5f03212e310d7daf5962f991/600985a1ecc25ad03c96ca3a_Video ITI UFSCar Home Comprimido Cortado-transcode.mp4,https://uploads-ssl.webflow.com/5f03212e310d7daf5962f991/600985a1ecc25ad03c96ca3a_Video ITI UFSCar Home Comprimido Cortado-transcode.webm\" data-autoplay=\"true\" data-loop=\"true\" data-wf-ignore=\"true\" class=\"bgvideo-home w-background-video w-background-video-atom\"><video id=\"993a33f1-e9bc-3a8f-a80f-31a3cbf239b0-video\" autoplay=\"\" loop=\"\" style=\"background-image:url(&quot;https://uploads-ssl.webflow.com/5f03212e310d7daf5962f991/600985a1ecc25ad03c96ca3a_Video ITI UFSCar Home Comprimido Cortado-poster-00001.jpg&quot;)\" muted=\"\" playsinline=\"\" data-wf-ignore=\"true\" data-object-fit=\"cover\"><source src=\"https://uploads-ssl.webflow.com/5f03212e310d7daf5962f991/600985a1ecc25ad03c96ca3a_Video ITI UFSCar Home Comprimido Cortado-transcode.mp4\" data-wf-ignore=\"true\"/><source src=\"https://uploads-ssl.webflow.com/5f03212e310d7daf5962f991/600985a1ecc25ad03c96ca3a_Video ITI UFSCar Home Comprimido Cortado-transcode.webm\" data-wf-ignore=\"true\"/></video></div></div></div><div id=\"assista-ao-video\" class=\"resumo-home\"><div class=\"container-video-home\"><div class=\"video-div\"><div style=\"padding-top:56.27659574468085%\" class=\"videoplayer-desktop w-video w-embed\"><iframe class=\"embedly-embed\" src=\"//cdn.embedly.com/widgets/media.html?src=https%3A%2F%2Fplayer.vimeo.com%2Fvideo%2F497408080%3Fapp_id%3D122963&dntp=1&display_name=Vimeo&url=https%3A%2F%2Fvimeo.com%2F497408080&image=https%3A%2F%2Fi.vimeocdn.com%2Fvideo%2F1029356115_1280.jpg&key=96f1f04c5f4143bcb0f2e68c87d65feb&type=text%2Fhtml&schema=vimeo\" scrolling=\"no\" title=\"Vimeo embed\" frameborder=\"0\" allow=\"autoplay; fullscreen\" allowfullscreen=\"true\"></iframe></div></div><div class=\"div-conteudo-video\"><h2 class=\"h2\">O ITI UFSCar</h2><h4 class=\"h4\">Concebidos com o objetivo de â\\x80\\x9ctornar realidade uma EducaÃ§Ã£o Inovadora e Inclusiva a partir de uma maior aproximaÃ§Ã£o entre universidades e o mercado corporativoâ\\x80\\x9d os cursos do ITI UFSCar possibilitam a uniÃ£o entre o que de melhor a Academia e o Mercado tÃªm a oferecer.</h4><a id=\"abrir-video1\" data-w-id=\"235a147d-e9c7-de1b-0115-6e82250069ee\" href=\"#\" class=\"cta-video-desktop w-inline-block\"><div class=\"play-icon-escuro\"></div><p class=\"cta-video-texto\">Assista Ao VÃ\\xaddeo</p></a><a id=\"abrir-video-mobile\" data-w-id=\"235a147d-e9c7-de1b-0115-6e82250069f2\" href=\"#\" class=\"cta-video-mobile w-inline-block\"><div class=\"play-icon-escuro\"></div><p class=\"cta-video-texto\">Assista Ao VÃ\\xaddeo</p></a></div><div class=\"video-overlay escuro\"></div><div data-video-urls=\"\" data-autoplay=\"true\" data-loop=\"true\" data-wf-ignore=\"true\" class=\"background-video w-background-video w-background-video-atom\"><video id=\"235a147d-e9c7-de1b-0115-6e82250069f7-video\" autoplay=\"\" loop=\"\" muted=\"\" playsinline=\"\" data-wf-ignore=\"true\" data-object-fit=\"cover\"></video></div><div class=\"fechar-video-desktop\" data-ix=\"fechar-popup-video-1\"></div></div></div><div id=\"nossos-cursos\" class=\"nossos-cursos\"><div class=\"container-titulos\"><div class=\"barra-degrad\"></div><h2 class=\"h2\">ConheÃ§a nossos cursos</h2></div><div class=\"container-default\"><div class=\"box-curso\"><div class=\"img-cursos\"></div><div class=\"div-cta-e-curso\"><h2 class=\"h2-nome-do-curso\">MBA em InformaÃ§Ã£o, Tecnologia e InovaÃ§Ã£o para NegÃ³cios</h2><a href=\"/iti\" class=\"link-cta-promo w-inline-block\"><div class=\"cta-pag-de-curso\"><p class=\"cta-p\">CONHECERÂ\\xa0MAIS</p></div><h5 class=\"h5-valores-promos\"></h5></a><div class=\"barra-colorida\"></div></div></div><div class=\"box-curso\"><div class=\"div-cta-e-curso alt\"><h2 class=\"h2-nome-do-curso alt\">MBA em Machine Learning in Production</h2><a href=\"/mlp\" class=\"link-cta-promo w-inline-block\"><h5 class=\"h5-valores-promos mlp\"></h5><div class=\"cta-pag-de-curso machine\"><p class=\"cta-p\">CONHECERÂ\\xa0MAIS</p></div></a><div class=\"barra-colorida _2\"></div></div><div class=\"img-cursos machine-learning\"></div></div><div class=\"box-curso ocultar\"><div class=\"img-cursos lean-startup\"></div><div class=\"div-cta-e-curso\"><h2 class=\"h2-nome-do-curso\">MBA em Innovation &amp; Lean Startup</h2><a href=\"/ils\" class=\"link-cta-promo w-inline-block\"><div class=\"cta-pag-de-curso innovation\"><p class=\"cta-p ils\">CONHECERÂ\\xa0MAIS</p></div><h5 class=\"h5-valores-promos ils\"></h5></a><div class=\"barra-colorida _3\"></div></div></div><div class=\"box-curso ocultar\"><div class=\"div-cta-e-curso alt\"><h2 class=\"h2-nome-do-curso alt\">MBA de InovaÃ§Ã£o em Unidades de InformaÃ§Ã£o</h2><a href=\"/iui\" class=\"link-cta-promo w-inline-block\"><h5 class=\"h5-valores-promos iui\"></h5><div class=\"cta-pag-de-curso unidades\"><p class=\"cta-p\">CONHECERÂ\\xa0MAIS</p></div></a><div class=\"barra-colorida _4\"></div></div><div class=\"img-cursos unidades\"></div></div><div class=\"box-curso ocultar\"><div class=\"img-cursos smart-cities\"></div><div class=\"div-cta-e-curso\"><h2 class=\"h2-nome-do-curso\">MBA de InovaÃ§Ã£o em Smart Cities</h2><a href=\"/isc\" class=\"cta-pag-de-curso smart-cities w-button\">conhecer mais</a><div class=\"barra-colorida _5\"></div></div></div></div></div><div id=\"nosso-time\" class=\"nosso-time\"><div class=\"container-titulos\"><div class=\"barra-degrad\"></div><h2 class=\"h2\">ConheÃ§a Nosso Time</h2><h4 class=\"h4 menor\">Nossos profissionais garantem o equilÃ\\xadbrio entre as prÃ¡ticas de mercado e a visÃ£o da academia</h4></div><div class=\"colunas-nosso-time\"><div class=\"box-professores-home\"><div class=\"fundo-coluna-docentes\"><div class=\"div-titulos-colunas-home\"><h3 class=\"h3-professores acro-home\">colaboradores ACADÃ\\x8aMICOs</h3></div><div class=\"card-profs-home\"><div class=\"img-professor\"></div><div class=\"infos-professor-horizontal\"><h4 class=\"h4-nome-professor\">RogÃ©rio SÃ¡ Ramalho</h4><h5 class=\"h5-org-prof\">UFSCar</h5></div></div><div class=\"card-profs-home\"><div class=\"img-professor ricardo\"></div><div class=\"infos-professor-horizontal\"><h4 class=\"h4-nome-professor\">Ricardo G. Sant&#x27;ana</h4><h5 class=\"h5-org-prof\">UNESP</h5></div></div><div class=\"card-profs-home\"><div class=\"img-professor nanci\"></div><div class=\"infos-professor-horizontal\"><h4 class=\"h4-nome-professor\">Nanci Gardim</h4><h5 class=\"h5-org-prof\">SENAI - SP</h5></div></div><div class=\"card-profs-home\"><div class=\"img-professor dener\"></div><div class=\"infos-professor-horizontal\"><h4 class=\"h4-nome-professor\">VinÃ\\xadcius Micali</h4><h5 class=\"h5-org-prof\">UFSCar</h5></div></div><div class=\"card-profs-home\"><div class=\"img-professor roniberto\"></div><div class=\"infos-professor-horizontal\"><h4 class=\"h4-nome-professor\">Roniberto Morato do Amaral</h4><h5 class=\"h5-org-prof\">UFSCar</h5></div></div><div class=\"card-profs-home\"><div class=\"img-professor marilde\"></div><div class=\"infos-professor-horizontal\"><h4 class=\"h4-nome-professor\">Marilde T. Prado Santos</h4><h5 class=\"h5-org-prof\">UFSCar</h5></div></div><div class=\"card-profs-home\"><div class=\"img-professor marcela\"></div><div class=\"infos-professor-horizontal\"><h4 class=\"h4-nome-professor\">Marcela Xavier Ribeiro</h4><h5 class=\"h5-org-prof\">UFSCar</h5></div></div><div class=\"card-profs-home\"><div class=\"img-professor renata\"></div><div class=\"infos-professor-horizontal\"><h4 class=\"h4-nome-professor\">Renata C. Gutierres Castanha</h4><h5 class=\"h5-org-prof\">AMBEV</h5></div></div><div class=\"card-profs-home\"><div class=\"img-professor diego\"></div><div class=\"infos-professor-horizontal\"><h4 class=\"h4-nome-professor\">Diego Furtado Silva</h4><h5 class=\"h5-org-prof\">UFSCar</h5></div></div><div class=\"card-profs-home\"><div class=\"img-professor heloisa\"></div><div class=\"infos-professor-horizontal\"><h4 class=\"h4-nome-professor\">Heloisa de Arruda Camargo</h4><h5 class=\"h5-org-prof\">UFSCar</h5></div></div><div class=\"card-profs-home\"><div class=\"img-professor vania\"></div><div class=\"infos-professor-horizontal\"><h4 class=\"h4-nome-professor\">VÃ¢nia P. A. Neris</h4><h5 class=\"h5-org-prof\">UFSCar</h5></div></div><div class=\"card-profs-home\"><div class=\"img-professor marta\"></div><div class=\"infos-professor-horizontal\"><h4 class=\"h4-nome-professor\">Marta P. Valentim</h4><h5 class=\"h5-org-prof\">UNESP</h5></div></div><div class=\"card-profs-home\"><div class=\"img-professor elaine\"></div><div class=\"infos-professor-horizontal\"><h4 class=\"h4-nome-professor\">Elaine da Silva</h4><h5 class=\"h5-org-prof\">UEL</h5></div></div><div class=\"card-profs-home\"><div class=\"img-professor aroca\"></div><div class=\"infos-professor-horizontal\"><h4 class=\"h4-nome-professor\">Rafael Vidal Aroca</h4><h5 class=\"h5-org-prof\">UFSCar</h5></div></div><div class=\"card-profs-home\"><div class=\"img-professor rodrigo\"></div><div class=\"infos-professor-horizontal\"><h4 class=\"h4-nome-professor\">Rodrigo Francisco Botelho</h4><h5 class=\"h5-org-prof\">UFPR</h5></div></div></div><div class=\"fundo-coluna-representantes\"><div class=\"div-titulos-colunas-home\"><h3 class=\"h3-professores acro-home\">colaboradores DE MERCADO</h3></div><div class=\"card-profs-home mercado\"><div class=\"img-professor daniel\"></div><div class=\"infos-professor-horizontal\"><h4 class=\"h4-nome-professor\">Daniel Palis</h4><h5 class=\"h5-org-prof\">CALINA</h5></div></div><div class=\"card-profs-home mercado\"><div class=\"img-professor neto\"></div><div class=\"infos-professor-horizontal\"><h4 class=\"h4-nome-professor\">Fernando A. Cervantes</h4><h5 class=\"h5-org-prof\">Vivo</h5></div></div><div class=\"card-profs-home mercado\"><div class=\"img-professor leonardo-maior\"></div><div class=\"infos-professor-horizontal\"><h4 class=\"h4-nome-professor\">Leonardo AraÃºjo Lima</h4><h5 class=\"h5-org-prof\">Raccoon</h5></div></div><div class=\"card-profs-home mercado\"><div class=\"img-professor arthur\"></div><div class=\"infos-professor-horizontal\"><h4 class=\"h4-nome-professor\">Arthur Rufino</h4><h5 class=\"h5-org-prof\">JR Diesel</h5></div></div><div class=\"card-profs-home mercado\"><div class=\"img-professor jos-eduardo\"></div><div class=\"infos-professor-horizontal\"><h4 class=\"h4-nome-professor\">JosÃ© Eduardo Ribeiro</h4><h5 class=\"h5-org-prof\">Serasa Experian</h5></div></div><div class=\"card-profs-home mercado\"><div class=\"img-professor bertoldi\"></div><div class=\"infos-professor-horizontal\"><h4 class=\"h4-nome-professor\">Alex Bertoldi</h4><h5 class=\"h5-org-prof\">Bertoldi Nagao</h5></div></div><div class=\"card-profs-home mercado\"><div class=\"img-professor carlos\"></div><div class=\"infos-professor-horizontal\"><h4 class=\"h4-nome-professor\">Carlos Pereira Lopes Filho</h4><h5 class=\"h5-org-prof\">Raccoon</h5></div></div><div class=\"card-profs-home mercado\"><div class=\"img-professor alessandro\"></div><div class=\"infos-professor-horizontal\"><h4 class=\"h4-nome-professor\">Alessandro Zito Gomes</h4><h5 class=\"h5-org-prof\">Santander Tecnologia</h5></div></div><div class=\"card-profs-home mercado\"><div class=\"img-professor schmiedel\"></div><div class=\"infos-professor-horizontal\"><h4 class=\"h4-nome-professor\">Carlos Schmiedel</h4><h5 class=\"h5-org-prof\">Predify</h5></div></div><div class=\"card-profs-home mercado\"><div class=\"img-professor eduardo\"></div><div class=\"infos-professor-horizontal\"><h4 class=\"h4-nome-professor\">Eduardo Soldera</h4><h5 class=\"h5-org-prof\">Blue Orange</h5></div></div><div class=\"card-profs-home mercado\"><div class=\"img-professor neto-marin\"></div><div class=\"infos-professor-horizontal\"><h4 class=\"h4-nome-professor\">Neto Marin</h4><h5 class=\"h5-org-prof\">Google</h5></div></div><div class=\"card-profs-home mercado\"><div class=\"img-professor rafael\"></div><div class=\"infos-professor-horizontal\"><h4 class=\"h4-nome-professor\">Rafael Calsaverini</h4><h5 class=\"h5-org-prof\">Nubank</h5></div></div><div class=\"card-profs-home mercado\"><div class=\"img-professor dhiogo\"></div><div class=\"infos-professor-horizontal\"><h4 class=\"h4-nome-professor\">Dhiogo CorrÃªa</h4><h5 class=\"h5-org-prof\">Itera</h5></div></div><div class=\"card-profs-home mercado\"><div class=\"img-professor mateus\"></div><div class=\"infos-professor-horizontal\"><h4 class=\"h4-nome-professor\">Mateus Quelhas</h4><h5 class=\"h5-org-prof\">ACE Startups</h5></div></div><div class=\"card-profs-home mercado\"><div class=\"img-professor claudio\"></div><div class=\"infos-professor-horizontal\"><h4 class=\"h4-nome-professor\">Claudio Gorga</h4><h5 class=\"h5-org-prof\">ACE Startups</h5></div></div><div class=\"card-profs-home mercado\"><div class=\"img-professor bruna\"></div><div class=\"infos-professor-horizontal\"><h4 class=\"h4-nome-professor\">Bruna Boa Sorte</h4><h5 class=\"h5-org-prof\">Instituto Inova</h5></div></div><div class=\"card-profs-home mercado\"><div class=\"img-professor fabio\"></div><div class=\"infos-professor-horizontal\"><h4 class=\"h4-nome-professor\">FÃ¡bio Celeri</h4><h5 class=\"h5-org-prof\">Google</h5></div></div><div class=\"card-profs-home mercado\"><div class=\"img-professor ruocco\"></div><div class=\"infos-professor-horizontal\"><h4 class=\"h4-nome-professor\">Luiz Fernando Ruocco</h4><h5 class=\"h5-org-prof\">Rocky</h5></div></div></div><a data-w-id=\"82b75c7f-20dd-2f98-3879-91e56ae361ac\" href=\"#\" class=\"cta-linha w-inline-block\"><p class=\"cta-sem-fundo ocultar\">conheÃ§a alguns exemplos</p><div class=\"linha-cta\"></div></a></div></div></div><div id=\"sobre-o-iti\" class=\"sobre-o-iti\"><div class=\"container-titulos\"><div class=\"barra-degrad\"></div><h2 class=\"h2\">ConheÃ§a tudo sobre os cursos ITI UFSCar</h2></div><div class=\"coluna-img-texto\"><div class=\"div-imagem\"></div><div class=\"div-texto\"><h4 class=\"h4-sobre-o-iti\">Proposta do ITI UFSCar</h4><p class=\"p\">O ITI UFSCar Ã© caracterizado como um Programa de Ensino, Pesquisa e ExtensÃ£o da UFSCar concebido a partir de umaÂ\\xa0<strong>Proposta PedagÃ³gica Inovadora</strong>Â\\xa0baseada em um formato hÃ\\xadbrido que harmonizaÂ\\xa0<strong>interaÃ§Ãµes online ao vivo e atividades assÃ\\xadncronas</strong>, fundamentadas no modelo de EducaÃ§Ã£o a DistÃ¢ncia (EaD) da UFSCar.</p><p class=\"p\">Resultado de parcerias estabelecidas por Pesquisadores daÂ\\xa0<strong>UFSCar</strong>Â\\xa0comÂ\\xa0<strong>Profissionais de destaque</strong>Â\\xa0no Mercado, e Pesquisadores de outrasÂ\\xa0<strong>Renomadas InstituiÃ§Ãµes de Ensino</strong>Â\\xa0nacionais e internacionais, o ITI UFSCar tem como objetivo â\\x80\\x9ctornar realidade uma EducaÃ§Ã£o Inovadora e Inclusiva a partir de uma maior aproximaÃ§Ã£o entre universidades e o mercado corporativoâ\\x80\\x9d oferecendo cursos que possibilitam a uniÃ£o entre o que de melhor a Academia e o Mercado tÃªm a oferecer.</p></div></div><div class=\"coluna-img-texto\"><div class=\"div-texto alt\"><h4 class=\"h4-sobre-o-iti\">Diferenciais</h4><p class=\"p\">Diferente de cursos convencionais os cursos do ITI UFSCar nÃ£o sÃ£o estruturados em disciplinas isoladas e sim emÂ\\xa0<strong>Componentes Curriculares interrelacionados</strong>, favorecendo uma maior integraÃ§Ã£o entre os conteÃºdos eÂ\\xa0<strong>aplicabilidade em projetos reais</strong>, a partir do uso deÂ\\xa0<strong>cases de mercado</strong>Â\\xa0para proporcionar situaÃ§Ãµes de aprendizagem.</p><p class=\"p\">Todos os Componentes Curriculares dos cursos sÃ£o ministrados porÂ\\xa0<strong>dois Professores</strong>, umÂ\\xa0<strong>pesquisador acadÃªmico</strong>Â\\xa0e umÂ\\xa0<strong>representante de mercado</strong>Â\\xa0que possua reconhecida experiÃªncia acerca do conteÃºdo abordado, tendo como foco o estudo de iniciativas que possuam como matÃ©ria prima principalÂ\\xa0<strong>InformaÃ§Ã£o, Tecnologia e InovaÃ§Ã£o para NegÃ³cios</strong>, proporcionando umaÂ\\xa0<strong>formaÃ§Ã£o ampla</strong>, comÂ\\xa0<strong>respaldo acadÃªmico</strong>, e alinhada com asÂ\\xa0<strong>perspectivas de mercado</strong>.</p></div><div class=\"div-imagem _2\"></div></div><div class=\"coluna-img-texto\"><div class=\"div-imagem _3\"></div><div class=\"div-texto\"><h4 class=\"h4-sobre-o-iti\">Metodologia</h4><p class=\"p\">Os cursos do ITI UFSCar foram concebidos a partir da utilizaÃ§Ã£o de metodologias ativas de resoluÃ§Ã£o de problemas, baseados em um formato hÃ\\xadbrido que harmonizaÂ\\xa0<strong>interaÃ§Ãµes online ao vivo e atividades assÃ\\xadncronas</strong>, fundamentadas no modelo de EducaÃ§Ã£o a DistÃ¢ncia (EaD) da UFSCar.</p></div></div><div class=\"coluna-img-texto\"><div class=\"div-texto alt\"><h4 class=\"h4-sobre-o-iti\">IntercÃ¢mbio Frequente de InformaÃ§Ãµes</h4><p class=\"p\">As atividades privilegiam discussÃµes atravÃ©s de fÃ³runs online, compartilhamento de informaÃ§Ãµes, dinÃ¢micas colaborativas e interaÃ§Ãµes em grupo e com profissionais de destaque no mercado. Tudo isso visando um aprendizado mais leve e prazeroso.</p></div><div class=\"div-imagem _4\"></div></div><div class=\"coluna-img-texto\"><div class=\"div-imagem _5\"></div><div class=\"div-texto\"><h4 class=\"h4-sobre-o-iti\">ConteÃºdo MultimÃ\\xaddia e GamificaÃ§Ã£o</h4><p class=\"p\">As atividades sÃ£o realizadas com base em diferentes tipos de mÃ\\xaddias (textos, vÃ\\xaddeos, podcasts, infogrÃ¡ficos). As tarefas sÃ£o interativas e pautadas em princÃ\\xadpios da gamificaÃ§Ã£o, como: ciclos avaliativos, trajetÃ³ria personalizada e engajamento por meio de missÃµes e desafios.</p></div></div><div class=\"coluna-img-texto\"><div class=\"div-texto alt\"><h4 class=\"h4-sobre-o-iti\">AvaliaÃ§Ãµes baseadas em Cases Reais</h4><p class=\"p\">As avaliaÃ§Ãµes sÃ£o por competÃªncia e buscam sistematizar os conteÃºdos estudados e direcionar sua aplicaÃ§Ã£o em situaÃ§Ãµes prÃ¡ticas. E ao fim de cada mÃ³dulo Ã© realizada uma avaliaÃ§Ã£o baseada em cases de mercado, analisando a participaÃ§Ã£o de cada aluno.</p></div><div class=\"div-imagem _6\"></div></div></div><div id=\"diploma\" class=\"diploma-ufscar\"><div class=\"container-diploma\"><div class=\"icone-diploma\"></div><h2 class=\"h2-diploma\">Certificado UFSCar</h2><h4 class=\"h4 diploma\">Receba a mesma certificaÃ§Ã£o dos cursos presenciais da UFSCar, uma das universidades mais renomadas do Brasil, e obtenha um amplo reconhecimento pelo mercado que poucos cursos sÃ£o capazes de oferecer.</h4><div class=\"item\"><div class=\"item-estrela\"></div><p class=\"p-diploma-item\">Mesmo certificado dos cursos presenciais da UFSCar;</p></div><div class=\"item\"><div class=\"item-estrela\"></div><p class=\"p-diploma-item\">Reconhecimento e prestÃ\\xadgio no mercado de trabalho;</p></div><div class=\"item\"><div class=\"item-estrela\"></div><p class=\"p-diploma-item\">Amplie ainda mais suas oportunidades profissionais.</p></div></div><div class=\"img-diploma\"><div class=\"div-diploma\"></div></div></div><div id=\"Processo-Seletivo\" class=\"processo-seletivo-e-matr-cula-home\"><div class=\"container-grid-home\"><div id=\"w-node-be329211-49d0-7977-a61b-d7eb9b079e9d-9b079e9d\" class=\"box-branco\"><div class=\"div-processo\"><h3 class=\"h3-alt-fundo-branco\">Processo Seletivo e MatrÃ\\xadcula</h3><p class=\"p-fundo-branco\">Por se tratar de um curso com um <strong>nÃºmero limitado de vagas</strong>, e buscando o alinhamento dos cursistas com o perfil do pÃºblico alvo esperado, Ã© realizado um <strong>processo seletivo</strong> baseado na <strong>anÃ¡lise de perfil</strong> dos candidatos interessados. As informaÃ§Ãµes enviadas pelo candidato e o resultado do processo seletivo serÃ£o mantidas em carÃ¡ter confidencial e divulgadas somente ao e-mail cadastrado. O tempo estimado para a anÃ¡lise de perfil Ã© de aproximadamente 48h Ãºteis, o processo seletivo Ã© fundamentado em 4 etapas:</p><div class=\"passo-a-passo\"><div class=\"linha-do-tempo\"><div class=\"linha-fina\"></div><div class=\"bolinha\"></div><div class=\"bolinha _2\"></div><div class=\"bolinha _3\"></div><div class=\"bolinha _4\"></div></div><div class=\"linha-do-tempo-infos\"><h5 class=\"h5-fundo-branco-linha\">PrÃ©-matrÃ\\xadcula</h5><p class=\"p-fundo-branco linha\">AtravÃ©s do formulÃ¡rio nesta pÃ¡gina. <a href=\"#formulario\" class=\"p-link\">Inscreva-se agora!</a></p><h5 class=\"h5-fundo-branco\">AnÃ¡lise do Perfil do Candidato</h5><p class=\"p-fundo-branco linha\">Caso o candidato atenda a todos os critÃ©rios definidos e possua o perfil almejado para o curso, de acordo com o nÃºmero de vagas disponÃ\\xadveis, sua aprovaÃ§Ã£o no processo seletivo serÃ¡ validada, cabendo o cumprimento das exigÃªncias da etapa 4 para efetivaÃ§Ã£o da matrÃ\\xadcula. Nesta etapa a coordenaÃ§Ã£o de curso poderÃ¡ entrar em contato solicitando o agendamento de uma entrevista (presencial ou remota) e envio de documentos complementares.</p><h5 class=\"h5-fundo-branco\">AprovaÃ§Ã£o</h5><p class=\"p-fundo-branco linha\">Em caso de aprovaÃ§Ã£o, o candidato receberÃ¡ um e-mail com as informaÃ§Ãµes para a criaÃ§Ã£o do plano financeiro e efetivaÃ§Ã£o da matrÃ\\xadcula.</p><h5 class=\"h5-fundo-branco\">MatrÃ\\xadcula</h5><p class=\"p-fundo-branco\">Esta etapa consiste na escolha do plano financeiro, pagamento e envio da documentaÃ§Ã£o obrigatÃ³ria:</p><div class=\"item\"><div class=\"item-icone\"></div><p class=\"p-fundo-branco-item\">FormulÃ¡rio de matrÃ\\xadcula;</p></div><div class=\"item\"><div class=\"item-icone\"></div><p class=\"p-fundo-branco-item\">Comprovante de pagamento da Taxa de MatrÃ\\xadcula; </p></div><div class=\"item\"><div class=\"item-icone\"></div><p class=\"p-fundo-branco-item\">CÃ³pia do diploma de ensino superior e do respectivo histÃ³rico escolar;</p></div><div class=\"item\"><div class=\"item-icone\"></div><p class=\"p-fundo-branco-item\">CÃ³pia da carteira de motorista ou documento de identidade e CPF.</p></div></div></div></div></div><div id=\"w-node-_87a27c94-2ff0-3f5a-e0c3-c082b8c6ef4e-01f4929f\" class=\"box-degrade\"><div class=\"flex-cta\"><div class=\"icone-parcerias\"></div><h4 class=\"h3-alt-fundo-branco parcerias\">Temos descontos especiais para grupos e empresas parceiras!</h4><a href=\"#\" class=\"cta-parcerias w-button\">saiba mais</a></div></div><div id=\"w-node-_54183187-334b-401d-a01b-5d55378e621f-378e621f\" class=\"box-degrade-alt\"><div class=\"flex-cta\"><div class=\"icone-bolsas\"></div><h4 class=\"h4-negrito-bolsas\">Bolsas de Estudo</h4><p class=\"p bolsas\">SerÃ£o oferecidas Bolsas de Estudos, numa proporÃ§Ã£o de atÃ© 10% das matrÃ\\xadculas efetivadas, a serem distribuÃ\\xaddas considerando os seguintes critÃ©rios:</p><div class=\"item\"><div class=\"item-icone-alt\"></div><p class=\"p-fundo-laranja-item\">50% do total de bolsas serÃ¡ destinado para ampla concorrÃªncia e os outros 50% para servidores integrantes do quadro de pessoal permanente da UFSCar;</p></div><div class=\"item bolsas\"><div class=\"item-icone-alt\"></div><p class=\"p-fundo-laranja-item\">Ã\\x89 necessÃ¡rio o pagamento da taxa de matrÃ\\xadcula para participar do processo seletivo de bolsas;</p></div><div class=\"item bolsas\"><div class=\"item-icone-alt\"></div><p class=\"p-fundo-laranja-item\">Os candidatos Ã\\xa0 bolsa deverÃ£o preencher o <a href=\"#\" data-w-id=\"54183187-334b-401d-a01b-5d55378e6232\" class=\"p-link-fundo-laranja\">formulÃ¡rio eletrÃ´nico</a> e enviar a documentaÃ§Ã£o dentro do prazo solicitado;</p></div><div id=\"Edital\" class=\"item bolsas\"><div class=\"item-icone-alt\"></div><p class=\"p-fundo-laranja-item\">O processo de seleÃ§Ã£o de bolsas serÃ¡ realizado considerando as justificativas apresentadas e o alinhamento dos candidatos com o perfil do pÃºblico alvo do curso.<br/></p></div><a data-w-id=\"54183187-334b-401d-a01b-5d55378e623a\" href=\"#\" class=\"cta-quero-me-candidatar w-button\">quero me candidatar</a><p class=\"p-fundo-laranja-edital-info\">Um Novo Edital para ConcessÃ£o de Bolsas serÃ¡ divulgado para as Turmas de 2021.<br/></p><div class=\"acorde-o-wrapper\"><div class=\"accordion-item\"><a data-w-id=\"54183187-334b-401d-a01b-5d55378e6241\" href=\"#\" class=\"cta-acorde-o-trigger w-inline-block\"><p class=\"p-link-fechar-acordeao\">BAIXEÂ\\xa0OÂ\\xa0EDITAL</p><div class=\"seta-acorde-o\"></div></a><div class=\"acorde-o-conteudo-form\"><div id=\"Baixe-O-Edital\" class=\"form-edital w-form\"><form id=\"wf-form-Baixe-O-Edital\" name=\"wf-form-Baixe-O-Edital\" data-name=\"Baixe O Edital\" method=\"post\" redirect=\"https://drive.google.com/file/d/1dl4sSDylZZxzzM-SrFOrr2OYDKxXyPmI/view?usp=sharing\" data-redirect=\"https://drive.google.com/file/d/1dl4sSDylZZxzzM-SrFOrr2OYDKxXyPmI/view?usp=sharing\" class=\"baixe-o-edital\" data-wf-page-id=\"5fff6d04c79af53301f4929f\" data-wf-element-id=\"54183187-334b-401d-a01b-5d55378e6247\"><input type=\"email\" class=\"email-campo-edital w-input\" maxlength=\"256\" name=\"E-mail\" data-name=\"E-mail\" placeholder=\"Digite seu melhor e-mail\" id=\"E-mail-Edital\" required=\"\"/><input type=\"submit\" value=\"Baixar edital\" data-wait=\"Redirecionando...\" class=\"cta-form-edital w-button\"/></form><div class=\"success-message w-form-done\"><div>VocÃª estÃ¡ sendo redirecionado(a)...</div></div><div class=\"div-erro w-form-fail\"><div class=\"text-block\">Aconteceu algo de errado, tente novamente.</div></div></div></div></div></div></div></div><div id=\"w-node-_87a27c94-2ff0-3f5a-e0c3-c082b8c6ef86-01f4929f\" class=\"box-10-08-home\"><a href=\"#\" class=\"link-pra-formul-rio w-inline-block\"></a><div class=\"div-10-08\"><div class=\"desconto _2\"><p class=\"porcentagem-off\">10% OFF</p></div><div class=\"rotulo-degrade alt\"><h4 class=\"h5-rotulo-fundo-branco\">INSCREVA-SE AtÃ© 10/02/2021</h4></div><h5 class=\"opcoes\">OpÃ§Ã£o 1</h5><div class=\"div-matricula-isenta\"><h5 class=\"h5-pre-o\"><strong>R$19.780,00</strong> Ã\\xa0 vista</h5><h5 class=\"h5-bonus alt\">MatrÃ\\xadcula isenta!</h5></div><h5 class=\"opcoes\">OpÃ§Ã£o 2</h5><h5 class=\"h5-parcelas\"><strong class=\"bold-text\">MatrÃ\\xadcula de </strong><strong>R$700,00</strong><strong class=\"bold-text\"><br/>+ 18 mensalidades de </strong><strong>R$1.173,86</strong></h5><h5 class=\"opcoes\">OpÃ§Ã£o 3</h5><h5 class=\"h5-parcelas\"><strong class=\"bold-text\">MatrÃ\\xadcula de </strong><strong>R$700,00</strong><strong class=\"bold-text\"><br/>+ 24 mensalidades de </strong><strong>R$923,71</strong></h5></div></div><div id=\"investimento\" class=\"box-10-07-home w-node-_87a27c94-2ff0-3f5a-e0c3-c082b8c6efb0-01f4929f\"><div class=\"div-10-07\"><div class=\"desconto hide\"><p class=\"porcentagem-off\">25% OFF</p></div><div class=\"rotulo-degrade _3o-lote\"><h4 class=\"h5-rotulo-fundo-branco\">INSCREVA-SE AtÃ© 10/03/2020</h4></div><h5 class=\"opcoes\">OpÃ§Ã£o 1</h5><div class=\"div-matricula-isenta\"><h5 class=\"h5-pre-o\"><strong>R$23.100,00</strong> Ã\\xa0 vista</h5><h5 class=\"h5-bonus\">MatrÃ\\xadcula isenta!</h5></div><h5 class=\"opcoes\">OpÃ§Ã£o 2</h5><h5 class=\"h5-parcelas\"><strong class=\"bold-text\">MatrÃ\\xadcula de </strong><strong>R$700,00</strong><strong class=\"bold-text\"><br/>+ 18 mensalidades de </strong><strong>R$1.308,61</strong></h5><h5 class=\"opcoes\">OpÃ§Ã£o 3</h5><h5 class=\"h5-parcelas\"><strong class=\"bold-text\">MatrÃ\\xadcula de </strong><strong>R$700,00 </strong><strong class=\"bold-text\"><br/>+ 24 mensalidades de </strong><strong>R$1.029,58</strong></h5></div></div></div></div><div id=\"formulario\" class=\"formul-rio\"><div class=\"img-formulario\"><div class=\"div-img-form\"></div></div><div class=\"container-form\"><h3 class=\"h3-form\">FaÃ§a a sua inscriÃ§Ã£o!</h3><h4 class=\"h4 form\">Preencha com seus dados abaixo:</h4><div id=\"Pre-Inscricao-Geral\" class=\"form-inscri-o w-form\"><form id=\"wf-form-Pr--Inscri-o-Home\" name=\"wf-form-Pr--Inscri-o-Home\" data-name=\"PrÃ©-InscriÃ§Ã£o Home\" method=\"get\" data-wf-page-id=\"5fff6d04c79af53301f4929f\" data-wf-element-id=\"b797ca16-b3ab-daa9-bed1-67af85538e12\"><input type=\"text\" class=\"campo-de-form w-input\" maxlength=\"256\" name=\"Nome\" data-name=\"Nome\" placeholder=\"Qual seu nome completo?*\" id=\"Nome-Completo\" required=\"\"/><input type=\"email\" class=\"campo-de-form w-input\" maxlength=\"256\" name=\"E-mail\" data-name=\"E-mail\" placeholder=\"Qual seu e-mail?*\" id=\"E-mail\" required=\"\"/><input type=\"tel\" class=\"campo-de-form w-input\" maxlength=\"256\" name=\"WhatsApp-Geral\" data-name=\"WhatsApp Geral\" placeholder=\"Qual seu nÃºmero de WhatsApp?*\" id=\"WhatsApp-Geral\" required=\"\"/><div class=\"select-wrapper\"><select id=\"Escolaridade\" name=\"Escolaridade\" data-name=\"Escolaridade\" required=\"\" class=\"campo-select w-select\"><option value=\"Pergunta\">Qual sua escolaridade?*</option><option value=\"Ensino Superior Completo\">Ensino Superior Completo</option><option value=\"PÃ³s-Graduando (Cursando)\">PÃ³s-Graduando (Cursando)</option><option value=\"PÃ³s-GraduaÃ§Ã£o Completa\">PÃ³s-GraduaÃ§Ã£o Completa</option><option value=\"Mestrado ou Doutorado Completo\">Mestrado ou Doutorado Completo</option></select></div><input type=\"text\" class=\"campo-de-form w-input\" maxlength=\"256\" name=\"LinkedIn\" data-name=\"LinkedIn\" placeholder=\"Qual seu link de perfil no LinkedIn?\" id=\"LinkedIn\"/><input type=\"text\" class=\"campo-de-form w-input\" maxlength=\"256\" name=\"Empresa\" data-name=\"Empresa\" placeholder=\"Qual o nome da sua empresa?*\" id=\"Empresa\" required=\"\"/><input type=\"text\" class=\"campo-de-form w-input\" maxlength=\"256\" name=\"Cargo\" data-name=\"Cargo\" placeholder=\"Qual seu cargo na empresa?*\" id=\"Cargo-3\" required=\"\"/><input type=\"text\" class=\"campo-de-form w-input\" maxlength=\"256\" name=\"Como-Conheceu\" data-name=\"Como Conheceu\" placeholder=\"Como ficou sabendo do MBA?*\" id=\"Como-Conheceu-3\" required=\"\"/><div class=\"select-wrapper\"><select id=\"Curso-Desejado-6\" name=\"Curso-Desejado\" data-name=\"Curso Desejado\" required=\"\" class=\"campo-select w-select\"><option value=\"Pergunta\">Qual o MBA desejado?*</option><option value=\"ITI\">InformaÃ§Ã£o, Tecnologia e InovaÃ§Ã£o Para NegÃ³cios</option><option value=\"MLP\">Machine Learning in Production</option></select></div><div class=\"select-wrapper hide\"><select id=\"Forma-de-Pagamento-3\" name=\"Forma-de-Pagamento\" data-name=\"Forma de Pagamento\" class=\"campo-select w-select\"><option value=\"Pergunta\">Qual a forma de pagamento?</option><option value=\"Ã\\x80 vista com desconto\">Ã\\x80 vista com desconto</option><option value=\"18 parcelas\">18 parcelas</option><option value=\"24 parcelas\">24 parcelas</option><option value=\"Bolsas de estudo\">Gostaria de concorrer a uma Bolsa de Estudos Parcial*</option></select></div><p class=\"p-aviso-form\">*SerÃ£o oferecidas Bolsas de Estudos parcial (de 25% ou 50% de desconto) numa proporÃ§Ã£o de atÃ© 10% das vagas. Os candidatos Ã\\xa0s Bolsas de Estudos deverÃ£o preencher um <a href=\"#\" data-w-id=\"b797ca16-b3ab-daa9-bed1-67af85538e23\" class=\"p-link-fundo-preto\">formulÃ¡rio eletrÃ´nico</a> com as justificativas e enviar os documentos comprobatÃ³rios para o e-mail <a href=\"mailto:atendimento@iti.mba\" class=\"p-link-fundo-preto\">atendimento@iti.mba</a>, conforme previsto no <a href=\"#Edital\" class=\"p-link-fundo-preto\">Edital para ConcessÃ£o de Bolsas</a>.</p><input type=\"submit\" value=\"Finalizar inscriÃ§Ã£o\" data-wait=\"Por favor, aguarde...\" class=\"cta-form w-button\"/></form><div class=\"msg-sucesso w-form-done\"><div class=\"sucesso\">Recebemos a sua inscriÃ§Ã£o!<br/>â\\x80\\x8d<br/>Nossa equipe entrarÃ¡ em contato por WhatsApp e/ou e-mail para orientar<br/>sobre os prÃ³ximos passos do processo seletivo.</div></div><div class=\"div-erro w-form-fail\"><div class=\"msg-erro\">Algo deu errado. Verifique se vocÃª preencheu todos os campos obrigatÃ³rios. Caso o problema persista, favor entrar em contato com atendimento@iti.mba</div></div></div></div></div><div id=\"blog\" class=\"iti-review\"><div class=\"container-blog\"><div class=\"barra-degrad-menor\"></div><h4 class=\"h4 blog-do-iti\">ITIÂ\\xa0Review</h4><h2 class=\"h2-blog\">Quais as novidades? Leia o ITI Review</h2><h4 class=\"h4 subtitulo-blog\">Confira os Ãºltimos insights sobre o universo de InovaÃ§Ã£o, Tecnologia e InformaÃ§Ã£o!<br/></h4><a href=\"https://iti.review/\" class=\"cta-pag-de-blog w-button\">Acessar o iti review</a></div></div><div id=\"footer\" class=\"footer\"><div class=\"container-footer\"><div id=\"w-node-e9472b39-3250-17ba-4c1d-cc1960cafa08-01f4929f\" class=\"coluna-footer _1\"><div class=\"logo-iti-footer\"></div><div class=\"div-social-icons\"><a href=\"https://www.facebook.com/iTiUFSCar/\" target=\"_blank\" class=\"social-link w-inline-block\"><div class=\"icone-facebook\"></div></a><a href=\"https://www.instagram.com/iti.ufscar/\" target=\"_blank\" class=\"social-link w-inline-block\"><div class=\"icone-instagram\"></div></a><a href=\"https://www.linkedin.com/company/iti-ufscar/\" target=\"_blank\" class=\"social-link w-inline-block\"><div class=\"icone-linkedin\"></div></a><a href=\"https://api.whatsapp.com/send?phone=5516997789400&amp;text=Ol%C3%A1%2C%20gostaria%20de%20mais%20informa%C3%A7%C3%B5es%20sobre%20o%20curso%20de%20voc%C3%AAs\" target=\"_blank\" class=\"social-link w-inline-block\"><div class=\"icone-whatsapp\"></div></a><a href=\"mailto:iti@ufscar.mba\" target=\"_blank\" class=\"social-link w-inline-block\"><div class=\"icone-email\"></div></a></div></div><div class=\"coluna-footer\"><h1 class=\"titulo-footer\">nossos cursos</h1><a href=\"/iti\" class=\"footer-link-de-curso w-inline-block\"><p class=\"footer-item\">MBA em InformaÃ§Ã£o, Tecnologia e InovaÃ§Ã£o para NegÃ³cios</p></a><a href=\"/mlp\" class=\"footer-link-de-curso w-inline-block\"><p class=\"footer-item\">MBA em Machine Learning in Production </p></a><a href=\"/iui\" class=\"footer-link-de-curso w-inline-block\"><p class=\"footer-item\">MBA de InovaÃ§Ã£o em Unidades de InformaÃ§Ã£o</p></a><a href=\"/isc\" class=\"footer-link-de-curso hide w-inline-block\"><p class=\"footer-item\">MBA de InovaÃ§Ã£o em Smart Cities</p></a><a href=\"#Infos\" class=\"footer-link-de-curso hide w-inline-block\"><p class=\"footer-item\">MBA em InformaÃ§Ã£o, Tecnologia e InovaÃ§Ã£o para NegÃ³cios</p></a><a href=\"#Infos\" class=\"footer-link-de-curso hide w-inline-block\"><p class=\"footer-item\">MBA em InformaÃ§Ã£o, Tecnologia e InovaÃ§Ã£o para NegÃ³cios</p></a><a href=\"#Infos\" class=\"footer-link-de-curso hide w-inline-block\"><p class=\"footer-item\">MBA em InformaÃ§Ã£o, Tecnologia e InovaÃ§Ã£o para NegÃ³cios</p></a><a href=\"#Infos\" class=\"footer-link-de-curso hide w-inline-block\"><p class=\"footer-item\">MBA em InformaÃ§Ã£o, Tecnologia e InovaÃ§Ã£o para NegÃ³cios</p></a></div><div class=\"coluna-footer\"><h1 class=\"titulo-footer\">MENU</h1><a href=\"/\" aria-current=\"page\" class=\"footer-link w-inline-block w--current\"><p class=\"footer-item\">PÃ¡gina Inicial</p><div class=\"linha-footer-link\"></div></a><a href=\"#nosso-time\" class=\"footer-link w-inline-block\"><p class=\"footer-item\">ConheÃ§a Nosso Time</p><div class=\"linha-footer-link\"></div></a><a href=\"#sobre-o-iti\" class=\"footer-link w-inline-block\"><p class=\"footer-item\">Sobre o ITIÂ\\xa0UFSCar</p><div class=\"linha-footer-link\"></div></a><a href=\"#diploma\" class=\"footer-link w-inline-block\"><p class=\"footer-item\">Diploma UFSCar</p><div class=\"linha-footer-link\"></div></a><a href=\"#Processo-Seletivo\" class=\"footer-link w-inline-block\"><p class=\"footer-item\">Processo Seletivo e MatrÃ\\xadcula</p><div class=\"linha-footer-link\"></div></a><a href=\"#\" class=\"footer-link w-inline-block\"><p class=\"footer-item\">Bolsas de Estudo</p><div class=\"linha-footer-link\"></div></a><a href=\"/iti-review\" class=\"footer-link w-inline-block\"><p class=\"footer-item\">ITIÂ\\xa0Review</p><div class=\"linha-footer-link\"></div></a><a href=\"http://ead3.sead.ufscar.br/\" target=\"_blank\" class=\"footer-link w-inline-block\"><p class=\"footer-item\">Ã\\x81rea do Aluno</p><div class=\"linha-footer-link\"></div></a><a href=\"#formulario\" class=\"footer-link w-inline-block\"><p class=\"footer-item\">FaÃ§a Sua PrÃ©-InscriÃ§Ã£o</p><div class=\"linha-footer-link\"></div></a></div><div id=\"w-node-e9472b39-3250-17ba-4c1d-cc1960cafa4b-01f4929f\" class=\"coluna-footer logos\"><h1 class=\"titulo-footer\">realizaÃ§Ã£o</h1><div class=\"logos-realiza-o\"><div class=\"logo-footer\"></div><div class=\"logo-footer dci\"></div><div class=\"logo-footer dc\"></div><div class=\"logo-footer proex\"></div><div class=\"logo-footer sead\"></div></div></div></div><div class=\"container-copyright\"><div class=\"div-copy\"><p class=\"p-copyright\">ITIÂ\\xa0MBAÂ\\xa0UFSCar Â© 2022 - Todos os direitos reservados.</p><div class=\"div-copy-link\"><p class=\"p-desenvolvido\">Desenvolvido por</p><a data-w-id=\"e9472b39-3250-17ba-4c1d-cc1960cafa5b\" href=\"https://integramd.com.br/\" target=\"_blank\" class=\"cta-linha-copyright w-inline-block\"><p class=\"link-desenvolvido\">Integra.MD</p><div class=\"linha-cta copy\"></div></a></div></div></div></div><script src=\"https://d3e54v103j8qbb.cloudfront.net/js/jquery-3.5.1.min.dc5e7f18c8.js?site=5f03212e310d7daf5962f991\" type=\"text/javascript\" integrity=\"sha256-9/aliU8dGd2tb6OSsuzixeV4y/faTqgFtohetphbbj0=\" crossorigin=\"anonymous\"></script><script src=\"https://uploads-ssl.webflow.com/5f03212e310d7daf5962f991/js/webflow.8c0e33291.js\" type=\"text/javascript\"></script><!-- Google Tag Manager (noscript) -->\\n<noscript><iframe src=\"https://www.googletagmanager.com/ns.html?id=GTM-NC88FMN\"\\nheight=\"0\" width=\"0\" style=\"display:none;visibility:hidden\"></iframe></noscript>\\n<!-- End Google Tag Manager (noscript) --><!-- MÃ¡scaras Forms WhatsApp -->\\n<script src=\"https://cdnjs.cloudflare.com/ajax/libs/jquery.mask/1.14.11/jquery.mask.js\"></script>\\n<script>\\n$(document).ready(function(){\\n    $(\"#WhatsApp-Popup\").mask(\"(00) 00000-0000\");\\n});\\n</script>\\n\\n<script src=\"https://cdnjs.cloudflare.com/ajax/libs/jquery.mask/1.14.11/jquery.mask.js\"></script>\\n<script>\\n$(document).ready(function(){\\n    $(\"#WhatsApp\").mask(\"(00) 00000-0000\");\\n});\\n</script>\\n\\n<script src=\"https://cdnjs.cloudflare.com/ajax/libs/jquery.mask/1.14.11/jquery.mask.js\"></script>\\n<script>\\n$(document).ready(function(){\\n    $(\"#WhatsApp-Geral\").mask(\"(00) 00000-0000\");\\n});\\n</script>\\n\\n<script src=\"https://cdnjs.cloudflare.com/ajax/libs/jquery.mask/1.14.11/jquery.mask.js\"></script>\\n<script>\\n$(document).ready(function(){\\n    $(\"#WhatsApp-Bolsas\").mask(\"(00) 00000-0000\");\\n});\\n</script>\\n<!-- Fim MÃ¡scaras Forms WhatsApp -->\\n\\n<!-- MÃ¡scara CPF -->\\n<script src=\"https://cdnjs.cloudflare.com/ajax/libs/jquery.mask/1.14.11/jquery.mask.js\"></script>\\n<script>\\n$(document).ready(function(){\\n    $(\"#CPF\").mask(\"000.000.000-00\");\\n});\\n</script>\\n\\n<!-- disable first select menu option -->\\n<script>\\n  $(\".campo-select\").each(function(){\\n \\t  $(this).children().first().attr(\"disabled\",\"disabled\");\\n  });\\n</script>\\n\\n<!-- pausar video popup depoimento (botÃ£o da foto) -->\\n<script>\\n  $(document).ready(function() {\\n  \\t// set unique id to videoplayer for the Webflow video element\\n  \\tvar src = $(\\'.videoplayer-depo\\').children(\\'iframe\\').attr(\\'src\\');\\n\\n  \\t// when object with class open-popup is clicked...\\n  \\t$(\\'.botao-de-play\\').click(function(e) {\\n  \\t\\te.preventDefault();\\n  \\t\\t// change the src value of the video\\n  \\t\\t$(\\'.videoplayer-depo\\').children(\\'iframe\\').attr(\\'src\\', src);\\n  \\t\\t$(\\'.popup-bg\\').fadeIn();\\n  \\t});\\n\\n  \\t// when object with class close-popup is clicked...\\n  \\t$(\\'.fechar-popup\\').click(function(e) {\\n  \\t\\te.preventDefault();\\n  \\t\\t$(\\'.videoplayer-depo\\').children(\\'iframe\\').attr(\\'src\\', \\'\\');\\n  \\t\\t$(\\'.popup-bg\\').fadeOut();\\n  \\t});\\n  });\\n</script>\\n\\n<!-- pausar video popup depoimento botÃ£o de texto -->\\n<script>\\n  $(document).ready(function() {\\n  \\t// set unique id to videoplayer for the Webflow video element\\n  \\tvar src = $(\\'.videoplayer-depo\\').children(\\'iframe\\').attr(\\'src\\');\\n\\n  \\t// when object with class open-popup is clicked...\\n  \\t$(\\'.cta-video-depoimento\\').click(function(e) {\\n  \\t\\te.preventDefault();\\n  \\t\\t// change the src value of the video\\n  \\t\\t$(\\'.videoplayer-depo\\').children(\\'iframe\\').attr(\\'src\\', src);\\n  \\t\\t$(\\'.popup-bg\\').fadeIn();\\n  \\t});\\n\\n  \\t// when object with class close-popup is clicked...\\n  \\t$(\\'.fechar-popup\\').click(function(e) {\\n  \\t\\te.preventDefault();\\n  \\t\\t$(\\'.videoplayer-depo\\').children(\\'iframe\\').attr(\\'src\\', \\'\\');\\n  \\t\\t$(\\'.popup-bg\\').fadeOut();\\n  \\t});\\n  });\\n</script>\\n\\n<!-- pausar video principal popup desktop -->\\n<script>\\n  $(document).ready(function() {\\n  \\t// set unique id to videoplayer for the Webflow video element\\n  \\tvar src = $(\\'.videoplayer-desktop\\').children(\\'iframe\\').attr(\\'src\\');\\n\\n  \\t// when object with class open-popup is clicked...\\n  \\t$(\\'.cta-video-desktop\\').click(function(e) {\\n  \\t\\te.preventDefault();\\n  \\t\\t// change the src value of the video\\n  \\t\\t$(\\'.videoplayer-desktop\\').children(\\'iframe\\').attr(\\'src\\', src);\\n  \\t\\t$(\\'.popup-bg\\').fadeIn();\\n  \\t});\\n\\n  \\t// when object with class close-popup is clicked...\\n  \\t$(\\'.fechar-video-desktop\\').click(function(e) {\\n  \\t\\te.preventDefault();\\n  \\t\\t$(\\'.videoplayer-desktop\\').children(\\'iframe\\').attr(\\'src\\', \\'\\');\\n  \\t\\t$(\\'.popup-bg\\').fadeOut();\\n  \\t});\\n  });\\n</script>\\n\\n<!-- pausar video principal popup mobile -->\\n<script>\\n  $(document).ready(function() {\\n  \\t// set unique id to videoplayer for the Webflow video element\\n  \\tvar src = $(\\'.videoplayer-mobile\\').children(\\'iframe\\').attr(\\'src\\');\\n\\n  \\t// when object with class open-popup is clicked...\\n  \\t$(\\'.cta-video-mobile\\').click(function(e) {\\n  \\t\\te.preventDefault();\\n  \\t\\t// change the src value of the video\\n  \\t\\t$(\\'.videoplayer-mobile\\').children(\\'iframe\\').attr(\\'src\\', src);\\n  \\t\\t$(\\'.popup-bg\\').fadeIn();\\n  \\t});\\n\\n  \\t// when object with class close-popup is clicked...\\n  \\t$(\\'.fechar-popup\\').click(function(e) {\\n  \\t\\te.preventDefault();\\n  \\t\\t$(\\'.videoplayer-mobile\\').children(\\'iframe\\').attr(\\'src\\', \\'\\');\\n  \\t\\t$(\\'.popup-bg\\').fadeOut();\\n  \\t});\\n  });\\n</script></body></html>'"
      ]
     },
     "execution_count": 7,
     "metadata": {},
     "output_type": "execute_result"
    }
   ],
   "source": [
    "html.text"
   ]
  },
  {
   "cell_type": "markdown",
   "metadata": {},
   "source": [
    "**Beautifulsoup4**"
   ]
  },
  {
   "cell_type": "markdown",
   "metadata": {},
   "source": [
    "REFERÊNCIA: https://pypi.org/project/beautifulsoup4/"
   ]
  },
  {
   "cell_type": "markdown",
   "metadata": {},
   "source": [
    "Exemplo com o site do ITI MBA UFSCAR"
   ]
  },
  {
   "cell_type": "code",
   "execution_count": 8,
   "metadata": {},
   "outputs": [],
   "source": [
    "from bs4 import BeautifulSoup\n",
    "from requests import get"
   ]
  },
  {
   "cell_type": "code",
   "execution_count": 9,
   "metadata": {},
   "outputs": [],
   "source": [
    "url_base = \"https://iti.ufscar.mba/\""
   ]
  },
  {
   "cell_type": "code",
   "execution_count": 10,
   "metadata": {},
   "outputs": [],
   "source": [
    "response = get(url_base)"
   ]
  },
  {
   "cell_type": "code",
   "execution_count": 11,
   "metadata": {},
   "outputs": [],
   "source": [
    "response.encoding = \"UTF-8\""
   ]
  },
  {
   "cell_type": "code",
   "execution_count": 17,
   "metadata": {},
   "outputs": [],
   "source": [
    "soup = BeautifulSoup(response.text,  \"html.parser\")"
   ]
  },
  {
   "cell_type": "code",
   "execution_count": 18,
   "metadata": {},
   "outputs": [
    {
     "data": {
      "text/plain": [
       "<title>ITI UFSCar: Conheça os MBAs do ITI UFSCar!</title>"
      ]
     },
     "execution_count": 18,
     "metadata": {},
     "output_type": "execute_result"
    }
   ],
   "source": [
    "soup.title"
   ]
  },
  {
   "cell_type": "code",
   "execution_count": 19,
   "metadata": {},
   "outputs": [
    {
     "data": {
      "text/plain": [
       "[<h1 class=\"h2-componentes-popup\">Componentes Curriculares</h1>,\n",
       " <h1 class=\"h1-home\">Informação, Tecnologia e Inovação</h1>,\n",
       " <h1 class=\"titulo-footer\">nossos cursos</h1>,\n",
       " <h1 class=\"titulo-footer\">MENU</h1>,\n",
       " <h1 class=\"titulo-footer\">realização</h1>]"
      ]
     },
     "execution_count": 19,
     "metadata": {},
     "output_type": "execute_result"
    }
   ],
   "source": [
    "soup.find_all(\"h1\")"
   ]
  },
  {
   "cell_type": "code",
   "execution_count": 20,
   "metadata": {},
   "outputs": [
    {
     "data": {
      "text/plain": [
       "<h1 class=\"h2-componentes-popup\">Componentes Curriculares</h1>"
      ]
     },
     "execution_count": 20,
     "metadata": {},
     "output_type": "execute_result"
    }
   ],
   "source": [
    "soup.find(\"h1\")"
   ]
  },
  {
   "cell_type": "code",
   "execution_count": 37,
   "metadata": {},
   "outputs": [],
   "source": [
    "nossos_cursos = soup.find(id=\"nossos-cursos\")"
   ]
  },
  {
   "cell_type": "markdown",
   "metadata": {},
   "source": [
    "Exibe todas as strings, mas isso não é interessante para nós, pois vem dados ruidosos"
   ]
  },
  {
   "cell_type": "code",
   "execution_count": 41,
   "metadata": {},
   "outputs": [
    {
     "name": "stdout",
     "output_type": "stream",
     "text": [
      "['Conheça nossos cursos']\n",
      "['MBA em Informação, Tecnologia e Inovação para Negócios', 'CONHECER\\xa0MAIS', 'MBA em Machine Learning in Production', 'CONHECER\\xa0MAIS', 'MBA em Innovation & Lean Startup', 'CONHECER\\xa0MAIS', 'MBA de Inovação em Unidades de Informação', 'CONHECER\\xa0MAIS', 'MBA de Inovação em Smart Cities', 'conhecer mais']\n"
     ]
    }
   ],
   "source": [
    "for i in nossos_cursos:\n",
    "    print(i.find_all(string=True))"
   ]
  },
  {
   "cell_type": "markdown",
   "metadata": {},
   "source": [
    "É interessante obtermos as informações de forma granular"
   ]
  },
  {
   "cell_type": "code",
   "execution_count": 45,
   "metadata": {},
   "outputs": [
    {
     "data": {
      "text/plain": [
       "'Conheça nossos cursos'"
      ]
     },
     "execution_count": 45,
     "metadata": {},
     "output_type": "execute_result"
    }
   ],
   "source": [
    "container_titulos = nossos_cursos.find(class_=\"container-titulos\").text\n",
    "container_titulos"
   ]
  },
  {
   "cell_type": "code",
   "execution_count": 46,
   "metadata": {},
   "outputs": [
    {
     "data": {
      "text/plain": [
       "<div class=\"container-default\"><div class=\"box-curso\"><div class=\"img-cursos\"></div><div class=\"div-cta-e-curso\"><h2 class=\"h2-nome-do-curso\">MBA em Informação, Tecnologia e Inovação para Negócios</h2><a class=\"link-cta-promo w-inline-block\" href=\"/iti\"><div class=\"cta-pag-de-curso\"><p class=\"cta-p\">CONHECER MAIS</p></div><h5 class=\"h5-valores-promos\"></h5></a><div class=\"barra-colorida\"></div></div></div><div class=\"box-curso\"><div class=\"div-cta-e-curso alt\"><h2 class=\"h2-nome-do-curso alt\">MBA em Machine Learning in Production</h2><a class=\"link-cta-promo w-inline-block\" href=\"/mlp\"><h5 class=\"h5-valores-promos mlp\"></h5><div class=\"cta-pag-de-curso machine\"><p class=\"cta-p\">CONHECER MAIS</p></div></a><div class=\"barra-colorida _2\"></div></div><div class=\"img-cursos machine-learning\"></div></div><div class=\"box-curso ocultar\"><div class=\"img-cursos lean-startup\"></div><div class=\"div-cta-e-curso\"><h2 class=\"h2-nome-do-curso\">MBA em Innovation &amp; Lean Startup</h2><a class=\"link-cta-promo w-inline-block\" href=\"/ils\"><div class=\"cta-pag-de-curso innovation\"><p class=\"cta-p ils\">CONHECER MAIS</p></div><h5 class=\"h5-valores-promos ils\"></h5></a><div class=\"barra-colorida _3\"></div></div></div><div class=\"box-curso ocultar\"><div class=\"div-cta-e-curso alt\"><h2 class=\"h2-nome-do-curso alt\">MBA de Inovação em Unidades de Informação</h2><a class=\"link-cta-promo w-inline-block\" href=\"/iui\"><h5 class=\"h5-valores-promos iui\"></h5><div class=\"cta-pag-de-curso unidades\"><p class=\"cta-p\">CONHECER MAIS</p></div></a><div class=\"barra-colorida _4\"></div></div><div class=\"img-cursos unidades\"></div></div><div class=\"box-curso ocultar\"><div class=\"img-cursos smart-cities\"></div><div class=\"div-cta-e-curso\"><h2 class=\"h2-nome-do-curso\">MBA de Inovação em Smart Cities</h2><a class=\"cta-pag-de-curso smart-cities w-button\" href=\"/isc\">conhecer mais</a><div class=\"barra-colorida _5\"></div></div></div></div>"
      ]
     },
     "execution_count": 46,
     "metadata": {},
     "output_type": "execute_result"
    }
   ],
   "source": [
    "container_default = nossos_cursos.find(class_=\"container-default\")\n",
    "container_default"
   ]
  },
  {
   "cell_type": "code",
   "execution_count": 66,
   "metadata": {},
   "outputs": [
    {
     "name": "stdout",
     "output_type": "stream",
     "text": [
      "<div class=\"box-curso\"><div class=\"img-cursos\"></div><div class=\"div-cta-e-curso\"><h2 class=\"h2-nome-do-curso\">MBA em Informação, Tecnologia e Inovação para Negócios</h2><a class=\"link-cta-promo w-inline-block\" href=\"/iti\"><div class=\"cta-pag-de-curso\"><p class=\"cta-p\">CONHECER MAIS</p></div><h5 class=\"h5-valores-promos\"></h5></a><div class=\"barra-colorida\"></div></div></div>\n",
      "<div class=\"box-curso\"><div class=\"div-cta-e-curso alt\"><h2 class=\"h2-nome-do-curso alt\">MBA em Machine Learning in Production</h2><a class=\"link-cta-promo w-inline-block\" href=\"/mlp\"><h5 class=\"h5-valores-promos mlp\"></h5><div class=\"cta-pag-de-curso machine\"><p class=\"cta-p\">CONHECER MAIS</p></div></a><div class=\"barra-colorida _2\"></div></div><div class=\"img-cursos machine-learning\"></div></div>\n",
      "<div class=\"box-curso ocultar\"><div class=\"img-cursos lean-startup\"></div><div class=\"div-cta-e-curso\"><h2 class=\"h2-nome-do-curso\">MBA em Innovation &amp; Lean Startup</h2><a class=\"link-cta-promo w-inline-block\" href=\"/ils\"><div class=\"cta-pag-de-curso innovation\"><p class=\"cta-p ils\">CONHECER MAIS</p></div><h5 class=\"h5-valores-promos ils\"></h5></a><div class=\"barra-colorida _3\"></div></div></div>\n",
      "<div class=\"box-curso ocultar\"><div class=\"div-cta-e-curso alt\"><h2 class=\"h2-nome-do-curso alt\">MBA de Inovação em Unidades de Informação</h2><a class=\"link-cta-promo w-inline-block\" href=\"/iui\"><h5 class=\"h5-valores-promos iui\"></h5><div class=\"cta-pag-de-curso unidades\"><p class=\"cta-p\">CONHECER MAIS</p></div></a><div class=\"barra-colorida _4\"></div></div><div class=\"img-cursos unidades\"></div></div>\n",
      "<div class=\"box-curso ocultar\"><div class=\"img-cursos smart-cities\"></div><div class=\"div-cta-e-curso\"><h2 class=\"h2-nome-do-curso\">MBA de Inovação em Smart Cities</h2><a class=\"cta-pag-de-curso smart-cities w-button\" href=\"/isc\">conhecer mais</a><div class=\"barra-colorida _5\"></div></div></div>\n"
     ]
    }
   ],
   "source": [
    "vector = []\n",
    "cursos_disponiveis = container_default.find_all(class_ = \"box-curso\")\n",
    "for i in cursos_disponiveis:\n",
    "    print(i)\n",
    "    # print(i.find(class_ = \"h2-nome-do-curso\").text)\n",
    "    # vector.append(i.find(class_ = \"h2-nome-do-curso\").text)\n"
   ]
  },
  {
   "cell_type": "markdown",
   "metadata": {},
   "source": [
    "Verificar os cursos que não estão ocultos"
   ]
  },
  {
   "cell_type": "code",
   "execution_count": 71,
   "metadata": {},
   "outputs": [],
   "source": [
    "vector = []\n",
    "cursos_disponiveis = container_default.find_all(class_ = \"box-curso\")\n",
    "for i in cursos_disponiveis:\n",
    "    if \"ocultar\" not in i[\"class\"]:\n",
    "        vector.append(i.find(class_ = \"h2-nome-do-curso\").text)"
   ]
  },
  {
   "cell_type": "code",
   "execution_count": 72,
   "metadata": {},
   "outputs": [
    {
     "data": {
      "text/plain": [
       "['MBA em Informação, Tecnologia e Inovação para Negócios',\n",
       " 'MBA em Machine Learning in Production']"
      ]
     },
     "execution_count": 72,
     "metadata": {},
     "output_type": "execute_result"
    }
   ],
   "source": [
    "vector"
   ]
  },
  {
   "cell_type": "markdown",
   "metadata": {},
   "source": [
    "Armazenando em um CSV"
   ]
  },
  {
   "cell_type": "code",
   "execution_count": 76,
   "metadata": {},
   "outputs": [],
   "source": [
    "import pandas as pd\n",
    "\n",
    "df = pd.DataFrame(columns = [\"cursos\"])"
   ]
  },
  {
   "cell_type": "code",
   "execution_count": 77,
   "metadata": {},
   "outputs": [],
   "source": [
    "df[\"cursos\"] = vector"
   ]
  },
  {
   "cell_type": "code",
   "execution_count": 78,
   "metadata": {},
   "outputs": [
    {
     "data": {
      "text/html": [
       "<div>\n",
       "<style scoped>\n",
       "    .dataframe tbody tr th:only-of-type {\n",
       "        vertical-align: middle;\n",
       "    }\n",
       "\n",
       "    .dataframe tbody tr th {\n",
       "        vertical-align: top;\n",
       "    }\n",
       "\n",
       "    .dataframe thead th {\n",
       "        text-align: right;\n",
       "    }\n",
       "</style>\n",
       "<table border=\"1\" class=\"dataframe\">\n",
       "  <thead>\n",
       "    <tr style=\"text-align: right;\">\n",
       "      <th></th>\n",
       "      <th>cursos</th>\n",
       "    </tr>\n",
       "  </thead>\n",
       "  <tbody>\n",
       "    <tr>\n",
       "      <th>0</th>\n",
       "      <td>MBA em Informação, Tecnologia e Inovação para ...</td>\n",
       "    </tr>\n",
       "    <tr>\n",
       "      <th>1</th>\n",
       "      <td>MBA em Machine Learning in Production</td>\n",
       "    </tr>\n",
       "  </tbody>\n",
       "</table>\n",
       "</div>"
      ],
      "text/plain": [
       "                                              cursos\n",
       "0  MBA em Informação, Tecnologia e Inovação para ...\n",
       "1              MBA em Machine Learning in Production"
      ]
     },
     "execution_count": 78,
     "metadata": {},
     "output_type": "execute_result"
    }
   ],
   "source": [
    "df"
   ]
  },
  {
   "cell_type": "markdown",
   "metadata": {},
   "source": [
    "Exemplo com outras informações do site do ITI"
   ]
  },
  {
   "cell_type": "code",
   "execution_count": 110,
   "metadata": {},
   "outputs": [],
   "source": [
    "nosso_time = soup.find(id=\"nosso-time\")"
   ]
  },
  {
   "cell_type": "code",
   "execution_count": 111,
   "metadata": {},
   "outputs": [],
   "source": [
    "coluna_docentes = nosso_time.find(class_=\"fundo-coluna-docentes\")"
   ]
  },
  {
   "cell_type": "code",
   "execution_count": 112,
   "metadata": {},
   "outputs": [
    {
     "name": "stdout",
     "output_type": "stream",
     "text": [
      "<div class=\"card-profs-home\"><div class=\"img-professor\"></div><div class=\"infos-professor-horizontal\"><h4 class=\"h4-nome-professor\">Rogério Sá Ramalho</h4><h5 class=\"h5-org-prof\">UFSCar</h5></div></div>\n",
      "<div class=\"card-profs-home\"><div class=\"img-professor ricardo\"></div><div class=\"infos-professor-horizontal\"><h4 class=\"h4-nome-professor\">Ricardo G. Sant'ana</h4><h5 class=\"h5-org-prof\">UNESP</h5></div></div>\n",
      "<div class=\"card-profs-home\"><div class=\"img-professor nanci\"></div><div class=\"infos-professor-horizontal\"><h4 class=\"h4-nome-professor\">Nanci Gardim</h4><h5 class=\"h5-org-prof\">SENAI - SP</h5></div></div>\n",
      "<div class=\"card-profs-home\"><div class=\"img-professor dener\"></div><div class=\"infos-professor-horizontal\"><h4 class=\"h4-nome-professor\">Vinícius Micali</h4><h5 class=\"h5-org-prof\">UFSCar</h5></div></div>\n",
      "<div class=\"card-profs-home\"><div class=\"img-professor roniberto\"></div><div class=\"infos-professor-horizontal\"><h4 class=\"h4-nome-professor\">Roniberto Morato do Amaral</h4><h5 class=\"h5-org-prof\">UFSCar</h5></div></div>\n",
      "<div class=\"card-profs-home\"><div class=\"img-professor marilde\"></div><div class=\"infos-professor-horizontal\"><h4 class=\"h4-nome-professor\">Marilde T. Prado Santos</h4><h5 class=\"h5-org-prof\">UFSCar</h5></div></div>\n",
      "<div class=\"card-profs-home\"><div class=\"img-professor marcela\"></div><div class=\"infos-professor-horizontal\"><h4 class=\"h4-nome-professor\">Marcela Xavier Ribeiro</h4><h5 class=\"h5-org-prof\">UFSCar</h5></div></div>\n",
      "<div class=\"card-profs-home\"><div class=\"img-professor renata\"></div><div class=\"infos-professor-horizontal\"><h4 class=\"h4-nome-professor\">Renata C. Gutierres Castanha</h4><h5 class=\"h5-org-prof\">AMBEV</h5></div></div>\n",
      "<div class=\"card-profs-home\"><div class=\"img-professor diego\"></div><div class=\"infos-professor-horizontal\"><h4 class=\"h4-nome-professor\">Diego Furtado Silva</h4><h5 class=\"h5-org-prof\">UFSCar</h5></div></div>\n",
      "<div class=\"card-profs-home\"><div class=\"img-professor heloisa\"></div><div class=\"infos-professor-horizontal\"><h4 class=\"h4-nome-professor\">Heloisa de Arruda Camargo</h4><h5 class=\"h5-org-prof\">UFSCar</h5></div></div>\n",
      "<div class=\"card-profs-home\"><div class=\"img-professor vania\"></div><div class=\"infos-professor-horizontal\"><h4 class=\"h4-nome-professor\">Vânia P. A. Neris</h4><h5 class=\"h5-org-prof\">UFSCar</h5></div></div>\n",
      "<div class=\"card-profs-home\"><div class=\"img-professor marta\"></div><div class=\"infos-professor-horizontal\"><h4 class=\"h4-nome-professor\">Marta P. Valentim</h4><h5 class=\"h5-org-prof\">UNESP</h5></div></div>\n",
      "<div class=\"card-profs-home\"><div class=\"img-professor elaine\"></div><div class=\"infos-professor-horizontal\"><h4 class=\"h4-nome-professor\">Elaine da Silva</h4><h5 class=\"h5-org-prof\">UEL</h5></div></div>\n",
      "<div class=\"card-profs-home\"><div class=\"img-professor aroca\"></div><div class=\"infos-professor-horizontal\"><h4 class=\"h4-nome-professor\">Rafael Vidal Aroca</h4><h5 class=\"h5-org-prof\">UFSCar</h5></div></div>\n",
      "<div class=\"card-profs-home\"><div class=\"img-professor rodrigo\"></div><div class=\"infos-professor-horizontal\"><h4 class=\"h4-nome-professor\">Rodrigo Francisco Botelho</h4><h5 class=\"h5-org-prof\">UFPR</h5></div></div>\n"
     ]
    }
   ],
   "source": [
    "vector = []\n",
    "\n",
    "professores_academia = coluna_docentes.find_all(class_ = \"card-profs-home\")\n",
    "\n",
    "for i in professores_academia:\n",
    "    print(i)"
   ]
  },
  {
   "cell_type": "code",
   "execution_count": 114,
   "metadata": {},
   "outputs": [
    {
     "name": "stdout",
     "output_type": "stream",
     "text": [
      "----------\n",
      "Rogério Sá Ramalho\n",
      "UFSCar\n",
      "----------\n",
      "----------\n",
      "Ricardo G. Sant'ana\n",
      "UNESP\n",
      "----------\n",
      "----------\n",
      "Nanci Gardim\n",
      "SENAI - SP\n",
      "----------\n",
      "----------\n",
      "Vinícius Micali\n",
      "UFSCar\n",
      "----------\n",
      "----------\n",
      "Roniberto Morato do Amaral\n",
      "UFSCar\n",
      "----------\n",
      "----------\n",
      "Marilde T. Prado Santos\n",
      "UFSCar\n",
      "----------\n",
      "----------\n",
      "Marcela Xavier Ribeiro\n",
      "UFSCar\n",
      "----------\n",
      "----------\n",
      "Renata C. Gutierres Castanha\n",
      "AMBEV\n",
      "----------\n",
      "----------\n",
      "Diego Furtado Silva\n",
      "UFSCar\n",
      "----------\n",
      "----------\n",
      "Heloisa de Arruda Camargo\n",
      "UFSCar\n",
      "----------\n",
      "----------\n",
      "Vânia P. A. Neris\n",
      "UFSCar\n",
      "----------\n",
      "----------\n",
      "Marta P. Valentim\n",
      "UNESP\n",
      "----------\n",
      "----------\n",
      "Elaine da Silva\n",
      "UEL\n",
      "----------\n",
      "----------\n",
      "Rafael Vidal Aroca\n",
      "UFSCar\n",
      "----------\n",
      "----------\n",
      "Rodrigo Francisco Botelho\n",
      "UFPR\n",
      "----------\n"
     ]
    }
   ],
   "source": [
    "vector = []\n",
    "\n",
    "professores_academia = coluna_docentes.find_all(class_ = \"card-profs-home\")\n",
    "\n",
    "vector_professores_academia = []\n",
    "vector_org_academia = []\n",
    "\n",
    "for i in professores_academia:\n",
    "    professor = i.find(class_ = \"h4-nome-professor\").text\n",
    "    org = i.find(class_ = \"h5-org-prof\").text\n",
    "\n",
    "    print(\"-\"*10)\n",
    "    print(professor)\n",
    "    print(org)\n",
    "    print(\"-\"*10)\n",
    "\n",
    "    vector_professores_academia.append(professor)\n",
    "    vector_org_academia.append(org)"
   ]
  },
  {
   "cell_type": "code",
   "execution_count": 115,
   "metadata": {},
   "outputs": [],
   "source": [
    "coluna_representantes = nosso_time.find(class_=\"fundo-coluna-representantes\")"
   ]
  },
  {
   "cell_type": "code",
   "execution_count": 116,
   "metadata": {},
   "outputs": [
    {
     "name": "stdout",
     "output_type": "stream",
     "text": [
      "<div class=\"card-profs-home mercado\"><div class=\"img-professor daniel\"></div><div class=\"infos-professor-horizontal\"><h4 class=\"h4-nome-professor\">Daniel Palis</h4><h5 class=\"h5-org-prof\">CALINA</h5></div></div>\n",
      "<div class=\"card-profs-home mercado\"><div class=\"img-professor neto\"></div><div class=\"infos-professor-horizontal\"><h4 class=\"h4-nome-professor\">Fernando A. Cervantes</h4><h5 class=\"h5-org-prof\">Vivo</h5></div></div>\n",
      "<div class=\"card-profs-home mercado\"><div class=\"img-professor leonardo-maior\"></div><div class=\"infos-professor-horizontal\"><h4 class=\"h4-nome-professor\">Leonardo Araújo Lima</h4><h5 class=\"h5-org-prof\">Raccoon</h5></div></div>\n",
      "<div class=\"card-profs-home mercado\"><div class=\"img-professor arthur\"></div><div class=\"infos-professor-horizontal\"><h4 class=\"h4-nome-professor\">Arthur Rufino</h4><h5 class=\"h5-org-prof\">JR Diesel</h5></div></div>\n",
      "<div class=\"card-profs-home mercado\"><div class=\"img-professor jos-eduardo\"></div><div class=\"infos-professor-horizontal\"><h4 class=\"h4-nome-professor\">José Eduardo Ribeiro</h4><h5 class=\"h5-org-prof\">Serasa Experian</h5></div></div>\n",
      "<div class=\"card-profs-home mercado\"><div class=\"img-professor bertoldi\"></div><div class=\"infos-professor-horizontal\"><h4 class=\"h4-nome-professor\">Alex Bertoldi</h4><h5 class=\"h5-org-prof\">Bertoldi Nagao</h5></div></div>\n",
      "<div class=\"card-profs-home mercado\"><div class=\"img-professor carlos\"></div><div class=\"infos-professor-horizontal\"><h4 class=\"h4-nome-professor\">Carlos Pereira Lopes Filho</h4><h5 class=\"h5-org-prof\">Raccoon</h5></div></div>\n",
      "<div class=\"card-profs-home mercado\"><div class=\"img-professor alessandro\"></div><div class=\"infos-professor-horizontal\"><h4 class=\"h4-nome-professor\">Alessandro Zito Gomes</h4><h5 class=\"h5-org-prof\">Santander Tecnologia</h5></div></div>\n",
      "<div class=\"card-profs-home mercado\"><div class=\"img-professor schmiedel\"></div><div class=\"infos-professor-horizontal\"><h4 class=\"h4-nome-professor\">Carlos Schmiedel</h4><h5 class=\"h5-org-prof\">Predify</h5></div></div>\n",
      "<div class=\"card-profs-home mercado\"><div class=\"img-professor eduardo\"></div><div class=\"infos-professor-horizontal\"><h4 class=\"h4-nome-professor\">Eduardo Soldera</h4><h5 class=\"h5-org-prof\">Blue Orange</h5></div></div>\n",
      "<div class=\"card-profs-home mercado\"><div class=\"img-professor neto-marin\"></div><div class=\"infos-professor-horizontal\"><h4 class=\"h4-nome-professor\">Neto Marin</h4><h5 class=\"h5-org-prof\">Google</h5></div></div>\n",
      "<div class=\"card-profs-home mercado\"><div class=\"img-professor rafael\"></div><div class=\"infos-professor-horizontal\"><h4 class=\"h4-nome-professor\">Rafael Calsaverini</h4><h5 class=\"h5-org-prof\">Nubank</h5></div></div>\n",
      "<div class=\"card-profs-home mercado\"><div class=\"img-professor dhiogo\"></div><div class=\"infos-professor-horizontal\"><h4 class=\"h4-nome-professor\">Dhiogo Corrêa</h4><h5 class=\"h5-org-prof\">Itera</h5></div></div>\n",
      "<div class=\"card-profs-home mercado\"><div class=\"img-professor mateus\"></div><div class=\"infos-professor-horizontal\"><h4 class=\"h4-nome-professor\">Mateus Quelhas</h4><h5 class=\"h5-org-prof\">ACE Startups</h5></div></div>\n",
      "<div class=\"card-profs-home mercado\"><div class=\"img-professor claudio\"></div><div class=\"infos-professor-horizontal\"><h4 class=\"h4-nome-professor\">Claudio Gorga</h4><h5 class=\"h5-org-prof\">ACE Startups</h5></div></div>\n",
      "<div class=\"card-profs-home mercado\"><div class=\"img-professor bruna\"></div><div class=\"infos-professor-horizontal\"><h4 class=\"h4-nome-professor\">Bruna Boa Sorte</h4><h5 class=\"h5-org-prof\">Instituto Inova</h5></div></div>\n",
      "<div class=\"card-profs-home mercado\"><div class=\"img-professor fabio\"></div><div class=\"infos-professor-horizontal\"><h4 class=\"h4-nome-professor\">Fábio Celeri</h4><h5 class=\"h5-org-prof\">Google</h5></div></div>\n",
      "<div class=\"card-profs-home mercado\"><div class=\"img-professor ruocco\"></div><div class=\"infos-professor-horizontal\"><h4 class=\"h4-nome-professor\">Luiz Fernando Ruocco</h4><h5 class=\"h5-org-prof\">Rocky</h5></div></div>\n"
     ]
    }
   ],
   "source": [
    "vector = []\n",
    "\n",
    "professores_industria= coluna_representantes.find_all(class_ = \"card-profs-home\")\n",
    "\n",
    "for i in professores_industria:\n",
    "    print(i)"
   ]
  },
  {
   "cell_type": "code",
   "execution_count": 118,
   "metadata": {},
   "outputs": [
    {
     "name": "stdout",
     "output_type": "stream",
     "text": [
      "----------\n",
      "Daniel Palis\n",
      "CALINA\n",
      "----------\n",
      "----------\n",
      "Fernando A. Cervantes\n",
      "Vivo\n",
      "----------\n",
      "----------\n",
      "Leonardo Araújo Lima\n",
      "Raccoon\n",
      "----------\n",
      "----------\n",
      "Arthur Rufino\n",
      "JR Diesel\n",
      "----------\n",
      "----------\n",
      "José Eduardo Ribeiro\n",
      "Serasa Experian\n",
      "----------\n",
      "----------\n",
      "Alex Bertoldi\n",
      "Bertoldi Nagao\n",
      "----------\n",
      "----------\n",
      "Carlos Pereira Lopes Filho\n",
      "Raccoon\n",
      "----------\n",
      "----------\n",
      "Alessandro Zito Gomes\n",
      "Santander Tecnologia\n",
      "----------\n",
      "----------\n",
      "Carlos Schmiedel\n",
      "Predify\n",
      "----------\n",
      "----------\n",
      "Eduardo Soldera\n",
      "Blue Orange\n",
      "----------\n",
      "----------\n",
      "Neto Marin\n",
      "Google\n",
      "----------\n",
      "----------\n",
      "Rafael Calsaverini\n",
      "Nubank\n",
      "----------\n",
      "----------\n",
      "Dhiogo Corrêa\n",
      "Itera\n",
      "----------\n",
      "----------\n",
      "Mateus Quelhas\n",
      "ACE Startups\n",
      "----------\n",
      "----------\n",
      "Claudio Gorga\n",
      "ACE Startups\n",
      "----------\n",
      "----------\n",
      "Bruna Boa Sorte\n",
      "Instituto Inova\n",
      "----------\n",
      "----------\n",
      "Fábio Celeri\n",
      "Google\n",
      "----------\n",
      "----------\n",
      "Luiz Fernando Ruocco\n",
      "Rocky\n",
      "----------\n"
     ]
    }
   ],
   "source": [
    "vector = []\n",
    "\n",
    "professores_industria = coluna_representantes.find_all(class_ = \"card-profs-home\")\n",
    "\n",
    "vector_professores_industria = []\n",
    "vector_org_industria = []\n",
    "\n",
    "for i in professores_industria:\n",
    "    professor = i.find(class_ = \"h4-nome-professor\").text\n",
    "    org = i.find(class_ = \"h5-org-prof\").text\n",
    "\n",
    "    print(\"-\"*10)\n",
    "    print(professor)\n",
    "    print(org)\n",
    "    print(\"-\"*10)\n",
    "\n",
    "    vector_professores_industria.append(professor)\n",
    "    vector_org_industria.append(org)"
   ]
  },
  {
   "cell_type": "markdown",
   "metadata": {},
   "source": [
    "Armazenando em um CSV"
   ]
  },
  {
   "cell_type": "code",
   "execution_count": 122,
   "metadata": {},
   "outputs": [],
   "source": [
    "import pandas as pd\n",
    "\n",
    "df = pd.DataFrame(columns = [\"professores\", \"instituicao\"])"
   ]
  },
  {
   "cell_type": "code",
   "execution_count": 123,
   "metadata": {},
   "outputs": [],
   "source": [
    "vector_professores = vector_professores_academia + vector_professores_industria\n",
    "vector_org = vector_org_academia + vector_org_industria"
   ]
  },
  {
   "cell_type": "code",
   "execution_count": 124,
   "metadata": {},
   "outputs": [],
   "source": [
    "df[\"professores\"] = vector_professores\n",
    "df[\"instituicao\"] = vector_org"
   ]
  },
  {
   "cell_type": "code",
   "execution_count": 125,
   "metadata": {},
   "outputs": [
    {
     "data": {
      "text/html": [
       "<div>\n",
       "<style scoped>\n",
       "    .dataframe tbody tr th:only-of-type {\n",
       "        vertical-align: middle;\n",
       "    }\n",
       "\n",
       "    .dataframe tbody tr th {\n",
       "        vertical-align: top;\n",
       "    }\n",
       "\n",
       "    .dataframe thead th {\n",
       "        text-align: right;\n",
       "    }\n",
       "</style>\n",
       "<table border=\"1\" class=\"dataframe\">\n",
       "  <thead>\n",
       "    <tr style=\"text-align: right;\">\n",
       "      <th></th>\n",
       "      <th>professores</th>\n",
       "      <th>instituicao</th>\n",
       "    </tr>\n",
       "  </thead>\n",
       "  <tbody>\n",
       "    <tr>\n",
       "      <th>0</th>\n",
       "      <td>Rogério Sá Ramalho</td>\n",
       "      <td>UFSCar</td>\n",
       "    </tr>\n",
       "    <tr>\n",
       "      <th>1</th>\n",
       "      <td>Ricardo G. Sant'ana</td>\n",
       "      <td>UNESP</td>\n",
       "    </tr>\n",
       "    <tr>\n",
       "      <th>2</th>\n",
       "      <td>Nanci Gardim</td>\n",
       "      <td>SENAI - SP</td>\n",
       "    </tr>\n",
       "    <tr>\n",
       "      <th>3</th>\n",
       "      <td>Vinícius Micali</td>\n",
       "      <td>UFSCar</td>\n",
       "    </tr>\n",
       "    <tr>\n",
       "      <th>4</th>\n",
       "      <td>Roniberto Morato do Amaral</td>\n",
       "      <td>UFSCar</td>\n",
       "    </tr>\n",
       "    <tr>\n",
       "      <th>5</th>\n",
       "      <td>Marilde T. Prado Santos</td>\n",
       "      <td>UFSCar</td>\n",
       "    </tr>\n",
       "    <tr>\n",
       "      <th>6</th>\n",
       "      <td>Marcela Xavier Ribeiro</td>\n",
       "      <td>UFSCar</td>\n",
       "    </tr>\n",
       "    <tr>\n",
       "      <th>7</th>\n",
       "      <td>Renata C. Gutierres Castanha</td>\n",
       "      <td>AMBEV</td>\n",
       "    </tr>\n",
       "    <tr>\n",
       "      <th>8</th>\n",
       "      <td>Diego Furtado Silva</td>\n",
       "      <td>UFSCar</td>\n",
       "    </tr>\n",
       "    <tr>\n",
       "      <th>9</th>\n",
       "      <td>Heloisa de Arruda Camargo</td>\n",
       "      <td>UFSCar</td>\n",
       "    </tr>\n",
       "    <tr>\n",
       "      <th>10</th>\n",
       "      <td>Vânia P. A. Neris</td>\n",
       "      <td>UFSCar</td>\n",
       "    </tr>\n",
       "    <tr>\n",
       "      <th>11</th>\n",
       "      <td>Marta P. Valentim</td>\n",
       "      <td>UNESP</td>\n",
       "    </tr>\n",
       "    <tr>\n",
       "      <th>12</th>\n",
       "      <td>Elaine da Silva</td>\n",
       "      <td>UEL</td>\n",
       "    </tr>\n",
       "    <tr>\n",
       "      <th>13</th>\n",
       "      <td>Rafael Vidal Aroca</td>\n",
       "      <td>UFSCar</td>\n",
       "    </tr>\n",
       "    <tr>\n",
       "      <th>14</th>\n",
       "      <td>Rodrigo Francisco Botelho</td>\n",
       "      <td>UFPR</td>\n",
       "    </tr>\n",
       "    <tr>\n",
       "      <th>15</th>\n",
       "      <td>Daniel Palis</td>\n",
       "      <td>CALINA</td>\n",
       "    </tr>\n",
       "    <tr>\n",
       "      <th>16</th>\n",
       "      <td>Fernando A. Cervantes</td>\n",
       "      <td>Vivo</td>\n",
       "    </tr>\n",
       "    <tr>\n",
       "      <th>17</th>\n",
       "      <td>Leonardo Araújo Lima</td>\n",
       "      <td>Raccoon</td>\n",
       "    </tr>\n",
       "    <tr>\n",
       "      <th>18</th>\n",
       "      <td>Arthur Rufino</td>\n",
       "      <td>JR Diesel</td>\n",
       "    </tr>\n",
       "    <tr>\n",
       "      <th>19</th>\n",
       "      <td>José Eduardo Ribeiro</td>\n",
       "      <td>Serasa Experian</td>\n",
       "    </tr>\n",
       "    <tr>\n",
       "      <th>20</th>\n",
       "      <td>Alex Bertoldi</td>\n",
       "      <td>Bertoldi Nagao</td>\n",
       "    </tr>\n",
       "    <tr>\n",
       "      <th>21</th>\n",
       "      <td>Carlos Pereira Lopes Filho</td>\n",
       "      <td>Raccoon</td>\n",
       "    </tr>\n",
       "    <tr>\n",
       "      <th>22</th>\n",
       "      <td>Alessandro Zito Gomes</td>\n",
       "      <td>Santander Tecnologia</td>\n",
       "    </tr>\n",
       "    <tr>\n",
       "      <th>23</th>\n",
       "      <td>Carlos Schmiedel</td>\n",
       "      <td>Predify</td>\n",
       "    </tr>\n",
       "    <tr>\n",
       "      <th>24</th>\n",
       "      <td>Eduardo Soldera</td>\n",
       "      <td>Blue Orange</td>\n",
       "    </tr>\n",
       "    <tr>\n",
       "      <th>25</th>\n",
       "      <td>Neto Marin</td>\n",
       "      <td>Google</td>\n",
       "    </tr>\n",
       "    <tr>\n",
       "      <th>26</th>\n",
       "      <td>Rafael Calsaverini</td>\n",
       "      <td>Nubank</td>\n",
       "    </tr>\n",
       "    <tr>\n",
       "      <th>27</th>\n",
       "      <td>Dhiogo Corrêa</td>\n",
       "      <td>Itera</td>\n",
       "    </tr>\n",
       "    <tr>\n",
       "      <th>28</th>\n",
       "      <td>Mateus Quelhas</td>\n",
       "      <td>ACE Startups</td>\n",
       "    </tr>\n",
       "    <tr>\n",
       "      <th>29</th>\n",
       "      <td>Claudio Gorga</td>\n",
       "      <td>ACE Startups</td>\n",
       "    </tr>\n",
       "    <tr>\n",
       "      <th>30</th>\n",
       "      <td>Bruna Boa Sorte</td>\n",
       "      <td>Instituto Inova</td>\n",
       "    </tr>\n",
       "    <tr>\n",
       "      <th>31</th>\n",
       "      <td>Fábio Celeri</td>\n",
       "      <td>Google</td>\n",
       "    </tr>\n",
       "    <tr>\n",
       "      <th>32</th>\n",
       "      <td>Luiz Fernando Ruocco</td>\n",
       "      <td>Rocky</td>\n",
       "    </tr>\n",
       "  </tbody>\n",
       "</table>\n",
       "</div>"
      ],
      "text/plain": [
       "                     professores           instituicao\n",
       "0             Rogério Sá Ramalho                UFSCar\n",
       "1            Ricardo G. Sant'ana                 UNESP\n",
       "2                   Nanci Gardim            SENAI - SP\n",
       "3                Vinícius Micali                UFSCar\n",
       "4     Roniberto Morato do Amaral                UFSCar\n",
       "5        Marilde T. Prado Santos                UFSCar\n",
       "6         Marcela Xavier Ribeiro                UFSCar\n",
       "7   Renata C. Gutierres Castanha                 AMBEV\n",
       "8            Diego Furtado Silva                UFSCar\n",
       "9      Heloisa de Arruda Camargo                UFSCar\n",
       "10             Vânia P. A. Neris                UFSCar\n",
       "11             Marta P. Valentim                 UNESP\n",
       "12               Elaine da Silva                   UEL\n",
       "13            Rafael Vidal Aroca                UFSCar\n",
       "14     Rodrigo Francisco Botelho                  UFPR\n",
       "15                  Daniel Palis                CALINA\n",
       "16         Fernando A. Cervantes                  Vivo\n",
       "17          Leonardo Araújo Lima               Raccoon\n",
       "18                 Arthur Rufino             JR Diesel\n",
       "19          José Eduardo Ribeiro       Serasa Experian\n",
       "20                 Alex Bertoldi        Bertoldi Nagao\n",
       "21    Carlos Pereira Lopes Filho               Raccoon\n",
       "22         Alessandro Zito Gomes  Santander Tecnologia\n",
       "23              Carlos Schmiedel               Predify\n",
       "24               Eduardo Soldera           Blue Orange\n",
       "25                    Neto Marin                Google\n",
       "26            Rafael Calsaverini                Nubank\n",
       "27                 Dhiogo Corrêa                 Itera\n",
       "28                Mateus Quelhas          ACE Startups\n",
       "29                 Claudio Gorga          ACE Startups\n",
       "30               Bruna Boa Sorte       Instituto Inova\n",
       "31                  Fábio Celeri                Google\n",
       "32          Luiz Fernando Ruocco                 Rocky"
      ]
     },
     "execution_count": 125,
     "metadata": {},
     "output_type": "execute_result"
    }
   ],
   "source": [
    "df"
   ]
  },
  {
   "cell_type": "markdown",
   "metadata": {},
   "source": [
    "Exemplo do Site do CGE"
   ]
  },
  {
   "cell_type": "code",
   "execution_count": 128,
   "metadata": {},
   "outputs": [],
   "source": [
    "# --------create dataframe--------\n",
    "colunas = [\n",
    "    \"data\",\n",
    "    \"periodo\",\n",
    "    \"endereco\",\n",
    "    \"sentido\",\n",
    "    \"referencia\",\n",
    "    \"status\",\n",
    "    \"url_base\",\n",
    "    \"string\",\n",
    "]\n",
    "df = pd.DataFrame(columns=colunas)"
   ]
  },
  {
   "cell_type": "code",
   "execution_count": 129,
   "metadata": {},
   "outputs": [
    {
     "name": "stdout",
     "output_type": "stream",
     "text": [
      "1\n",
      "--------------------------\n",
      "data:  <div class=\"card-profs-home mercado\"><div class=\"img-professor ruocco\"></div><div class=\"infos-professor-horizontal\"><h4 class=\"h4-nome-professor\">Luiz Fernando Ruocco</h4><h5 class=\"h5-org-prof\">Rocky</h5></div></div>\n",
      "periodo:  De 08:09 a 08:42\n",
      "endereco:  Sentido: MORATO/CPO LIMPO\n",
      "sentido:  AV. DR GUILHERME DUMONT VILARES\n",
      "referencia:  Referência: AV PROF FRANCISCO MORATO\n",
      "status:  transitavel\n",
      "url_base:  https://www.cgesp.org/v3/alagamentos.jsp?dataBusca=28/10/2019+&enviaBusca=Buscar\n",
      "string:  [<li class=\"arial-descr-alag col-local\">De 08:09 a 08:42<br/>AV. DR GUILHERME DUMONT VILARES</li>, <li class=\"arial-descr-alag\">Sentido: MORATO/CPO LIMPO<br/>Referência: AV PROF FRANCISCO MORATO</li>]\n",
      "--------------------------\n",
      "2\n",
      "--------------------------\n",
      "data:  <div class=\"card-profs-home mercado\"><div class=\"img-professor ruocco\"></div><div class=\"infos-professor-horizontal\"><h4 class=\"h4-nome-professor\">Luiz Fernando Ruocco</h4><h5 class=\"h5-org-prof\">Rocky</h5></div></div>\n",
      "periodo:  De 07:29 a 09:26\n",
      "endereco:  Sentido: CENTRO/BAIRRO\n",
      "sentido:  AV. ALCANTARA MACHADO\n",
      "referencia:  Referência: R. ANDRE DE LEAO\n",
      "status:  transitavel\n",
      "url_base:  https://www.cgesp.org/v3/alagamentos.jsp?dataBusca=28/10/2019+&enviaBusca=Buscar\n",
      "string:  [<li class=\"arial-descr-alag col-local\">De 07:29 a 09:26<br/>AV. ALCANTARA MACHADO</li>, <li class=\"arial-descr-alag\">Sentido: CENTRO/BAIRRO<br/>Referência: R. ANDRE DE LEAO</li>]\n",
      "--------------------------\n",
      "3\n",
      "--------------------------\n",
      "data:  <div class=\"card-profs-home mercado\"><div class=\"img-professor ruocco\"></div><div class=\"infos-professor-horizontal\"><h4 class=\"h4-nome-professor\">Luiz Fernando Ruocco</h4><h5 class=\"h5-org-prof\">Rocky</h5></div></div>\n",
      "periodo:  De 07:36 a 11:02\n",
      "endereco:  Sentido: CENTRO/BAIRRO\n",
      "sentido:  AV. CELSO GARCIA\n",
      "referencia:  Referência: R. JOSE DE ALENCAR\n",
      "status:  transitavel\n",
      "url_base:  https://www.cgesp.org/v3/alagamentos.jsp?dataBusca=28/10/2019+&enviaBusca=Buscar\n",
      "string:  [<li class=\"arial-descr-alag col-local\">De 07:36 a 11:02<br/>AV. CELSO GARCIA</li>, <li class=\"arial-descr-alag\">Sentido: CENTRO/BAIRRO<br/>Referência: R. JOSE DE ALENCAR</li>]\n",
      "--------------------------\n",
      "4\n",
      "--------------------------\n",
      "data:  <div class=\"card-profs-home mercado\"><div class=\"img-professor ruocco\"></div><div class=\"infos-professor-horizontal\"><h4 class=\"h4-nome-professor\">Luiz Fernando Ruocco</h4><h5 class=\"h5-org-prof\">Rocky</h5></div></div>\n",
      "periodo:  De 08:25 a 10:08\n",
      "endereco:  Sentido: UNICO\n",
      "sentido:  AV. GUILHERME COTCHING\n",
      "referencia:  Referência: ALTURA DO NÚMERO 16\n",
      "status:  transitavel\n",
      "url_base:  https://www.cgesp.org/v3/alagamentos.jsp?dataBusca=28/10/2019+&enviaBusca=Buscar\n",
      "string:  [<li class=\"arial-descr-alag col-local\">De 08:25 a 10:08<br/>AV. GUILHERME COTCHING</li>, <li class=\"arial-descr-alag\">Sentido: UNICO<br/>Referência: ALTURA DO NÚMERO 16</li>]\n",
      "--------------------------\n",
      "5\n",
      "--------------------------\n",
      "data:  <div class=\"card-profs-home mercado\"><div class=\"img-professor ruocco\"></div><div class=\"infos-professor-horizontal\"><h4 class=\"h4-nome-professor\">Luiz Fernando Ruocco</h4><h5 class=\"h5-org-prof\">Rocky</h5></div></div>\n",
      "periodo:  De 04:05 a 10:08\n",
      "endereco:  Sentido: INTERLAGOS/MARGINAL\n",
      "sentido:  R. MIGUEL YUNES\n",
      "referencia:  Referência: AV INTERLAGOS\n",
      "status:  transitavel\n",
      "url_base:  https://www.cgesp.org/v3/alagamentos.jsp?dataBusca=28/10/2019+&enviaBusca=Buscar\n",
      "string:  [<li class=\"arial-descr-alag col-local\">De 04:05 a 10:08<br/>R. MIGUEL YUNES</li>, <li class=\"arial-descr-alag\">Sentido: INTERLAGOS/MARGINAL<br/>Referência: AV INTERLAGOS</li>]\n",
      "--------------------------\n"
     ]
    },
    {
     "name": "stderr",
     "output_type": "stream",
     "text": [
      "/tmp/ipykernel_34225/3086495740.py:45: DeprecationWarning: The 'text' argument to find()-type methods is deprecated. Use 'string' instead.\n",
      "  features = l.find_all(text=True)\n"
     ]
    }
   ],
   "source": [
    "url_base = (\n",
    "    \"https://www.cgesp.org/v3/alagamentos.jsp?dataBusca=\"\n",
    "    + \"28\" \n",
    "    + \"/\"\n",
    "    + \"10\"\n",
    "    + \"/\"\n",
    "    + \"2019\"\n",
    "    + \"+&enviaBusca=Buscar\"\n",
    ")\n",
    "\n",
    "response = get(url_base)\n",
    "soup = BeautifulSoup(response.text, \"html.parser\")\n",
    "\n",
    "lista_alagamentos = soup.find_all(\n",
    "    class_=\"tb-pontos-de-alagamentos\"\n",
    ")\n",
    "\n",
    "if len(lista_alagamentos) == 0:\n",
    "    print(\"Não há alagamentos neste dia!\")\n",
    "\n",
    "else:\n",
    "    # -------find flood list-------\n",
    "    for j in lista_alagamentos:\n",
    "        pontos_alagamentos = j.find_all(\n",
    "            class_=\"ponto-de-alagamento\"\n",
    "        )\n",
    "\n",
    "        # -------find flood point-------\n",
    "        for k in pontos_alagamentos:\n",
    "            # -------find status-------\n",
    "            if (k.find(class_=\"ativo-transitavel\")) or (\n",
    "                k.find(class_=\"inativo-transitavel\")\n",
    "            ):\n",
    "                status = \"transitavel\"\n",
    "            elif (k.find(class_=\"ativo-intransitavel\")) or (\n",
    "                k.find(class_=\"inativo-intransitavel\")\n",
    "            ):\n",
    "                status = \"intransitavel\"\n",
    "\n",
    "            # -------find addres and reference-------\n",
    "            end_ref = k.find_all(class_=\"arial-descr-alag\")\n",
    "\n",
    "            cont_end_ref = 0\n",
    "            for l in end_ref:\n",
    "                features = l.find_all(text=True)\n",
    "\n",
    "                cont_features = 0\n",
    "                for m in features:\n",
    "                    if cont_end_ref == 0 and cont_features == 0:\n",
    "                        periodo = m\n",
    "                    elif cont_end_ref == 1 and cont_features == 0:\n",
    "                        endereco = m\n",
    "                    elif cont_end_ref == 0 and cont_features == 1:\n",
    "                        sentido = m\n",
    "                    elif cont_end_ref == 1 and cont_features == 1:\n",
    "                        referencia = m\n",
    "\n",
    "                    cont_features += 1\n",
    "                cont_end_ref += 1\n",
    "\n",
    "            # --------------------Save into DF--------------------\n",
    "            tam = len(df) + 1\n",
    "\n",
    "            df.loc[tam, \"data\"] = i\n",
    "            df.loc[tam, \"periodo\"] = periodo\n",
    "            df.loc[tam, \"endereco\"] = endereco\n",
    "            df.loc[tam, \"sentido\"] = sentido\n",
    "            df.loc[tam, \"referencia\"] = referencia\n",
    "            df.loc[tam, \"status\"] = status\n",
    "            df.loc[tam, \"url_base\"] = url_base\n",
    "            df.loc[tam, \"string\"] = end_ref\n",
    "\n",
    "            print(tam)\n",
    "            print(\"--------------------------\")\n",
    "            print(\"data: \", i)\n",
    "            print(\"periodo: \", periodo)\n",
    "            print(\"endereco: \", endereco)\n",
    "            print(\"sentido: \", sentido)\n",
    "            print(\"referencia: \", referencia)\n",
    "            print(\"status: \", status)\n",
    "            print(\"url_base: \", url_base)\n",
    "            print(\"string: \", end_ref)\n",
    "            print(\"--------------------------\")"
   ]
  }
 ],
 "metadata": {
  "kernelspec": {
   "display_name": "new_env",
   "language": "python",
   "name": "python3"
  },
  "language_info": {
   "codemirror_mode": {
    "name": "ipython",
    "version": 3
   },
   "file_extension": ".py",
   "mimetype": "text/x-python",
   "name": "python",
   "nbconvert_exporter": "python",
   "pygments_lexer": "ipython3",
   "version": "3.11.4"
  }
 },
 "nbformat": 4,
 "nbformat_minor": 2
}
